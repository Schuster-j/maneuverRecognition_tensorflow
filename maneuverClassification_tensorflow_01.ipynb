{
 "cells": [
  {
   "attachments": {},
   "cell_type": "markdown",
   "metadata": {},
   "source": [
    "# Maneuver Classification with rolling windows and LSTM"
   ]
  },
  {
   "cell_type": "code",
   "execution_count": 1,
   "metadata": {},
   "outputs": [
    {
     "name": "stderr",
     "output_type": "stream",
     "text": [
      "2023-06-27 21:26:58.654073: I tensorflow/core/platform/cpu_feature_guard.cc:193] This TensorFlow binary is optimized with oneAPI Deep Neural Network Library (oneDNN) to use the following CPU instructions in performance-critical operations:  SSE4.1 SSE4.2 AVX AVX2 FMA\n",
      "To enable them in other operations, rebuild TensorFlow with the appropriate compiler flags.\n"
     ]
    }
   ],
   "source": [
    "import pandas as pd\n",
    "import numpy as np\n",
    "import matplotlib.pyplot as plt\n",
    "import seaborn as sns\n",
    "import plotly.express as px\n",
    "import plotly.graph_objs as go\n",
    "from sklearn.metrics import confusion_matrix\n",
    "from scipy import stats\n",
    "\n",
    "import tensorflow as tf\n",
    "from tensorflow import keras\n",
    "from sklearn import preprocessing\n",
    "from sklearn.model_selection import train_test_split\n",
    "from sklearn.preprocessing import OneHotEncoder\n",
    "from sklearn.preprocessing import RobustScaler\n",
    "\n",
    "from numpy.random import default_rng\n",
    "import math"
   ]
  },
  {
   "cell_type": "code",
   "execution_count": 2,
   "metadata": {},
   "outputs": [
    {
     "data": {
      "text/html": [
       "<div>\n",
       "<style scoped>\n",
       "    .dataframe tbody tr th:only-of-type {\n",
       "        vertical-align: middle;\n",
       "    }\n",
       "\n",
       "    .dataframe tbody tr th {\n",
       "        vertical-align: top;\n",
       "    }\n",
       "\n",
       "    .dataframe thead th {\n",
       "        text-align: right;\n",
       "    }\n",
       "</style>\n",
       "<table border=\"1\" class=\"dataframe\">\n",
       "  <thead>\n",
       "    <tr style=\"text-align: right;\">\n",
       "      <th></th>\n",
       "      <th>datetime</th>\n",
       "      <th>accX</th>\n",
       "      <th>accY</th>\n",
       "      <th>accZ</th>\n",
       "      <th>gyroX</th>\n",
       "      <th>gyroY</th>\n",
       "      <th>gyroZ</th>\n",
       "      <th>latitude</th>\n",
       "      <th>longitude</th>\n",
       "      <th>altitude</th>\n",
       "      <th>accuracy</th>\n",
       "      <th>speed</th>\n",
       "      <th>maneuverID</th>\n",
       "      <th>maneuverType</th>\n",
       "      <th>maneuverElement</th>\n",
       "      <th>section</th>\n",
       "      <th>roadType</th>\n",
       "      <th>vehicle</th>\n",
       "      <th>person</th>\n",
       "    </tr>\n",
       "  </thead>\n",
       "  <tbody>\n",
       "    <tr>\n",
       "      <th>0</th>\n",
       "      <td>2023-01-06 10:44:29.466</td>\n",
       "      <td>0.021387</td>\n",
       "      <td>-0.006456</td>\n",
       "      <td>-0.084595</td>\n",
       "      <td>-0.072036</td>\n",
       "      <td>-0.009720</td>\n",
       "      <td>-0.006924</td>\n",
       "      <td>52.366269</td>\n",
       "      <td>9.761421</td>\n",
       "      <td>98.700005</td>\n",
       "      <td>11.716</td>\n",
       "      <td>0.060892</td>\n",
       "      <td>000000-P1M</td>\n",
       "      <td>stationary</td>\n",
       "      <td>stationary</td>\n",
       "      <td>1</td>\n",
       "      <td>Stadtstraße</td>\n",
       "      <td>Skoda Fabia</td>\n",
       "      <td>P01</td>\n",
       "    </tr>\n",
       "    <tr>\n",
       "      <th>1</th>\n",
       "      <td>2023-01-06 10:44:29.958</td>\n",
       "      <td>0.023271</td>\n",
       "      <td>0.100068</td>\n",
       "      <td>0.143770</td>\n",
       "      <td>0.013182</td>\n",
       "      <td>0.004794</td>\n",
       "      <td>0.000399</td>\n",
       "      <td>52.366269</td>\n",
       "      <td>9.761421</td>\n",
       "      <td>98.700005</td>\n",
       "      <td>11.716</td>\n",
       "      <td>0.060892</td>\n",
       "      <td>000000-P1M</td>\n",
       "      <td>stationary</td>\n",
       "      <td>stationary</td>\n",
       "      <td>1</td>\n",
       "      <td>Stadtstraße</td>\n",
       "      <td>Skoda Fabia</td>\n",
       "      <td>P01</td>\n",
       "    </tr>\n",
       "    <tr>\n",
       "      <th>2</th>\n",
       "      <td>2023-01-06 10:44:30.456</td>\n",
       "      <td>0.030368</td>\n",
       "      <td>-0.006946</td>\n",
       "      <td>0.019102</td>\n",
       "      <td>0.000000</td>\n",
       "      <td>-0.001997</td>\n",
       "      <td>0.001198</td>\n",
       "      <td>52.366270</td>\n",
       "      <td>9.761421</td>\n",
       "      <td>98.700005</td>\n",
       "      <td>9.591</td>\n",
       "      <td>0.035770</td>\n",
       "      <td>000000-P1M</td>\n",
       "      <td>stationary</td>\n",
       "      <td>stationary</td>\n",
       "      <td>1</td>\n",
       "      <td>Stadtstraße</td>\n",
       "      <td>Skoda Fabia</td>\n",
       "      <td>P01</td>\n",
       "    </tr>\n",
       "    <tr>\n",
       "      <th>3</th>\n",
       "      <td>2023-01-06 10:44:30.957</td>\n",
       "      <td>0.012233</td>\n",
       "      <td>-0.005673</td>\n",
       "      <td>0.002899</td>\n",
       "      <td>0.000266</td>\n",
       "      <td>0.001198</td>\n",
       "      <td>0.001065</td>\n",
       "      <td>52.366270</td>\n",
       "      <td>9.761421</td>\n",
       "      <td>98.700005</td>\n",
       "      <td>9.591</td>\n",
       "      <td>0.035770</td>\n",
       "      <td>000000-P1M</td>\n",
       "      <td>stationary</td>\n",
       "      <td>stationary</td>\n",
       "      <td>1</td>\n",
       "      <td>Stadtstraße</td>\n",
       "      <td>Skoda Fabia</td>\n",
       "      <td>P01</td>\n",
       "    </tr>\n",
       "    <tr>\n",
       "      <th>4</th>\n",
       "      <td>2023-01-06 10:44:31.456</td>\n",
       "      <td>0.017861</td>\n",
       "      <td>0.001417</td>\n",
       "      <td>0.017249</td>\n",
       "      <td>-0.001332</td>\n",
       "      <td>-0.002397</td>\n",
       "      <td>0.000399</td>\n",
       "      <td>52.366270</td>\n",
       "      <td>9.761421</td>\n",
       "      <td>98.700005</td>\n",
       "      <td>9.591</td>\n",
       "      <td>0.035770</td>\n",
       "      <td>000000-P1M</td>\n",
       "      <td>stationary</td>\n",
       "      <td>stationary</td>\n",
       "      <td>1</td>\n",
       "      <td>Stadtstraße</td>\n",
       "      <td>Skoda Fabia</td>\n",
       "      <td>P01</td>\n",
       "    </tr>\n",
       "  </tbody>\n",
       "</table>\n",
       "</div>"
      ],
      "text/plain": [
       "                  datetime      accX      accY      accZ     gyroX     gyroY  \\\n",
       "0  2023-01-06 10:44:29.466  0.021387 -0.006456 -0.084595 -0.072036 -0.009720   \n",
       "1  2023-01-06 10:44:29.958  0.023271  0.100068  0.143770  0.013182  0.004794   \n",
       "2  2023-01-06 10:44:30.456  0.030368 -0.006946  0.019102  0.000000 -0.001997   \n",
       "3  2023-01-06 10:44:30.957  0.012233 -0.005673  0.002899  0.000266  0.001198   \n",
       "4  2023-01-06 10:44:31.456  0.017861  0.001417  0.017249 -0.001332 -0.002397   \n",
       "\n",
       "      gyroZ   latitude  longitude   altitude  accuracy     speed  maneuverID  \\\n",
       "0 -0.006924  52.366269   9.761421  98.700005    11.716  0.060892  000000-P1M   \n",
       "1  0.000399  52.366269   9.761421  98.700005    11.716  0.060892  000000-P1M   \n",
       "2  0.001198  52.366270   9.761421  98.700005     9.591  0.035770  000000-P1M   \n",
       "3  0.001065  52.366270   9.761421  98.700005     9.591  0.035770  000000-P1M   \n",
       "4  0.000399  52.366270   9.761421  98.700005     9.591  0.035770  000000-P1M   \n",
       "\n",
       "  maneuverType maneuverElement  section     roadType      vehicle person  \n",
       "0   stationary      stationary        1  Stadtstraße  Skoda Fabia    P01  \n",
       "1   stationary      stationary        1  Stadtstraße  Skoda Fabia    P01  \n",
       "2   stationary      stationary        1  Stadtstraße  Skoda Fabia    P01  \n",
       "3   stationary      stationary        1  Stadtstraße  Skoda Fabia    P01  \n",
       "4   stationary      stationary        1  Stadtstraße  Skoda Fabia    P01  "
      ]
     },
     "execution_count": 2,
     "metadata": {},
     "output_type": "execute_result"
    }
   ],
   "source": [
    "df = pd.read_csv(\"data/SensorRec_data_eng.csv\")\n",
    "df.head(5)"
   ]
  },
  {
   "attachments": {},
   "cell_type": "markdown",
   "metadata": {},
   "source": [
    "# Data cleaning & preparation:"
   ]
  },
  {
   "cell_type": "code",
   "execution_count": 3,
   "metadata": {},
   "outputs": [
    {
     "data": {
      "application/vnd.plotly.v1+json": {
       "config": {
        "plotlyServerURL": "https://plot.ly"
       },
       "data": [
        {
         "alignmentgroup": "True",
         "hovertemplate": "x=%{x}<br>y=%{y}<extra></extra>",
         "legendgroup": "",
         "marker": {
          "color": "#636efa",
          "pattern": {
           "shape": ""
          }
         },
         "name": "",
         "offsetgroup": "",
         "orientation": "v",
         "showlegend": false,
         "textposition": "auto",
         "type": "bar",
         "x": [
          "continuous_driving",
          "targeted_braking",
          "stationary",
          "acceleration_from_standing",
          "curve_left",
          "curve_right",
          "turn_left",
          "turn_right",
          "crossing_intersection",
          "crossing_roundabout",
          "deceleration_lane",
          "overtaking",
          "acceleration_lane"
         ],
         "xaxis": "x",
         "y": [
          412,
          113,
          85,
          70,
          68,
          67,
          39,
          36,
          19,
          9,
          9,
          4,
          3
         ],
         "yaxis": "y"
        }
       ],
       "layout": {
        "barmode": "relative",
        "legend": {
         "tracegroupgap": 0
        },
        "template": {
         "data": {
          "bar": [
           {
            "error_x": {
             "color": "#2a3f5f"
            },
            "error_y": {
             "color": "#2a3f5f"
            },
            "marker": {
             "line": {
              "color": "#E5ECF6",
              "width": 0.5
             },
             "pattern": {
              "fillmode": "overlay",
              "size": 10,
              "solidity": 0.2
             }
            },
            "type": "bar"
           }
          ],
          "barpolar": [
           {
            "marker": {
             "line": {
              "color": "#E5ECF6",
              "width": 0.5
             },
             "pattern": {
              "fillmode": "overlay",
              "size": 10,
              "solidity": 0.2
             }
            },
            "type": "barpolar"
           }
          ],
          "carpet": [
           {
            "aaxis": {
             "endlinecolor": "#2a3f5f",
             "gridcolor": "white",
             "linecolor": "white",
             "minorgridcolor": "white",
             "startlinecolor": "#2a3f5f"
            },
            "baxis": {
             "endlinecolor": "#2a3f5f",
             "gridcolor": "white",
             "linecolor": "white",
             "minorgridcolor": "white",
             "startlinecolor": "#2a3f5f"
            },
            "type": "carpet"
           }
          ],
          "choropleth": [
           {
            "colorbar": {
             "outlinewidth": 0,
             "ticks": ""
            },
            "type": "choropleth"
           }
          ],
          "contour": [
           {
            "colorbar": {
             "outlinewidth": 0,
             "ticks": ""
            },
            "colorscale": [
             [
              0,
              "#0d0887"
             ],
             [
              0.1111111111111111,
              "#46039f"
             ],
             [
              0.2222222222222222,
              "#7201a8"
             ],
             [
              0.3333333333333333,
              "#9c179e"
             ],
             [
              0.4444444444444444,
              "#bd3786"
             ],
             [
              0.5555555555555556,
              "#d8576b"
             ],
             [
              0.6666666666666666,
              "#ed7953"
             ],
             [
              0.7777777777777778,
              "#fb9f3a"
             ],
             [
              0.8888888888888888,
              "#fdca26"
             ],
             [
              1,
              "#f0f921"
             ]
            ],
            "type": "contour"
           }
          ],
          "contourcarpet": [
           {
            "colorbar": {
             "outlinewidth": 0,
             "ticks": ""
            },
            "type": "contourcarpet"
           }
          ],
          "heatmap": [
           {
            "colorbar": {
             "outlinewidth": 0,
             "ticks": ""
            },
            "colorscale": [
             [
              0,
              "#0d0887"
             ],
             [
              0.1111111111111111,
              "#46039f"
             ],
             [
              0.2222222222222222,
              "#7201a8"
             ],
             [
              0.3333333333333333,
              "#9c179e"
             ],
             [
              0.4444444444444444,
              "#bd3786"
             ],
             [
              0.5555555555555556,
              "#d8576b"
             ],
             [
              0.6666666666666666,
              "#ed7953"
             ],
             [
              0.7777777777777778,
              "#fb9f3a"
             ],
             [
              0.8888888888888888,
              "#fdca26"
             ],
             [
              1,
              "#f0f921"
             ]
            ],
            "type": "heatmap"
           }
          ],
          "heatmapgl": [
           {
            "colorbar": {
             "outlinewidth": 0,
             "ticks": ""
            },
            "colorscale": [
             [
              0,
              "#0d0887"
             ],
             [
              0.1111111111111111,
              "#46039f"
             ],
             [
              0.2222222222222222,
              "#7201a8"
             ],
             [
              0.3333333333333333,
              "#9c179e"
             ],
             [
              0.4444444444444444,
              "#bd3786"
             ],
             [
              0.5555555555555556,
              "#d8576b"
             ],
             [
              0.6666666666666666,
              "#ed7953"
             ],
             [
              0.7777777777777778,
              "#fb9f3a"
             ],
             [
              0.8888888888888888,
              "#fdca26"
             ],
             [
              1,
              "#f0f921"
             ]
            ],
            "type": "heatmapgl"
           }
          ],
          "histogram": [
           {
            "marker": {
             "pattern": {
              "fillmode": "overlay",
              "size": 10,
              "solidity": 0.2
             }
            },
            "type": "histogram"
           }
          ],
          "histogram2d": [
           {
            "colorbar": {
             "outlinewidth": 0,
             "ticks": ""
            },
            "colorscale": [
             [
              0,
              "#0d0887"
             ],
             [
              0.1111111111111111,
              "#46039f"
             ],
             [
              0.2222222222222222,
              "#7201a8"
             ],
             [
              0.3333333333333333,
              "#9c179e"
             ],
             [
              0.4444444444444444,
              "#bd3786"
             ],
             [
              0.5555555555555556,
              "#d8576b"
             ],
             [
              0.6666666666666666,
              "#ed7953"
             ],
             [
              0.7777777777777778,
              "#fb9f3a"
             ],
             [
              0.8888888888888888,
              "#fdca26"
             ],
             [
              1,
              "#f0f921"
             ]
            ],
            "type": "histogram2d"
           }
          ],
          "histogram2dcontour": [
           {
            "colorbar": {
             "outlinewidth": 0,
             "ticks": ""
            },
            "colorscale": [
             [
              0,
              "#0d0887"
             ],
             [
              0.1111111111111111,
              "#46039f"
             ],
             [
              0.2222222222222222,
              "#7201a8"
             ],
             [
              0.3333333333333333,
              "#9c179e"
             ],
             [
              0.4444444444444444,
              "#bd3786"
             ],
             [
              0.5555555555555556,
              "#d8576b"
             ],
             [
              0.6666666666666666,
              "#ed7953"
             ],
             [
              0.7777777777777778,
              "#fb9f3a"
             ],
             [
              0.8888888888888888,
              "#fdca26"
             ],
             [
              1,
              "#f0f921"
             ]
            ],
            "type": "histogram2dcontour"
           }
          ],
          "mesh3d": [
           {
            "colorbar": {
             "outlinewidth": 0,
             "ticks": ""
            },
            "type": "mesh3d"
           }
          ],
          "parcoords": [
           {
            "line": {
             "colorbar": {
              "outlinewidth": 0,
              "ticks": ""
             }
            },
            "type": "parcoords"
           }
          ],
          "pie": [
           {
            "automargin": true,
            "type": "pie"
           }
          ],
          "scatter": [
           {
            "fillpattern": {
             "fillmode": "overlay",
             "size": 10,
             "solidity": 0.2
            },
            "type": "scatter"
           }
          ],
          "scatter3d": [
           {
            "line": {
             "colorbar": {
              "outlinewidth": 0,
              "ticks": ""
             }
            },
            "marker": {
             "colorbar": {
              "outlinewidth": 0,
              "ticks": ""
             }
            },
            "type": "scatter3d"
           }
          ],
          "scattercarpet": [
           {
            "marker": {
             "colorbar": {
              "outlinewidth": 0,
              "ticks": ""
             }
            },
            "type": "scattercarpet"
           }
          ],
          "scattergeo": [
           {
            "marker": {
             "colorbar": {
              "outlinewidth": 0,
              "ticks": ""
             }
            },
            "type": "scattergeo"
           }
          ],
          "scattergl": [
           {
            "marker": {
             "colorbar": {
              "outlinewidth": 0,
              "ticks": ""
             }
            },
            "type": "scattergl"
           }
          ],
          "scattermapbox": [
           {
            "marker": {
             "colorbar": {
              "outlinewidth": 0,
              "ticks": ""
             }
            },
            "type": "scattermapbox"
           }
          ],
          "scatterpolar": [
           {
            "marker": {
             "colorbar": {
              "outlinewidth": 0,
              "ticks": ""
             }
            },
            "type": "scatterpolar"
           }
          ],
          "scatterpolargl": [
           {
            "marker": {
             "colorbar": {
              "outlinewidth": 0,
              "ticks": ""
             }
            },
            "type": "scatterpolargl"
           }
          ],
          "scatterternary": [
           {
            "marker": {
             "colorbar": {
              "outlinewidth": 0,
              "ticks": ""
             }
            },
            "type": "scatterternary"
           }
          ],
          "surface": [
           {
            "colorbar": {
             "outlinewidth": 0,
             "ticks": ""
            },
            "colorscale": [
             [
              0,
              "#0d0887"
             ],
             [
              0.1111111111111111,
              "#46039f"
             ],
             [
              0.2222222222222222,
              "#7201a8"
             ],
             [
              0.3333333333333333,
              "#9c179e"
             ],
             [
              0.4444444444444444,
              "#bd3786"
             ],
             [
              0.5555555555555556,
              "#d8576b"
             ],
             [
              0.6666666666666666,
              "#ed7953"
             ],
             [
              0.7777777777777778,
              "#fb9f3a"
             ],
             [
              0.8888888888888888,
              "#fdca26"
             ],
             [
              1,
              "#f0f921"
             ]
            ],
            "type": "surface"
           }
          ],
          "table": [
           {
            "cells": {
             "fill": {
              "color": "#EBF0F8"
             },
             "line": {
              "color": "white"
             }
            },
            "header": {
             "fill": {
              "color": "#C8D4E3"
             },
             "line": {
              "color": "white"
             }
            },
            "type": "table"
           }
          ]
         },
         "layout": {
          "annotationdefaults": {
           "arrowcolor": "#2a3f5f",
           "arrowhead": 0,
           "arrowwidth": 1
          },
          "autotypenumbers": "strict",
          "coloraxis": {
           "colorbar": {
            "outlinewidth": 0,
            "ticks": ""
           }
          },
          "colorscale": {
           "diverging": [
            [
             0,
             "#8e0152"
            ],
            [
             0.1,
             "#c51b7d"
            ],
            [
             0.2,
             "#de77ae"
            ],
            [
             0.3,
             "#f1b6da"
            ],
            [
             0.4,
             "#fde0ef"
            ],
            [
             0.5,
             "#f7f7f7"
            ],
            [
             0.6,
             "#e6f5d0"
            ],
            [
             0.7,
             "#b8e186"
            ],
            [
             0.8,
             "#7fbc41"
            ],
            [
             0.9,
             "#4d9221"
            ],
            [
             1,
             "#276419"
            ]
           ],
           "sequential": [
            [
             0,
             "#0d0887"
            ],
            [
             0.1111111111111111,
             "#46039f"
            ],
            [
             0.2222222222222222,
             "#7201a8"
            ],
            [
             0.3333333333333333,
             "#9c179e"
            ],
            [
             0.4444444444444444,
             "#bd3786"
            ],
            [
             0.5555555555555556,
             "#d8576b"
            ],
            [
             0.6666666666666666,
             "#ed7953"
            ],
            [
             0.7777777777777778,
             "#fb9f3a"
            ],
            [
             0.8888888888888888,
             "#fdca26"
            ],
            [
             1,
             "#f0f921"
            ]
           ],
           "sequentialminus": [
            [
             0,
             "#0d0887"
            ],
            [
             0.1111111111111111,
             "#46039f"
            ],
            [
             0.2222222222222222,
             "#7201a8"
            ],
            [
             0.3333333333333333,
             "#9c179e"
            ],
            [
             0.4444444444444444,
             "#bd3786"
            ],
            [
             0.5555555555555556,
             "#d8576b"
            ],
            [
             0.6666666666666666,
             "#ed7953"
            ],
            [
             0.7777777777777778,
             "#fb9f3a"
            ],
            [
             0.8888888888888888,
             "#fdca26"
            ],
            [
             1,
             "#f0f921"
            ]
           ]
          },
          "colorway": [
           "#636efa",
           "#EF553B",
           "#00cc96",
           "#ab63fa",
           "#FFA15A",
           "#19d3f3",
           "#FF6692",
           "#B6E880",
           "#FF97FF",
           "#FECB52"
          ],
          "font": {
           "color": "#2a3f5f"
          },
          "geo": {
           "bgcolor": "white",
           "lakecolor": "white",
           "landcolor": "#E5ECF6",
           "showlakes": true,
           "showland": true,
           "subunitcolor": "white"
          },
          "hoverlabel": {
           "align": "left"
          },
          "hovermode": "closest",
          "mapbox": {
           "style": "light"
          },
          "paper_bgcolor": "white",
          "plot_bgcolor": "#E5ECF6",
          "polar": {
           "angularaxis": {
            "gridcolor": "white",
            "linecolor": "white",
            "ticks": ""
           },
           "bgcolor": "#E5ECF6",
           "radialaxis": {
            "gridcolor": "white",
            "linecolor": "white",
            "ticks": ""
           }
          },
          "scene": {
           "xaxis": {
            "backgroundcolor": "#E5ECF6",
            "gridcolor": "white",
            "gridwidth": 2,
            "linecolor": "white",
            "showbackground": true,
            "ticks": "",
            "zerolinecolor": "white"
           },
           "yaxis": {
            "backgroundcolor": "#E5ECF6",
            "gridcolor": "white",
            "gridwidth": 2,
            "linecolor": "white",
            "showbackground": true,
            "ticks": "",
            "zerolinecolor": "white"
           },
           "zaxis": {
            "backgroundcolor": "#E5ECF6",
            "gridcolor": "white",
            "gridwidth": 2,
            "linecolor": "white",
            "showbackground": true,
            "ticks": "",
            "zerolinecolor": "white"
           }
          },
          "shapedefaults": {
           "line": {
            "color": "#2a3f5f"
           }
          },
          "ternary": {
           "aaxis": {
            "gridcolor": "white",
            "linecolor": "white",
            "ticks": ""
           },
           "baxis": {
            "gridcolor": "white",
            "linecolor": "white",
            "ticks": ""
           },
           "bgcolor": "#E5ECF6",
           "caxis": {
            "gridcolor": "white",
            "linecolor": "white",
            "ticks": ""
           }
          },
          "title": {
           "x": 0.05
          },
          "xaxis": {
           "automargin": true,
           "gridcolor": "white",
           "linecolor": "white",
           "ticks": "",
           "title": {
            "standoff": 15
           },
           "zerolinecolor": "white",
           "zerolinewidth": 2
          },
          "yaxis": {
           "automargin": true,
           "gridcolor": "white",
           "linecolor": "white",
           "ticks": "",
           "title": {
            "standoff": 15
           },
           "zerolinecolor": "white",
           "zerolinewidth": 2
          }
         }
        },
        "title": {
         "text": "Amount of maneuvers per type"
        },
        "xaxis": {
         "anchor": "y",
         "domain": [
          0,
          1
         ],
         "title": {
          "text": "maneuver"
         }
        },
        "yaxis": {
         "anchor": "x",
         "domain": [
          0,
          1
         ],
         "title": {
          "text": "Amount of entries"
         }
        }
       }
      }
     },
     "metadata": {},
     "output_type": "display_data"
    }
   ],
   "source": [
    "unique_maneuvers = df.drop_duplicates(subset=['maneuverID','maneuverType'])['maneuverType'].value_counts()\n",
    "\n",
    "fig = px.bar(x=unique_maneuvers.index, y=unique_maneuvers.values,\n",
    "            title='Amount of maneuvers per type')\n",
    "\n",
    "fig.update_xaxes(title_text='maneuver')\n",
    "fig.update_yaxes(title_text='Amount of entries')\n",
    "fig.show()"
   ]
  },
  {
   "attachments": {},
   "cell_type": "markdown",
   "metadata": {},
   "source": [
    "Dropping maneuvers with less than 30 cases:\n"
   ]
  },
  {
   "cell_type": "code",
   "execution_count": 4,
   "metadata": {},
   "outputs": [
    {
     "data": {
      "text/plain": [
       "array(['stationary', 'curve_right', 'curve_left', 'continuous_driving',\n",
       "       'turn_left', 'turn_right', 'targeted_braking',\n",
       "       'acceleration_from_standing'], dtype=object)"
      ]
     },
     "execution_count": 4,
     "metadata": {},
     "output_type": "execute_result"
    }
   ],
   "source": [
    "df = df.drop(df[(df.maneuverType == 'acceleration_lane') | (df.maneuverType == 'overtaking') |\n",
    "                         (df.maneuverType == 'deceleration_lane') | (df.maneuverType == 'crossing_roundabout') |\n",
    "                         (df.maneuverType == 'crossing_intersection')].index)\n",
    "\n",
    "# drop every 2nd row of 'Fahren_kontinuierlich' and 'Stand'ArithmeticError\n",
    "\n",
    "index_fahren = df[df['maneuverType'] == 'Fahren_kontinuierlich'].index[::2]\n",
    "index_stand = df[df['maneuverType'] == 'Stand'].index[::2]\n",
    "\n",
    "df = df.drop(index_fahren)\n",
    "df = df.drop(index_stand)\n",
    "\n",
    "df.maneuverType.unique()"
   ]
  },
  {
   "cell_type": "code",
   "execution_count": 5,
   "metadata": {},
   "outputs": [],
   "source": [
    "def create_dataset(X, y, time_steps=1, step=1):\n",
    "    Xs, ys = [], []\n",
    "    for i in range(0, len(X) - time_steps, step):\n",
    "        v = X.iloc[i:(i + time_steps)].values\n",
    "        labels = y.iloc[i: i + time_steps]\n",
    "        Xs.append(v)        \n",
    "        ys.append(stats.mode(labels)[0][0])\n",
    "    return np.array(Xs), np.array(ys).reshape(-1, 1)\n",
    "\n",
    "def sliced_train_test(df, X_vars, y_var, splits, test_size, time_steps, stepsize):\n",
    "    split_list = np.array_split(df, splits)\n",
    "    \n",
    "    rng = default_rng()\n",
    "    numbers = rng.choice(splits, size=math.floor(splits*test_size), replace=False)\n",
    "\n",
    "    df_full = df.copy()\n",
    "\n",
    "    # remove test slices from dataframe\n",
    "    for num in numbers:\n",
    "        df = df.drop(split_list[num].index)\n",
    "\n",
    "    # Scale based on training data\n",
    "    scaler = RobustScaler()\n",
    "    scaler = scaler.fit(df[X_vars])\n",
    "    df.loc[:, X_vars] = scaler.transform(df[X_vars].to_numpy())\n",
    "\n",
    "    # sample test splits based on random numbers\n",
    "    X_test, y_test = [], []\n",
    "    for num in numbers:\n",
    "        split_idx = split_list[num].index\n",
    "        \n",
    "        extract = df_full.loc[split_idx,:]\n",
    "        extract.loc[:, X_vars] = scaler.transform(extract[X_vars].to_numpy())\n",
    "        \n",
    "        X_slice, y_slice = create_dataset(extract[X_vars], extract[y_var], time_steps, stepsize)\n",
    "\n",
    "        X_test.append(X_slice)\n",
    "        y_test.append(y_slice)\n",
    "    \n",
    "    X_test, y_test = np.vstack(X_test), np.vstack(y_test)\n",
    "    #y_test = np.vstack(y_test)\n",
    "\n",
    "    X_train, y_train = create_dataset(df[X_vars], df[y_var], time_steps, stepsize)\n",
    "    \n",
    "    return X_train, y_train, X_test, y_test"
   ]
  },
  {
   "cell_type": "code",
   "execution_count": null,
   "metadata": {},
   "outputs": [],
   "source": []
  },
  {
   "cell_type": "code",
   "execution_count": 6,
   "metadata": {},
   "outputs": [
    {
     "name": "stderr",
     "output_type": "stream",
     "text": [
      "/opt/anaconda3/envs/p3-8-tensorflow04-telematic/lib/python3.8/site-packages/sklearn/base.py:439: UserWarning:\n",
      "\n",
      "X does not have valid feature names, but RobustScaler was fitted with feature names\n",
      "\n",
      "/opt/anaconda3/envs/p3-8-tensorflow04-telematic/lib/python3.8/site-packages/sklearn/base.py:439: UserWarning:\n",
      "\n",
      "X does not have valid feature names, but RobustScaler was fitted with feature names\n",
      "\n",
      "/var/folders/_1/6fqc4jrn1n78r_dr5zwl5ctc0000gn/T/ipykernel_2406/4152217424.py:7: FutureWarning:\n",
      "\n",
      "Unlike other reduction functions (e.g. `skew`, `kurtosis`), the default behavior of `mode` typically preserves the axis it acts along. In SciPy 1.11.0, this behavior will change: the default value of `keepdims` will become False, the `axis` over which the statistic is taken will be eliminated, and the value None will no longer be accepted. Set `keepdims` to True or False to avoid this warning.\n",
      "\n",
      "/var/folders/_1/6fqc4jrn1n78r_dr5zwl5ctc0000gn/T/ipykernel_2406/4152217424.py:7: DeprecationWarning:\n",
      "\n",
      "Support for non-numeric arrays has been deprecated as of SciPy 1.9.0 and will be removed in 1.11.0. `pandas.DataFrame.mode` can be used instead, see https://pandas.pydata.org/docs/reference/api/pandas.DataFrame.mode.html.\n",
      "\n",
      "/opt/anaconda3/envs/p3-8-tensorflow04-telematic/lib/python3.8/site-packages/sklearn/base.py:439: UserWarning:\n",
      "\n",
      "X does not have valid feature names, but RobustScaler was fitted with feature names\n",
      "\n",
      "/var/folders/_1/6fqc4jrn1n78r_dr5zwl5ctc0000gn/T/ipykernel_2406/4152217424.py:7: FutureWarning:\n",
      "\n",
      "Unlike other reduction functions (e.g. `skew`, `kurtosis`), the default behavior of `mode` typically preserves the axis it acts along. In SciPy 1.11.0, this behavior will change: the default value of `keepdims` will become False, the `axis` over which the statistic is taken will be eliminated, and the value None will no longer be accepted. Set `keepdims` to True or False to avoid this warning.\n",
      "\n",
      "/var/folders/_1/6fqc4jrn1n78r_dr5zwl5ctc0000gn/T/ipykernel_2406/4152217424.py:7: DeprecationWarning:\n",
      "\n",
      "Support for non-numeric arrays has been deprecated as of SciPy 1.9.0 and will be removed in 1.11.0. `pandas.DataFrame.mode` can be used instead, see https://pandas.pydata.org/docs/reference/api/pandas.DataFrame.mode.html.\n",
      "\n",
      "/var/folders/_1/6fqc4jrn1n78r_dr5zwl5ctc0000gn/T/ipykernel_2406/4152217424.py:7: FutureWarning:\n",
      "\n",
      "Unlike other reduction functions (e.g. `skew`, `kurtosis`), the default behavior of `mode` typically preserves the axis it acts along. In SciPy 1.11.0, this behavior will change: the default value of `keepdims` will become False, the `axis` over which the statistic is taken will be eliminated, and the value None will no longer be accepted. Set `keepdims` to True or False to avoid this warning.\n",
      "\n",
      "/var/folders/_1/6fqc4jrn1n78r_dr5zwl5ctc0000gn/T/ipykernel_2406/4152217424.py:7: DeprecationWarning:\n",
      "\n",
      "Support for non-numeric arrays has been deprecated as of SciPy 1.9.0 and will be removed in 1.11.0. `pandas.DataFrame.mode` can be used instead, see https://pandas.pydata.org/docs/reference/api/pandas.DataFrame.mode.html.\n",
      "\n",
      "/opt/anaconda3/envs/p3-8-tensorflow04-telematic/lib/python3.8/site-packages/sklearn/base.py:439: UserWarning:\n",
      "\n",
      "X does not have valid feature names, but RobustScaler was fitted with feature names\n",
      "\n",
      "/opt/anaconda3/envs/p3-8-tensorflow04-telematic/lib/python3.8/site-packages/sklearn/base.py:439: UserWarning:\n",
      "\n",
      "X does not have valid feature names, but RobustScaler was fitted with feature names\n",
      "\n",
      "/var/folders/_1/6fqc4jrn1n78r_dr5zwl5ctc0000gn/T/ipykernel_2406/4152217424.py:7: FutureWarning:\n",
      "\n",
      "Unlike other reduction functions (e.g. `skew`, `kurtosis`), the default behavior of `mode` typically preserves the axis it acts along. In SciPy 1.11.0, this behavior will change: the default value of `keepdims` will become False, the `axis` over which the statistic is taken will be eliminated, and the value None will no longer be accepted. Set `keepdims` to True or False to avoid this warning.\n",
      "\n",
      "/var/folders/_1/6fqc4jrn1n78r_dr5zwl5ctc0000gn/T/ipykernel_2406/4152217424.py:7: DeprecationWarning:\n",
      "\n",
      "Support for non-numeric arrays has been deprecated as of SciPy 1.9.0 and will be removed in 1.11.0. `pandas.DataFrame.mode` can be used instead, see https://pandas.pydata.org/docs/reference/api/pandas.DataFrame.mode.html.\n",
      "\n",
      "/opt/anaconda3/envs/p3-8-tensorflow04-telematic/lib/python3.8/site-packages/sklearn/base.py:439: UserWarning:\n",
      "\n",
      "X does not have valid feature names, but RobustScaler was fitted with feature names\n",
      "\n",
      "/var/folders/_1/6fqc4jrn1n78r_dr5zwl5ctc0000gn/T/ipykernel_2406/4152217424.py:7: FutureWarning:\n",
      "\n",
      "Unlike other reduction functions (e.g. `skew`, `kurtosis`), the default behavior of `mode` typically preserves the axis it acts along. In SciPy 1.11.0, this behavior will change: the default value of `keepdims` will become False, the `axis` over which the statistic is taken will be eliminated, and the value None will no longer be accepted. Set `keepdims` to True or False to avoid this warning.\n",
      "\n",
      "/var/folders/_1/6fqc4jrn1n78r_dr5zwl5ctc0000gn/T/ipykernel_2406/4152217424.py:7: DeprecationWarning:\n",
      "\n",
      "Support for non-numeric arrays has been deprecated as of SciPy 1.9.0 and will be removed in 1.11.0. `pandas.DataFrame.mode` can be used instead, see https://pandas.pydata.org/docs/reference/api/pandas.DataFrame.mode.html.\n",
      "\n",
      "/var/folders/_1/6fqc4jrn1n78r_dr5zwl5ctc0000gn/T/ipykernel_2406/4152217424.py:7: FutureWarning:\n",
      "\n",
      "Unlike other reduction functions (e.g. `skew`, `kurtosis`), the default behavior of `mode` typically preserves the axis it acts along. In SciPy 1.11.0, this behavior will change: the default value of `keepdims` will become False, the `axis` over which the statistic is taken will be eliminated, and the value None will no longer be accepted. Set `keepdims` to True or False to avoid this warning.\n",
      "\n",
      "/var/folders/_1/6fqc4jrn1n78r_dr5zwl5ctc0000gn/T/ipykernel_2406/4152217424.py:7: DeprecationWarning:\n",
      "\n",
      "Support for non-numeric arrays has been deprecated as of SciPy 1.9.0 and will be removed in 1.11.0. `pandas.DataFrame.mode` can be used instead, see https://pandas.pydata.org/docs/reference/api/pandas.DataFrame.mode.html.\n",
      "\n",
      "/opt/anaconda3/envs/p3-8-tensorflow04-telematic/lib/python3.8/site-packages/sklearn/base.py:439: UserWarning:\n",
      "\n",
      "X does not have valid feature names, but RobustScaler was fitted with feature names\n",
      "\n",
      "/opt/anaconda3/envs/p3-8-tensorflow04-telematic/lib/python3.8/site-packages/sklearn/base.py:439: UserWarning:\n",
      "\n",
      "X does not have valid feature names, but RobustScaler was fitted with feature names\n",
      "\n",
      "/var/folders/_1/6fqc4jrn1n78r_dr5zwl5ctc0000gn/T/ipykernel_2406/4152217424.py:7: FutureWarning:\n",
      "\n",
      "Unlike other reduction functions (e.g. `skew`, `kurtosis`), the default behavior of `mode` typically preserves the axis it acts along. In SciPy 1.11.0, this behavior will change: the default value of `keepdims` will become False, the `axis` over which the statistic is taken will be eliminated, and the value None will no longer be accepted. Set `keepdims` to True or False to avoid this warning.\n",
      "\n",
      "/var/folders/_1/6fqc4jrn1n78r_dr5zwl5ctc0000gn/T/ipykernel_2406/4152217424.py:7: DeprecationWarning:\n",
      "\n",
      "Support for non-numeric arrays has been deprecated as of SciPy 1.9.0 and will be removed in 1.11.0. `pandas.DataFrame.mode` can be used instead, see https://pandas.pydata.org/docs/reference/api/pandas.DataFrame.mode.html.\n",
      "\n",
      "/opt/anaconda3/envs/p3-8-tensorflow04-telematic/lib/python3.8/site-packages/sklearn/base.py:439: UserWarning:\n",
      "\n",
      "X does not have valid feature names, but RobustScaler was fitted with feature names\n",
      "\n",
      "/var/folders/_1/6fqc4jrn1n78r_dr5zwl5ctc0000gn/T/ipykernel_2406/4152217424.py:7: FutureWarning:\n",
      "\n",
      "Unlike other reduction functions (e.g. `skew`, `kurtosis`), the default behavior of `mode` typically preserves the axis it acts along. In SciPy 1.11.0, this behavior will change: the default value of `keepdims` will become False, the `axis` over which the statistic is taken will be eliminated, and the value None will no longer be accepted. Set `keepdims` to True or False to avoid this warning.\n",
      "\n",
      "/var/folders/_1/6fqc4jrn1n78r_dr5zwl5ctc0000gn/T/ipykernel_2406/4152217424.py:7: DeprecationWarning:\n",
      "\n",
      "Support for non-numeric arrays has been deprecated as of SciPy 1.9.0 and will be removed in 1.11.0. `pandas.DataFrame.mode` can be used instead, see https://pandas.pydata.org/docs/reference/api/pandas.DataFrame.mode.html.\n",
      "\n",
      "/var/folders/_1/6fqc4jrn1n78r_dr5zwl5ctc0000gn/T/ipykernel_2406/4152217424.py:7: FutureWarning:\n",
      "\n",
      "Unlike other reduction functions (e.g. `skew`, `kurtosis`), the default behavior of `mode` typically preserves the axis it acts along. In SciPy 1.11.0, this behavior will change: the default value of `keepdims` will become False, the `axis` over which the statistic is taken will be eliminated, and the value None will no longer be accepted. Set `keepdims` to True or False to avoid this warning.\n",
      "\n",
      "/var/folders/_1/6fqc4jrn1n78r_dr5zwl5ctc0000gn/T/ipykernel_2406/4152217424.py:7: DeprecationWarning:\n",
      "\n",
      "Support for non-numeric arrays has been deprecated as of SciPy 1.9.0 and will be removed in 1.11.0. `pandas.DataFrame.mode` can be used instead, see https://pandas.pydata.org/docs/reference/api/pandas.DataFrame.mode.html.\n",
      "\n",
      "/opt/anaconda3/envs/p3-8-tensorflow04-telematic/lib/python3.8/site-packages/sklearn/preprocessing/_encoders.py:868: FutureWarning:\n",
      "\n",
      "`sparse` was renamed to `sparse_output` in version 1.2 and will be removed in 1.4. `sparse_output` is ignored unless you leave `sparse` to its default value.\n",
      "\n"
     ]
    }
   ],
   "source": [
    "df_p1 = df.loc[df['person']=='P01',:]\n",
    "df_p2 = df.loc[df['person']=='P02',:]\n",
    "df_p3 = df.loc[df['person']=='P03',:]\n",
    "\n",
    "x_vars = ['accX', 'accY', 'accZ', 'gyroX', 'gyroY', 'gyroZ', 'speed']\n",
    "y_var = 'maneuverType'\n",
    "splits = 10\n",
    "test_size = 0.2\n",
    "time_steps = 20\n",
    "stepsize = 1\n",
    "\n",
    "X_train1, y_train1, X_test1, y_test1 = sliced_train_test(df_p1, x_vars, y_var, splits, test_size,\n",
    "                                                         time_steps, stepsize)\n",
    "\n",
    "X_train2, y_train2, X_test2, y_test2 = sliced_train_test(df_p2, x_vars, y_var, splits, test_size,\n",
    "                                                         time_steps, stepsize)\n",
    "\n",
    "X_train3, y_train3, X_test3, y_test3 = sliced_train_test(df_p3, x_vars, y_var, splits, test_size,\n",
    "                                                         time_steps, stepsize)\n",
    "\n",
    "X_train = np.vstack((X_train1, X_train2, X_train3))\n",
    "y_train = np.vstack((y_train1, y_train2, y_train3))\n",
    "X_test = np.vstack((X_test1, X_test2, X_test3))\n",
    "y_test = np.vstack((y_test1, y_test2, y_test3))\n",
    "\n",
    "enc = OneHotEncoder(handle_unknown='ignore', sparse=False)\n",
    "\n",
    "enc = enc.fit(y_train)\n",
    "\n",
    "y_train = enc.transform(y_train)\n",
    "y_test = enc.transform(y_test)"
   ]
  },
  {
   "cell_type": "code",
   "execution_count": 7,
   "metadata": {},
   "outputs": [
    {
     "data": {
      "text/plain": [
       "((22102, 20, 7), (22102, 8), (5422, 20, 7), (5422, 8))"
      ]
     },
     "execution_count": 7,
     "metadata": {},
     "output_type": "execute_result"
    }
   ],
   "source": [
    "X_train.shape, y_train.shape, X_test.shape, y_test.shape\n"
   ]
  },
  {
   "cell_type": "code",
   "execution_count": 8,
   "metadata": {},
   "outputs": [],
   "source": [
    "def lstm_model(X_train, y_train, epochs, batch_size, optimizer):\n",
    "    model = keras.Sequential()\n",
    "    model.add(\n",
    "        keras.layers.Bidirectional(\n",
    "        keras.layers.LSTM(\n",
    "            units=32,\n",
    "            input_shape=[X_train.shape[1], X_train.shape[2]]\n",
    "        )\n",
    "        )\n",
    "    )\n",
    "    model.add(keras.layers.Dropout(rate=0.5))\n",
    "    model.add(keras.layers.Dense(units=40, activation='relu'))\n",
    "    model.add(keras.layers.Dropout(rate=0.3))\n",
    "    model.add(keras.layers.Dense(units=40, activation='relu'))\n",
    "    model.add(keras.layers.Dense(y_train.shape[1], activation='softmax'))\n",
    "\n",
    "    model.compile(\n",
    "        loss='categorical_crossentropy',\n",
    "        optimizer=optimizer,\n",
    "        metrics=['acc']\n",
    "    )\n",
    "\n",
    "    history = model.fit(\n",
    "        X_train, y_train,\n",
    "        epochs=epochs,\n",
    "        batch_size=batch_size,\n",
    "        validation_split=0.1,\n",
    "        shuffle=True\n",
    "    )\n",
    "    \n",
    "    plt.plot(history.history['loss'], label='train')\n",
    "    plt.plot(history.history['val_loss'], label='test')\n",
    "    plt.legend();\n",
    "\n",
    "    return model"
   ]
  },
  {
   "cell_type": "code",
   "execution_count": 11,
   "metadata": {},
   "outputs": [
    {
     "name": "stdout",
     "output_type": "stream",
     "text": [
      "Epoch 1/30\n",
      "78/78 [==============================] - 5s 22ms/step - loss: 1.3961 - acc: 0.5913 - val_loss: 0.3421 - val_acc: 0.8964\n",
      "Epoch 2/30\n",
      "78/78 [==============================] - 1s 13ms/step - loss: 0.6914 - acc: 0.7625 - val_loss: 0.2438 - val_acc: 0.9077\n",
      "Epoch 3/30\n",
      "78/78 [==============================] - 1s 17ms/step - loss: 0.5390 - acc: 0.8188 - val_loss: 0.1849 - val_acc: 0.9285\n",
      "Epoch 4/30\n",
      "78/78 [==============================] - 1s 16ms/step - loss: 0.4519 - acc: 0.8504 - val_loss: 0.1603 - val_acc: 0.9471\n",
      "Epoch 5/30\n",
      "78/78 [==============================] - 1s 13ms/step - loss: 0.3930 - acc: 0.8731 - val_loss: 0.1702 - val_acc: 0.9417\n",
      "Epoch 6/30\n",
      "78/78 [==============================] - 1s 14ms/step - loss: 0.3577 - acc: 0.8855 - val_loss: 0.1491 - val_acc: 0.9516\n",
      "Epoch 7/30\n",
      "78/78 [==============================] - 1s 14ms/step - loss: 0.3364 - acc: 0.8925 - val_loss: 0.1713 - val_acc: 0.9439\n",
      "Epoch 8/30\n",
      "78/78 [==============================] - 1s 15ms/step - loss: 0.3177 - acc: 0.8983 - val_loss: 0.1506 - val_acc: 0.9525\n",
      "Epoch 9/30\n",
      "78/78 [==============================] - 1s 14ms/step - loss: 0.2953 - acc: 0.9028 - val_loss: 0.1684 - val_acc: 0.9493\n",
      "Epoch 10/30\n",
      "78/78 [==============================] - 1s 14ms/step - loss: 0.2813 - acc: 0.9092 - val_loss: 0.1520 - val_acc: 0.9507\n",
      "Epoch 11/30\n",
      "78/78 [==============================] - 1s 15ms/step - loss: 0.2727 - acc: 0.9111 - val_loss: 0.1619 - val_acc: 0.9493\n",
      "Epoch 12/30\n",
      "78/78 [==============================] - 1s 15ms/step - loss: 0.2592 - acc: 0.9145 - val_loss: 0.1632 - val_acc: 0.9471\n",
      "Epoch 13/30\n",
      "78/78 [==============================] - 1s 12ms/step - loss: 0.2492 - acc: 0.9188 - val_loss: 0.1658 - val_acc: 0.9475\n",
      "Epoch 14/30\n",
      "78/78 [==============================] - 1s 12ms/step - loss: 0.2382 - acc: 0.9245 - val_loss: 0.1622 - val_acc: 0.9480\n",
      "Epoch 15/30\n",
      "78/78 [==============================] - 1s 12ms/step - loss: 0.2300 - acc: 0.9234 - val_loss: 0.1616 - val_acc: 0.9484\n",
      "Epoch 16/30\n",
      "78/78 [==============================] - 1s 12ms/step - loss: 0.2237 - acc: 0.9271 - val_loss: 0.1749 - val_acc: 0.9480\n",
      "Epoch 17/30\n",
      "78/78 [==============================] - 1s 12ms/step - loss: 0.2177 - acc: 0.9278 - val_loss: 0.1653 - val_acc: 0.9480\n",
      "Epoch 18/30\n",
      "78/78 [==============================] - 1s 13ms/step - loss: 0.2059 - acc: 0.9317 - val_loss: 0.1929 - val_acc: 0.9430\n",
      "Epoch 19/30\n",
      "78/78 [==============================] - 1s 14ms/step - loss: 0.2095 - acc: 0.9319 - val_loss: 0.1944 - val_acc: 0.9444\n",
      "Epoch 20/30\n",
      "78/78 [==============================] - 1s 14ms/step - loss: 0.2023 - acc: 0.9324 - val_loss: 0.1850 - val_acc: 0.9426\n",
      "Epoch 21/30\n",
      "78/78 [==============================] - 1s 14ms/step - loss: 0.1978 - acc: 0.9365 - val_loss: 0.1838 - val_acc: 0.9475\n",
      "Epoch 22/30\n",
      "78/78 [==============================] - 1s 12ms/step - loss: 0.1949 - acc: 0.9353 - val_loss: 0.2086 - val_acc: 0.9426\n",
      "Epoch 23/30\n",
      "78/78 [==============================] - 1s 14ms/step - loss: 0.1890 - acc: 0.9364 - val_loss: 0.1899 - val_acc: 0.9448\n",
      "Epoch 24/30\n",
      "78/78 [==============================] - 1s 15ms/step - loss: 0.1761 - acc: 0.9422 - val_loss: 0.1822 - val_acc: 0.9466\n",
      "Epoch 25/30\n",
      "78/78 [==============================] - 1s 15ms/step - loss: 0.1771 - acc: 0.9419 - val_loss: 0.2261 - val_acc: 0.9426\n",
      "Epoch 26/30\n",
      "78/78 [==============================] - 1s 14ms/step - loss: 0.1744 - acc: 0.9430 - val_loss: 0.2031 - val_acc: 0.9489\n",
      "Epoch 27/30\n",
      "78/78 [==============================] - 1s 15ms/step - loss: 0.1673 - acc: 0.9438 - val_loss: 0.2104 - val_acc: 0.9439\n",
      "Epoch 28/30\n",
      "78/78 [==============================] - 1s 18ms/step - loss: 0.1674 - acc: 0.9444 - val_loss: 0.2201 - val_acc: 0.9453\n",
      "Epoch 29/30\n",
      "78/78 [==============================] - 1s 15ms/step - loss: 0.1640 - acc: 0.9455 - val_loss: 0.2441 - val_acc: 0.9408\n",
      "Epoch 30/30\n",
      "78/78 [==============================] - 1s 14ms/step - loss: 0.1615 - acc: 0.9469 - val_loss: 0.2479 - val_acc: 0.9426\n",
      "170/170 [==============================] - 0s 3ms/step - loss: 0.6394 - acc: 0.8637\n"
     ]
    },
    {
     "data": {
      "text/plain": [
       "[0.6394098401069641, 0.8637034296989441]"
      ]
     },
     "execution_count": 11,
     "metadata": {},
     "output_type": "execute_result"
    },
    {
     "data": {
      "image/png": "[encoded data removed]",
      "text/plain": [
       "<Figure size 640x480 with 1 Axes>"
      ]
     },
     "metadata": {},
     "output_type": "display_data"
    }
   ],
   "source": [
    "model = lstm_model(X_train, y_train, epochs=30, batch_size=256, optimizer='adam')\n",
    "model.evaluate(X_test, y_test)"
   ]
  },
  {
   "cell_type": "code",
   "execution_count": 13,
   "metadata": {},
   "outputs": [
    {
     "data": {
      "application/vnd.plotly.v1+json": {
       "config": {
        "plotlyServerURL": "https://plot.ly"
       },
       "data": [
        {
         "colorscale": [
          [
           0,
           "rgb(247,251,255)"
          ],
          [
           0.125,
           "rgb(222,235,247)"
          ],
          [
           0.25,
           "rgb(198,219,239)"
          ],
          [
           0.375,
           "rgb(158,202,225)"
          ],
          [
           0.5,
           "rgb(107,174,214)"
          ],
          [
           0.625,
           "rgb(66,146,198)"
          ],
          [
           0.75,
           "rgb(33,113,181)"
          ],
          [
           0.875,
           "rgb(8,81,156)"
          ],
          [
           1,
           "rgb(8,48,107)"
          ]
         ],
         "type": "heatmap",
         "x": [
          "acceleration_from_standing",
          "continuous_driving",
          "curve_left",
          "curve_right",
          "stationary",
          "targeted_braking",
          "turn_left",
          "turn_right"
         ],
         "y": [
          "acceleration_from_standing",
          "continuous_driving",
          "curve_left",
          "curve_right",
          "stationary",
          "targeted_braking",
          "turn_left",
          "turn_right"
         ],
         "z": [
          [
           238,
           61,
           0,
           0,
           19,
           2,
           8,
           8
          ],
          [
           72,
           2405,
           41,
           9,
           0,
           48,
           7,
           6
          ],
          [
           0,
           29,
           163,
           2,
           0,
           1,
           1,
           0
          ],
          [
           10,
           14,
           0,
           119,
           0,
           4,
           0,
           13
          ],
          [
           14,
           0,
           0,
           0,
           1031,
           34,
           0,
           0
          ],
          [
           9,
           158,
           4,
           1,
           26,
           509,
           9,
           6
          ],
          [
           39,
           13,
           2,
           0,
           1,
           0,
           113,
           0
          ],
          [
           16,
           38,
           1,
           12,
           0,
           1,
           0,
           105
          ]
         ]
        }
       ],
       "layout": {
        "height": 900,
        "template": {
         "data": {
          "bar": [
           {
            "error_x": {
             "color": "#2a3f5f"
            },
            "error_y": {
             "color": "#2a3f5f"
            },
            "marker": {
             "line": {
              "color": "#E5ECF6",
              "width": 0.5
             },
             "pattern": {
              "fillmode": "overlay",
              "size": 10,
              "solidity": 0.2
             }
            },
            "type": "bar"
           }
          ],
          "barpolar": [
           {
            "marker": {
             "line": {
              "color": "#E5ECF6",
              "width": 0.5
             },
             "pattern": {
              "fillmode": "overlay",
              "size": 10,
              "solidity": 0.2
             }
            },
            "type": "barpolar"
           }
          ],
          "carpet": [
           {
            "aaxis": {
             "endlinecolor": "#2a3f5f",
             "gridcolor": "white",
             "linecolor": "white",
             "minorgridcolor": "white",
             "startlinecolor": "#2a3f5f"
            },
            "baxis": {
             "endlinecolor": "#2a3f5f",
             "gridcolor": "white",
             "linecolor": "white",
             "minorgridcolor": "white",
             "startlinecolor": "#2a3f5f"
            },
            "type": "carpet"
           }
          ],
          "choropleth": [
           {
            "colorbar": {
             "outlinewidth": 0,
             "ticks": ""
            },
            "type": "choropleth"
           }
          ],
          "contour": [
           {
            "colorbar": {
             "outlinewidth": 0,
             "ticks": ""
            },
            "colorscale": [
             [
              0,
              "#0d0887"
             ],
             [
              0.1111111111111111,
              "#46039f"
             ],
             [
              0.2222222222222222,
              "#7201a8"
             ],
             [
              0.3333333333333333,
              "#9c179e"
             ],
             [
              0.4444444444444444,
              "#bd3786"
             ],
             [
              0.5555555555555556,
              "#d8576b"
             ],
             [
              0.6666666666666666,
              "#ed7953"
             ],
             [
              0.7777777777777778,
              "#fb9f3a"
             ],
             [
              0.8888888888888888,
              "#fdca26"
             ],
             [
              1,
              "#f0f921"
             ]
            ],
            "type": "contour"
           }
          ],
          "contourcarpet": [
           {
            "colorbar": {
             "outlinewidth": 0,
             "ticks": ""
            },
            "type": "contourcarpet"
           }
          ],
          "heatmap": [
           {
            "colorbar": {
             "outlinewidth": 0,
             "ticks": ""
            },
            "colorscale": [
             [
              0,
              "#0d0887"
             ],
             [
              0.1111111111111111,
              "#46039f"
             ],
             [
              0.2222222222222222,
              "#7201a8"
             ],
             [
              0.3333333333333333,
              "#9c179e"
             ],
             [
              0.4444444444444444,
              "#bd3786"
             ],
             [
              0.5555555555555556,
              "#d8576b"
             ],
             [
              0.6666666666666666,
              "#ed7953"
             ],
             [
              0.7777777777777778,
              "#fb9f3a"
             ],
             [
              0.8888888888888888,
              "#fdca26"
             ],
             [
              1,
              "#f0f921"
             ]
            ],
            "type": "heatmap"
           }
          ],
          "heatmapgl": [
           {
            "colorbar": {
             "outlinewidth": 0,
             "ticks": ""
            },
            "colorscale": [
             [
              0,
              "#0d0887"
             ],
             [
              0.1111111111111111,
              "#46039f"
             ],
             [
              0.2222222222222222,
              "#7201a8"
             ],
             [
              0.3333333333333333,
              "#9c179e"
             ],
             [
              0.4444444444444444,
              "#bd3786"
             ],
             [
              0.5555555555555556,
              "#d8576b"
             ],
             [
              0.6666666666666666,
              "#ed7953"
             ],
             [
              0.7777777777777778,
              "#fb9f3a"
             ],
             [
              0.8888888888888888,
              "#fdca26"
             ],
             [
              1,
              "#f0f921"
             ]
            ],
            "type": "heatmapgl"
           }
          ],
          "histogram": [
           {
            "marker": {
             "pattern": {
              "fillmode": "overlay",
              "size": 10,
              "solidity": 0.2
             }
            },
            "type": "histogram"
           }
          ],
          "histogram2d": [
           {
            "colorbar": {
             "outlinewidth": 0,
             "ticks": ""
            },
            "colorscale": [
             [
              0,
              "#0d0887"
             ],
             [
              0.1111111111111111,
              "#46039f"
             ],
             [
              0.2222222222222222,
              "#7201a8"
             ],
             [
              0.3333333333333333,
              "#9c179e"
             ],
             [
              0.4444444444444444,
              "#bd3786"
             ],
             [
              0.5555555555555556,
              "#d8576b"
             ],
             [
              0.6666666666666666,
              "#ed7953"
             ],
             [
              0.7777777777777778,
              "#fb9f3a"
             ],
             [
              0.8888888888888888,
              "#fdca26"
             ],
             [
              1,
              "#f0f921"
             ]
            ],
            "type": "histogram2d"
           }
          ],
          "histogram2dcontour": [
           {
            "colorbar": {
             "outlinewidth": 0,
             "ticks": ""
            },
            "colorscale": [
             [
              0,
              "#0d0887"
             ],
             [
              0.1111111111111111,
              "#46039f"
             ],
             [
              0.2222222222222222,
              "#7201a8"
             ],
             [
              0.3333333333333333,
              "#9c179e"
             ],
             [
              0.4444444444444444,
              "#bd3786"
             ],
             [
              0.5555555555555556,
              "#d8576b"
             ],
             [
              0.6666666666666666,
              "#ed7953"
             ],
             [
              0.7777777777777778,
              "#fb9f3a"
             ],
             [
              0.8888888888888888,
              "#fdca26"
             ],
             [
              1,
              "#f0f921"
             ]
            ],
            "type": "histogram2dcontour"
           }
          ],
          "mesh3d": [
           {
            "colorbar": {
             "outlinewidth": 0,
             "ticks": ""
            },
            "type": "mesh3d"
           }
          ],
          "parcoords": [
           {
            "line": {
             "colorbar": {
              "outlinewidth": 0,
              "ticks": ""
             }
            },
            "type": "parcoords"
           }
          ],
          "pie": [
           {
            "automargin": true,
            "type": "pie"
           }
          ],
          "scatter": [
           {
            "fillpattern": {
             "fillmode": "overlay",
             "size": 10,
             "solidity": 0.2
            },
            "type": "scatter"
           }
          ],
          "scatter3d": [
           {
            "line": {
             "colorbar": {
              "outlinewidth": 0,
              "ticks": ""
             }
            },
            "marker": {
             "colorbar": {
              "outlinewidth": 0,
              "ticks": ""
             }
            },
            "type": "scatter3d"
           }
          ],
          "scattercarpet": [
           {
            "marker": {
             "colorbar": {
              "outlinewidth": 0,
              "ticks": ""
             }
            },
            "type": "scattercarpet"
           }
          ],
          "scattergeo": [
           {
            "marker": {
             "colorbar": {
              "outlinewidth": 0,
              "ticks": ""
             }
            },
            "type": "scattergeo"
           }
          ],
          "scattergl": [
           {
            "marker": {
             "colorbar": {
              "outlinewidth": 0,
              "ticks": ""
             }
            },
            "type": "scattergl"
           }
          ],
          "scattermapbox": [
           {
            "marker": {
             "colorbar": {
              "outlinewidth": 0,
              "ticks": ""
             }
            },
            "type": "scattermapbox"
           }
          ],
          "scatterpolar": [
           {
            "marker": {
             "colorbar": {
              "outlinewidth": 0,
              "ticks": ""
             }
            },
            "type": "scatterpolar"
           }
          ],
          "scatterpolargl": [
           {
            "marker": {
             "colorbar": {
              "outlinewidth": 0,
              "ticks": ""
             }
            },
            "type": "scatterpolargl"
           }
          ],
          "scatterternary": [
           {
            "marker": {
             "colorbar": {
              "outlinewidth": 0,
              "ticks": ""
             }
            },
            "type": "scatterternary"
           }
          ],
          "surface": [
           {
            "colorbar": {
             "outlinewidth": 0,
             "ticks": ""
            },
            "colorscale": [
             [
              0,
              "#0d0887"
             ],
             [
              0.1111111111111111,
              "#46039f"
             ],
             [
              0.2222222222222222,
              "#7201a8"
             ],
             [
              0.3333333333333333,
              "#9c179e"
             ],
             [
              0.4444444444444444,
              "#bd3786"
             ],
             [
              0.5555555555555556,
              "#d8576b"
             ],
             [
              0.6666666666666666,
              "#ed7953"
             ],
             [
              0.7777777777777778,
              "#fb9f3a"
             ],
             [
              0.8888888888888888,
              "#fdca26"
             ],
             [
              1,
              "#f0f921"
             ]
            ],
            "type": "surface"
           }
          ],
          "table": [
           {
            "cells": {
             "fill": {
              "color": "#EBF0F8"
             },
             "line": {
              "color": "white"
             }
            },
            "header": {
             "fill": {
              "color": "#C8D4E3"
             },
             "line": {
              "color": "white"
             }
            },
            "type": "table"
           }
          ]
         },
         "layout": {
          "annotationdefaults": {
           "arrowcolor": "#2a3f5f",
           "arrowhead": 0,
           "arrowwidth": 1
          },
          "autotypenumbers": "strict",
          "coloraxis": {
           "colorbar": {
            "outlinewidth": 0,
            "ticks": ""
           }
          },
          "colorscale": {
           "diverging": [
            [
             0,
             "#8e0152"
            ],
            [
             0.1,
             "#c51b7d"
            ],
            [
             0.2,
             "#de77ae"
            ],
            [
             0.3,
             "#f1b6da"
            ],
            [
             0.4,
             "#fde0ef"
            ],
            [
             0.5,
             "#f7f7f7"
            ],
            [
             0.6,
             "#e6f5d0"
            ],
            [
             0.7,
             "#b8e186"
            ],
            [
             0.8,
             "#7fbc41"
            ],
            [
             0.9,
             "#4d9221"
            ],
            [
             1,
             "#276419"
            ]
           ],
           "sequential": [
            [
             0,
             "#0d0887"
            ],
            [
             0.1111111111111111,
             "#46039f"
            ],
            [
             0.2222222222222222,
             "#7201a8"
            ],
            [
             0.3333333333333333,
             "#9c179e"
            ],
            [
             0.4444444444444444,
             "#bd3786"
            ],
            [
             0.5555555555555556,
             "#d8576b"
            ],
            [
             0.6666666666666666,
             "#ed7953"
            ],
            [
             0.7777777777777778,
             "#fb9f3a"
            ],
            [
             0.8888888888888888,
             "#fdca26"
            ],
            [
             1,
             "#f0f921"
            ]
           ],
           "sequentialminus": [
            [
             0,
             "#0d0887"
            ],
            [
             0.1111111111111111,
             "#46039f"
            ],
            [
             0.2222222222222222,
             "#7201a8"
            ],
            [
             0.3333333333333333,
             "#9c179e"
            ],
            [
             0.4444444444444444,
             "#bd3786"
            ],
            [
             0.5555555555555556,
             "#d8576b"
            ],
            [
             0.6666666666666666,
             "#ed7953"
            ],
            [
             0.7777777777777778,
             "#fb9f3a"
            ],
            [
             0.8888888888888888,
             "#fdca26"
            ],
            [
             1,
             "#f0f921"
            ]
           ]
          },
          "colorway": [
           "#636efa",
           "#EF553B",
           "#00cc96",
           "#ab63fa",
           "#FFA15A",
           "#19d3f3",
           "#FF6692",
           "#B6E880",
           "#FF97FF",
           "#FECB52"
          ],
          "font": {
           "color": "#2a3f5f"
          },
          "geo": {
           "bgcolor": "white",
           "lakecolor": "white",
           "landcolor": "#E5ECF6",
           "showlakes": true,
           "showland": true,
           "subunitcolor": "white"
          },
          "hoverlabel": {
           "align": "left"
          },
          "hovermode": "closest",
          "mapbox": {
           "style": "light"
          },
          "paper_bgcolor": "white",
          "plot_bgcolor": "#E5ECF6",
          "polar": {
           "angularaxis": {
            "gridcolor": "white",
            "linecolor": "white",
            "ticks": ""
           },
           "bgcolor": "#E5ECF6",
           "radialaxis": {
            "gridcolor": "white",
            "linecolor": "white",
            "ticks": ""
           }
          },
          "scene": {
           "xaxis": {
            "backgroundcolor": "#E5ECF6",
            "gridcolor": "white",
            "gridwidth": 2,
            "linecolor": "white",
            "showbackground": true,
            "ticks": "",
            "zerolinecolor": "white"
           },
           "yaxis": {
            "backgroundcolor": "#E5ECF6",
            "gridcolor": "white",
            "gridwidth": 2,
            "linecolor": "white",
            "showbackground": true,
            "ticks": "",
            "zerolinecolor": "white"
           },
           "zaxis": {
            "backgroundcolor": "#E5ECF6",
            "gridcolor": "white",
            "gridwidth": 2,
            "linecolor": "white",
            "showbackground": true,
            "ticks": "",
            "zerolinecolor": "white"
           }
          },
          "shapedefaults": {
           "line": {
            "color": "#2a3f5f"
           }
          },
          "ternary": {
           "aaxis": {
            "gridcolor": "white",
            "linecolor": "white",
            "ticks": ""
           },
           "baxis": {
            "gridcolor": "white",
            "linecolor": "white",
            "ticks": ""
           },
           "bgcolor": "#E5ECF6",
           "caxis": {
            "gridcolor": "white",
            "linecolor": "white",
            "ticks": ""
           }
          },
          "title": {
           "x": 0.05
          },
          "xaxis": {
           "automargin": true,
           "gridcolor": "white",
           "linecolor": "white",
           "ticks": "",
           "title": {
            "standoff": 15
           },
           "zerolinecolor": "white",
           "zerolinewidth": 2
          },
          "yaxis": {
           "automargin": true,
           "gridcolor": "white",
           "linecolor": "white",
           "ticks": "",
           "title": {
            "standoff": 15
           },
           "zerolinecolor": "white",
           "zerolinewidth": 2
          }
         }
        },
        "title": {
         "text": "Confusion Matrix"
        },
        "width": 900,
        "xaxis": {
         "title": {
          "text": "Predicted"
         }
        },
        "yaxis": {
         "categoryorder": "category descending",
         "title": {
          "text": "Actual"
         }
        }
       }
      }
     },
     "metadata": {},
     "output_type": "display_data"
    }
   ],
   "source": [
    "cm = confusion_matrix(enc.inverse_transform(y_test), enc.inverse_transform(y_pred))\n",
    "heatmap = go.Heatmap(z=cm, x=enc.categories_[0], y=enc.categories_[0], colorscale='Blues') # FEHLER IRGENDWO\n",
    "\n",
    "# create the layout\n",
    "layout = go.Layout(title='Confusion Matrix')\n",
    "\n",
    "# create the figure\n",
    "fig = go.Figure(data=[heatmap], layout=layout)\n",
    "\n",
    "fig.update_layout(yaxis = dict(categoryorder = 'category descending'))\n",
    "fig.update_yaxes(title_text=\"Actual\")\n",
    "fig.update_xaxes(title_text=\"Predicted\")\n",
    "\n",
    "fig.layout.height = 900\n",
    "fig.layout.width = 900\n",
    "# show the figure\n",
    "fig.show()"
   ]
  },
  {
   "cell_type": "code",
   "execution_count": 12,
   "metadata": {},
   "outputs": [
    {
     "name": "stdout",
     "output_type": "stream",
     "text": [
      "170/170 [==============================] - 1s 3ms/step\n"
     ]
    },
    {
     "data": {
      "application/vnd.plotly.v1+json": {
       "config": {
        "plotlyServerURL": "https://plot.ly"
       },
       "data": [
        {
         "colorscale": [
          [
           0,
           "rgb(247,251,255)"
          ],
          [
           0.125,
           "rgb(222,235,247)"
          ],
          [
           0.25,
           "rgb(198,219,239)"
          ],
          [
           0.375,
           "rgb(158,202,225)"
          ],
          [
           0.5,
           "rgb(107,174,214)"
          ],
          [
           0.625,
           "rgb(66,146,198)"
          ],
          [
           0.75,
           "rgb(33,113,181)"
          ],
          [
           0.875,
           "rgb(8,81,156)"
          ],
          [
           1,
           "rgb(8,48,107)"
          ]
         ],
         "type": "heatmap",
         "x": [
          "acceleration_from_standing",
          "continuous_driving",
          "curve_left",
          "curve_right",
          "stationary",
          "targeted_braking",
          "turn_left",
          "turn_right"
         ],
         "y": [
          "acceleration_from_standing",
          "continuous_driving",
          "curve_left",
          "curve_right",
          "stationary",
          "targeted_braking",
          "turn_left",
          "turn_right"
         ],
         "z": [
          [
           0.7083333333333334,
           0.18154761904761904,
           0,
           0,
           0.05654761904761905,
           0.005952380952380952,
           0.023809523809523808,
           0.023809523809523808
          ],
          [
           0.027820710973724884,
           0.9292890262751159,
           0.015842349304482226,
           0.0034775888717156105,
           0,
           0.01854714064914992,
           0.002704791344667697,
           0.00231839258114374
          ],
          [
           0,
           0.14795918367346939,
           0.8316326530612245,
           0.01020408163265306,
           0,
           0.00510204081632653,
           0.00510204081632653,
           0
          ],
          [
           0.0625,
           0.0875,
           0,
           0.74375,
           0,
           0.025,
           0,
           0.08125
          ],
          [
           0.012974976830398516,
           0,
           0,
           0,
           0.9555143651529193,
           0.03151065801668211,
           0,
           0
          ],
          [
           0.012465373961218837,
           0.2188365650969529,
           0.00554016620498615,
           0.0013850415512465374,
           0.036011080332409975,
           0.7049861495844876,
           0.012465373961218837,
           0.008310249307479225
          ],
          [
           0.23214285714285715,
           0.07738095238095238,
           0.011904761904761904,
           0,
           0.005952380952380952,
           0,
           0.6726190476190477,
           0
          ],
          [
           0.09248554913294797,
           0.21965317919075145,
           0.005780346820809248,
           0.06936416184971098,
           0,
           0.005780346820809248,
           0,
           0.6069364161849711
          ]
         ]
        }
       ],
       "layout": {
        "height": 900,
        "template": {
         "data": {
          "bar": [
           {
            "error_x": {
             "color": "#2a3f5f"
            },
            "error_y": {
             "color": "#2a3f5f"
            },
            "marker": {
             "line": {
              "color": "#E5ECF6",
              "width": 0.5
             },
             "pattern": {
              "fillmode": "overlay",
              "size": 10,
              "solidity": 0.2
             }
            },
            "type": "bar"
           }
          ],
          "barpolar": [
           {
            "marker": {
             "line": {
              "color": "#E5ECF6",
              "width": 0.5
             },
             "pattern": {
              "fillmode": "overlay",
              "size": 10,
              "solidity": 0.2
             }
            },
            "type": "barpolar"
           }
          ],
          "carpet": [
           {
            "aaxis": {
             "endlinecolor": "#2a3f5f",
             "gridcolor": "white",
             "linecolor": "white",
             "minorgridcolor": "white",
             "startlinecolor": "#2a3f5f"
            },
            "baxis": {
             "endlinecolor": "#2a3f5f",
             "gridcolor": "white",
             "linecolor": "white",
             "minorgridcolor": "white",
             "startlinecolor": "#2a3f5f"
            },
            "type": "carpet"
           }
          ],
          "choropleth": [
           {
            "colorbar": {
             "outlinewidth": 0,
             "ticks": ""
            },
            "type": "choropleth"
           }
          ],
          "contour": [
           {
            "colorbar": {
             "outlinewidth": 0,
             "ticks": ""
            },
            "colorscale": [
             [
              0,
              "#0d0887"
             ],
             [
              0.1111111111111111,
              "#46039f"
             ],
             [
              0.2222222222222222,
              "#7201a8"
             ],
             [
              0.3333333333333333,
              "#9c179e"
             ],
             [
              0.4444444444444444,
              "#bd3786"
             ],
             [
              0.5555555555555556,
              "#d8576b"
             ],
             [
              0.6666666666666666,
              "#ed7953"
             ],
             [
              0.7777777777777778,
              "#fb9f3a"
             ],
             [
              0.8888888888888888,
              "#fdca26"
             ],
             [
              1,
              "#f0f921"
             ]
            ],
            "type": "contour"
           }
          ],
          "contourcarpet": [
           {
            "colorbar": {
             "outlinewidth": 0,
             "ticks": ""
            },
            "type": "contourcarpet"
           }
          ],
          "heatmap": [
           {
            "colorbar": {
             "outlinewidth": 0,
             "ticks": ""
            },
            "colorscale": [
             [
              0,
              "#0d0887"
             ],
             [
              0.1111111111111111,
              "#46039f"
             ],
             [
              0.2222222222222222,
              "#7201a8"
             ],
             [
              0.3333333333333333,
              "#9c179e"
             ],
             [
              0.4444444444444444,
              "#bd3786"
             ],
             [
              0.5555555555555556,
              "#d8576b"
             ],
             [
              0.6666666666666666,
              "#ed7953"
             ],
             [
              0.7777777777777778,
              "#fb9f3a"
             ],
             [
              0.8888888888888888,
              "#fdca26"
             ],
             [
              1,
              "#f0f921"
             ]
            ],
            "type": "heatmap"
           }
          ],
          "heatmapgl": [
           {
            "colorbar": {
             "outlinewidth": 0,
             "ticks": ""
            },
            "colorscale": [
             [
              0,
              "#0d0887"
             ],
             [
              0.1111111111111111,
              "#46039f"
             ],
             [
              0.2222222222222222,
              "#7201a8"
             ],
             [
              0.3333333333333333,
              "#9c179e"
             ],
             [
              0.4444444444444444,
              "#bd3786"
             ],
             [
              0.5555555555555556,
              "#d8576b"
             ],
             [
              0.6666666666666666,
              "#ed7953"
             ],
             [
              0.7777777777777778,
              "#fb9f3a"
             ],
             [
              0.8888888888888888,
              "#fdca26"
             ],
             [
              1,
              "#f0f921"
             ]
            ],
            "type": "heatmapgl"
           }
          ],
          "histogram": [
           {
            "marker": {
             "pattern": {
              "fillmode": "overlay",
              "size": 10,
              "solidity": 0.2
             }
            },
            "type": "histogram"
           }
          ],
          "histogram2d": [
           {
            "colorbar": {
             "outlinewidth": 0,
             "ticks": ""
            },
            "colorscale": [
             [
              0,
              "#0d0887"
             ],
             [
              0.1111111111111111,
              "#46039f"
             ],
             [
              0.2222222222222222,
              "#7201a8"
             ],
             [
              0.3333333333333333,
              "#9c179e"
             ],
             [
              0.4444444444444444,
              "#bd3786"
             ],
             [
              0.5555555555555556,
              "#d8576b"
             ],
             [
              0.6666666666666666,
              "#ed7953"
             ],
             [
              0.7777777777777778,
              "#fb9f3a"
             ],
             [
              0.8888888888888888,
              "#fdca26"
             ],
             [
              1,
              "#f0f921"
             ]
            ],
            "type": "histogram2d"
           }
          ],
          "histogram2dcontour": [
           {
            "colorbar": {
             "outlinewidth": 0,
             "ticks": ""
            },
            "colorscale": [
             [
              0,
              "#0d0887"
             ],
             [
              0.1111111111111111,
              "#46039f"
             ],
             [
              0.2222222222222222,
              "#7201a8"
             ],
             [
              0.3333333333333333,
              "#9c179e"
             ],
             [
              0.4444444444444444,
              "#bd3786"
             ],
             [
              0.5555555555555556,
              "#d8576b"
             ],
             [
              0.6666666666666666,
              "#ed7953"
             ],
             [
              0.7777777777777778,
              "#fb9f3a"
             ],
             [
              0.8888888888888888,
              "#fdca26"
             ],
             [
              1,
              "#f0f921"
             ]
            ],
            "type": "histogram2dcontour"
           }
          ],
          "mesh3d": [
           {
            "colorbar": {
             "outlinewidth": 0,
             "ticks": ""
            },
            "type": "mesh3d"
           }
          ],
          "parcoords": [
           {
            "line": {
             "colorbar": {
              "outlinewidth": 0,
              "ticks": ""
             }
            },
            "type": "parcoords"
           }
          ],
          "pie": [
           {
            "automargin": true,
            "type": "pie"
           }
          ],
          "scatter": [
           {
            "fillpattern": {
             "fillmode": "overlay",
             "size": 10,
             "solidity": 0.2
            },
            "type": "scatter"
           }
          ],
          "scatter3d": [
           {
            "line": {
             "colorbar": {
              "outlinewidth": 0,
              "ticks": ""
             }
            },
            "marker": {
             "colorbar": {
              "outlinewidth": 0,
              "ticks": ""
             }
            },
            "type": "scatter3d"
           }
          ],
          "scattercarpet": [
           {
            "marker": {
             "colorbar": {
              "outlinewidth": 0,
              "ticks": ""
             }
            },
            "type": "scattercarpet"
           }
          ],
          "scattergeo": [
           {
            "marker": {
             "colorbar": {
              "outlinewidth": 0,
              "ticks": ""
             }
            },
            "type": "scattergeo"
           }
          ],
          "scattergl": [
           {
            "marker": {
             "colorbar": {
              "outlinewidth": 0,
              "ticks": ""
             }
            },
            "type": "scattergl"
           }
          ],
          "scattermapbox": [
           {
            "marker": {
             "colorbar": {
              "outlinewidth": 0,
              "ticks": ""
             }
            },
            "type": "scattermapbox"
           }
          ],
          "scatterpolar": [
           {
            "marker": {
             "colorbar": {
              "outlinewidth": 0,
              "ticks": ""
             }
            },
            "type": "scatterpolar"
           }
          ],
          "scatterpolargl": [
           {
            "marker": {
             "colorbar": {
              "outlinewidth": 0,
              "ticks": ""
             }
            },
            "type": "scatterpolargl"
           }
          ],
          "scatterternary": [
           {
            "marker": {
             "colorbar": {
              "outlinewidth": 0,
              "ticks": ""
             }
            },
            "type": "scatterternary"
           }
          ],
          "surface": [
           {
            "colorbar": {
             "outlinewidth": 0,
             "ticks": ""
            },
            "colorscale": [
             [
              0,
              "#0d0887"
             ],
             [
              0.1111111111111111,
              "#46039f"
             ],
             [
              0.2222222222222222,
              "#7201a8"
             ],
             [
              0.3333333333333333,
              "#9c179e"
             ],
             [
              0.4444444444444444,
              "#bd3786"
             ],
             [
              0.5555555555555556,
              "#d8576b"
             ],
             [
              0.6666666666666666,
              "#ed7953"
             ],
             [
              0.7777777777777778,
              "#fb9f3a"
             ],
             [
              0.8888888888888888,
              "#fdca26"
             ],
             [
              1,
              "#f0f921"
             ]
            ],
            "type": "surface"
           }
          ],
          "table": [
           {
            "cells": {
             "fill": {
              "color": "#EBF0F8"
             },
             "line": {
              "color": "white"
             }
            },
            "header": {
             "fill": {
              "color": "#C8D4E3"
             },
             "line": {
              "color": "white"
             }
            },
            "type": "table"
           }
          ]
         },
         "layout": {
          "annotationdefaults": {
           "arrowcolor": "#2a3f5f",
           "arrowhead": 0,
           "arrowwidth": 1
          },
          "autotypenumbers": "strict",
          "coloraxis": {
           "colorbar": {
            "outlinewidth": 0,
            "ticks": ""
           }
          },
          "colorscale": {
           "diverging": [
            [
             0,
             "#8e0152"
            ],
            [
             0.1,
             "#c51b7d"
            ],
            [
             0.2,
             "#de77ae"
            ],
            [
             0.3,
             "#f1b6da"
            ],
            [
             0.4,
             "#fde0ef"
            ],
            [
             0.5,
             "#f7f7f7"
            ],
            [
             0.6,
             "#e6f5d0"
            ],
            [
             0.7,
             "#b8e186"
            ],
            [
             0.8,
             "#7fbc41"
            ],
            [
             0.9,
             "#4d9221"
            ],
            [
             1,
             "#276419"
            ]
           ],
           "sequential": [
            [
             0,
             "#0d0887"
            ],
            [
             0.1111111111111111,
             "#46039f"
            ],
            [
             0.2222222222222222,
             "#7201a8"
            ],
            [
             0.3333333333333333,
             "#9c179e"
            ],
            [
             0.4444444444444444,
             "#bd3786"
            ],
            [
             0.5555555555555556,
             "#d8576b"
            ],
            [
             0.6666666666666666,
             "#ed7953"
            ],
            [
             0.7777777777777778,
             "#fb9f3a"
            ],
            [
             0.8888888888888888,
             "#fdca26"
            ],
            [
             1,
             "#f0f921"
            ]
           ],
           "sequentialminus": [
            [
             0,
             "#0d0887"
            ],
            [
             0.1111111111111111,
             "#46039f"
            ],
            [
             0.2222222222222222,
             "#7201a8"
            ],
            [
             0.3333333333333333,
             "#9c179e"
            ],
            [
             0.4444444444444444,
             "#bd3786"
            ],
            [
             0.5555555555555556,
             "#d8576b"
            ],
            [
             0.6666666666666666,
             "#ed7953"
            ],
            [
             0.7777777777777778,
             "#fb9f3a"
            ],
            [
             0.8888888888888888,
             "#fdca26"
            ],
            [
             1,
             "#f0f921"
            ]
           ]
          },
          "colorway": [
           "#636efa",
           "#EF553B",
           "#00cc96",
           "#ab63fa",
           "#FFA15A",
           "#19d3f3",
           "#FF6692",
           "#B6E880",
           "#FF97FF",
           "#FECB52"
          ],
          "font": {
           "color": "#2a3f5f"
          },
          "geo": {
           "bgcolor": "white",
           "lakecolor": "white",
           "landcolor": "#E5ECF6",
           "showlakes": true,
           "showland": true,
           "subunitcolor": "white"
          },
          "hoverlabel": {
           "align": "left"
          },
          "hovermode": "closest",
          "mapbox": {
           "style": "light"
          },
          "paper_bgcolor": "white",
          "plot_bgcolor": "#E5ECF6",
          "polar": {
           "angularaxis": {
            "gridcolor": "white",
            "linecolor": "white",
            "ticks": ""
           },
           "bgcolor": "#E5ECF6",
           "radialaxis": {
            "gridcolor": "white",
            "linecolor": "white",
            "ticks": ""
           }
          },
          "scene": {
           "xaxis": {
            "backgroundcolor": "#E5ECF6",
            "gridcolor": "white",
            "gridwidth": 2,
            "linecolor": "white",
            "showbackground": true,
            "ticks": "",
            "zerolinecolor": "white"
           },
           "yaxis": {
            "backgroundcolor": "#E5ECF6",
            "gridcolor": "white",
            "gridwidth": 2,
            "linecolor": "white",
            "showbackground": true,
            "ticks": "",
            "zerolinecolor": "white"
           },
           "zaxis": {
            "backgroundcolor": "#E5ECF6",
            "gridcolor": "white",
            "gridwidth": 2,
            "linecolor": "white",
            "showbackground": true,
            "ticks": "",
            "zerolinecolor": "white"
           }
          },
          "shapedefaults": {
           "line": {
            "color": "#2a3f5f"
           }
          },
          "ternary": {
           "aaxis": {
            "gridcolor": "white",
            "linecolor": "white",
            "ticks": ""
           },
           "baxis": {
            "gridcolor": "white",
            "linecolor": "white",
            "ticks": ""
           },
           "bgcolor": "#E5ECF6",
           "caxis": {
            "gridcolor": "white",
            "linecolor": "white",
            "ticks": ""
           }
          },
          "title": {
           "x": 0.05
          },
          "xaxis": {
           "automargin": true,
           "gridcolor": "white",
           "linecolor": "white",
           "ticks": "",
           "title": {
            "standoff": 15
           },
           "zerolinecolor": "white",
           "zerolinewidth": 2
          },
          "yaxis": {
           "automargin": true,
           "gridcolor": "white",
           "linecolor": "white",
           "ticks": "",
           "title": {
            "standoff": 15
           },
           "zerolinecolor": "white",
           "zerolinewidth": 2
          }
         }
        },
        "title": {
         "text": "Confusion Matrix with relative values for each row / actual classes"
        },
        "width": 900,
        "xaxis": {
         "title": {
          "text": "Predicted"
         }
        },
        "yaxis": {
         "categoryorder": "category descending",
         "title": {
          "text": "Actual"
         }
        }
       }
      }
     },
     "metadata": {},
     "output_type": "display_data"
    }
   ],
   "source": [
    "def relativeCorrect(array):\n",
    "    return array/sum(array)\n",
    "\n",
    "def confusion_matrix_relative(y_test, y_pred):\n",
    "\n",
    "    cm = confusion_matrix(enc.inverse_transform(y_test), enc.inverse_transform(y_pred))\n",
    "    cm_relative = np.apply_along_axis(relativeCorrect, 1, cm)\n",
    "    heatmap = go.Heatmap(z=cm_relative, x=enc.categories_[0], y=enc.categories_[0],\n",
    "                         colorscale='Blues')\n",
    "\n",
    "\n",
    "    # create the layout\n",
    "    layout = go.Layout(title='Confusion Matrix with relative values for each row / actual classes')\n",
    "\n",
    "    # create the figure\n",
    "    fig = go.Figure(data=[heatmap], layout=layout)\n",
    "\n",
    "    fig.update_layout(yaxis = dict(categoryorder = 'category descending'))\n",
    "    fig.update_yaxes(title_text=\"Actual\")\n",
    "    fig.update_xaxes(title_text=\"Predicted\")\n",
    "\n",
    "    fig.layout.height = 900\n",
    "    fig.layout.width = 900\n",
    "    # show the figure\n",
    "    fig.show()\n",
    "\n",
    "y_pred = model.predict(X_test)\n",
    "\n",
    "confusion_matrix_relative(y_test, y_pred)"
   ]
  },
  {
   "cell_type": "code",
   "execution_count": null,
   "metadata": {},
   "outputs": [],
   "source": []
  },
  {
   "cell_type": "code",
   "execution_count": null,
   "metadata": {},
   "outputs": [],
   "source": []
  },
  {
   "cell_type": "code",
   "execution_count": null,
   "metadata": {},
   "outputs": [],
   "source": []
  },
  {
   "cell_type": "code",
   "execution_count": null,
   "metadata": {},
   "outputs": [],
   "source": []
  },
  {
   "cell_type": "code",
   "execution_count": null,
   "metadata": {},
   "outputs": [],
   "source": []
  },
  {
   "attachments": {},
   "cell_type": "markdown",
   "metadata": {},
   "source": [
    "Archiv:"
   ]
  },
  {
   "cell_type": "code",
   "execution_count": 5,
   "metadata": {},
   "outputs": [
    {
     "data": {
      "text/html": [
       "<div>\n",
       "<style scoped>\n",
       "    .dataframe tbody tr th:only-of-type {\n",
       "        vertical-align: middle;\n",
       "    }\n",
       "\n",
       "    .dataframe tbody tr th {\n",
       "        vertical-align: top;\n",
       "    }\n",
       "\n",
       "    .dataframe thead th {\n",
       "        text-align: right;\n",
       "    }\n",
       "</style>\n",
       "<table border=\"1\" class=\"dataframe\">\n",
       "  <thead>\n",
       "    <tr style=\"text-align: right;\">\n",
       "      <th></th>\n",
       "      <th>datetime</th>\n",
       "      <th>accX</th>\n",
       "      <th>accY</th>\n",
       "      <th>accZ</th>\n",
       "      <th>gyroX</th>\n",
       "      <th>gyroY</th>\n",
       "      <th>gyroZ</th>\n",
       "      <th>latitude</th>\n",
       "      <th>longitude</th>\n",
       "      <th>altitude</th>\n",
       "      <th>accuracy</th>\n",
       "      <th>speed</th>\n",
       "      <th>maneuverID</th>\n",
       "      <th>maneuverType</th>\n",
       "      <th>maneuverElement</th>\n",
       "      <th>section</th>\n",
       "      <th>roadType</th>\n",
       "      <th>vehicle</th>\n",
       "      <th>person</th>\n",
       "    </tr>\n",
       "  </thead>\n",
       "  <tbody>\n",
       "    <tr>\n",
       "      <th>0</th>\n",
       "      <td>2023-01-06 10:44:29.466</td>\n",
       "      <td>0.021387</td>\n",
       "      <td>-0.006456</td>\n",
       "      <td>-0.084595</td>\n",
       "      <td>-0.072036</td>\n",
       "      <td>-0.009720</td>\n",
       "      <td>-0.006924</td>\n",
       "      <td>52.366269</td>\n",
       "      <td>9.761421</td>\n",
       "      <td>98.700005</td>\n",
       "      <td>11.716</td>\n",
       "      <td>0.060892</td>\n",
       "      <td>000000-P1M</td>\n",
       "      <td>stationary</td>\n",
       "      <td>stationary</td>\n",
       "      <td>1</td>\n",
       "      <td>Stadtstraße</td>\n",
       "      <td>Skoda Fabia</td>\n",
       "      <td>P01</td>\n",
       "    </tr>\n",
       "    <tr>\n",
       "      <th>1</th>\n",
       "      <td>2023-01-06 10:44:29.958</td>\n",
       "      <td>0.023271</td>\n",
       "      <td>0.100068</td>\n",
       "      <td>0.143770</td>\n",
       "      <td>0.013182</td>\n",
       "      <td>0.004794</td>\n",
       "      <td>0.000399</td>\n",
       "      <td>52.366269</td>\n",
       "      <td>9.761421</td>\n",
       "      <td>98.700005</td>\n",
       "      <td>11.716</td>\n",
       "      <td>0.060892</td>\n",
       "      <td>000000-P1M</td>\n",
       "      <td>stationary</td>\n",
       "      <td>stationary</td>\n",
       "      <td>1</td>\n",
       "      <td>Stadtstraße</td>\n",
       "      <td>Skoda Fabia</td>\n",
       "      <td>P01</td>\n",
       "    </tr>\n",
       "    <tr>\n",
       "      <th>2</th>\n",
       "      <td>2023-01-06 10:44:30.456</td>\n",
       "      <td>0.030368</td>\n",
       "      <td>-0.006946</td>\n",
       "      <td>0.019102</td>\n",
       "      <td>0.000000</td>\n",
       "      <td>-0.001997</td>\n",
       "      <td>0.001198</td>\n",
       "      <td>52.366270</td>\n",
       "      <td>9.761421</td>\n",
       "      <td>98.700005</td>\n",
       "      <td>9.591</td>\n",
       "      <td>0.035770</td>\n",
       "      <td>000000-P1M</td>\n",
       "      <td>stationary</td>\n",
       "      <td>stationary</td>\n",
       "      <td>1</td>\n",
       "      <td>Stadtstraße</td>\n",
       "      <td>Skoda Fabia</td>\n",
       "      <td>P01</td>\n",
       "    </tr>\n",
       "    <tr>\n",
       "      <th>3</th>\n",
       "      <td>2023-01-06 10:44:30.957</td>\n",
       "      <td>0.012233</td>\n",
       "      <td>-0.005673</td>\n",
       "      <td>0.002899</td>\n",
       "      <td>0.000266</td>\n",
       "      <td>0.001198</td>\n",
       "      <td>0.001065</td>\n",
       "      <td>52.366270</td>\n",
       "      <td>9.761421</td>\n",
       "      <td>98.700005</td>\n",
       "      <td>9.591</td>\n",
       "      <td>0.035770</td>\n",
       "      <td>000000-P1M</td>\n",
       "      <td>stationary</td>\n",
       "      <td>stationary</td>\n",
       "      <td>1</td>\n",
       "      <td>Stadtstraße</td>\n",
       "      <td>Skoda Fabia</td>\n",
       "      <td>P01</td>\n",
       "    </tr>\n",
       "    <tr>\n",
       "      <th>4</th>\n",
       "      <td>2023-01-06 10:44:31.456</td>\n",
       "      <td>0.017861</td>\n",
       "      <td>0.001417</td>\n",
       "      <td>0.017249</td>\n",
       "      <td>-0.001332</td>\n",
       "      <td>-0.002397</td>\n",
       "      <td>0.000399</td>\n",
       "      <td>52.366270</td>\n",
       "      <td>9.761421</td>\n",
       "      <td>98.700005</td>\n",
       "      <td>9.591</td>\n",
       "      <td>0.035770</td>\n",
       "      <td>000000-P1M</td>\n",
       "      <td>stationary</td>\n",
       "      <td>stationary</td>\n",
       "      <td>1</td>\n",
       "      <td>Stadtstraße</td>\n",
       "      <td>Skoda Fabia</td>\n",
       "      <td>P01</td>\n",
       "    </tr>\n",
       "  </tbody>\n",
       "</table>\n",
       "</div>"
      ],
      "text/plain": [
       "                  datetime      accX      accY      accZ     gyroX     gyroY  \\\n",
       "0  2023-01-06 10:44:29.466  0.021387 -0.006456 -0.084595 -0.072036 -0.009720   \n",
       "1  2023-01-06 10:44:29.958  0.023271  0.100068  0.143770  0.013182  0.004794   \n",
       "2  2023-01-06 10:44:30.456  0.030368 -0.006946  0.019102  0.000000 -0.001997   \n",
       "3  2023-01-06 10:44:30.957  0.012233 -0.005673  0.002899  0.000266  0.001198   \n",
       "4  2023-01-06 10:44:31.456  0.017861  0.001417  0.017249 -0.001332 -0.002397   \n",
       "\n",
       "      gyroZ   latitude  longitude   altitude  accuracy     speed  maneuverID  \\\n",
       "0 -0.006924  52.366269   9.761421  98.700005    11.716  0.060892  000000-P1M   \n",
       "1  0.000399  52.366269   9.761421  98.700005    11.716  0.060892  000000-P1M   \n",
       "2  0.001198  52.366270   9.761421  98.700005     9.591  0.035770  000000-P1M   \n",
       "3  0.001065  52.366270   9.761421  98.700005     9.591  0.035770  000000-P1M   \n",
       "4  0.000399  52.366270   9.761421  98.700005     9.591  0.035770  000000-P1M   \n",
       "\n",
       "  maneuverType maneuverElement  section     roadType      vehicle person  \n",
       "0   stationary      stationary        1  Stadtstraße  Skoda Fabia    P01  \n",
       "1   stationary      stationary        1  Stadtstraße  Skoda Fabia    P01  \n",
       "2   stationary      stationary        1  Stadtstraße  Skoda Fabia    P01  \n",
       "3   stationary      stationary        1  Stadtstraße  Skoda Fabia    P01  \n",
       "4   stationary      stationary        1  Stadtstraße  Skoda Fabia    P01  "
      ]
     },
     "execution_count": 5,
     "metadata": {},
     "output_type": "execute_result"
    }
   ],
   "source": [
    "df.head(5)"
   ]
  },
  {
   "cell_type": "code",
   "execution_count": 3,
   "metadata": {},
   "outputs": [
    {
     "data": {
      "application/vnd.plotly.v1+json": {
       "config": {
        "plotlyServerURL": "https://plot.ly"
       },
       "data": [
        {
         "alignmentgroup": "True",
         "hovertemplate": "x=%{x}<br>y=%{y}<extra></extra>",
         "legendgroup": "",
         "marker": {
          "color": "#636efa",
          "pattern": {
           "shape": ""
          }
         },
         "name": "",
         "offsetgroup": "",
         "orientation": "v",
         "showlegend": false,
         "textposition": "auto",
         "type": "bar",
         "x": [
          "continuous_driving",
          "stationary",
          "targeted_braking",
          "curve_right",
          "acceleration_from_standing",
          "curve_left",
          "turn_left",
          "turn_right",
          "lane_change_left",
          "lane_change_right",
          "deceleration_lane",
          "crossing_roundabout",
          "crossing_intersection",
          "overtaking",
          "acceleration_lane"
         ],
         "xaxis": "x",
         "y": [
          14922,
          4132,
          2163,
          1240,
          1183,
          1148,
          975,
          777,
          606,
          558,
          309,
          297,
          289,
          151,
          43
         ],
         "yaxis": "y"
        }
       ],
       "layout": {
        "barmode": "relative",
        "legend": {
         "tracegroupgap": 0
        },
        "template": {
         "data": {
          "bar": [
           {
            "error_x": {
             "color": "#2a3f5f"
            },
            "error_y": {
             "color": "#2a3f5f"
            },
            "marker": {
             "line": {
              "color": "#E5ECF6",
              "width": 0.5
             },
             "pattern": {
              "fillmode": "overlay",
              "size": 10,
              "solidity": 0.2
             }
            },
            "type": "bar"
           }
          ],
          "barpolar": [
           {
            "marker": {
             "line": {
              "color": "#E5ECF6",
              "width": 0.5
             },
             "pattern": {
              "fillmode": "overlay",
              "size": 10,
              "solidity": 0.2
             }
            },
            "type": "barpolar"
           }
          ],
          "carpet": [
           {
            "aaxis": {
             "endlinecolor": "#2a3f5f",
             "gridcolor": "white",
             "linecolor": "white",
             "minorgridcolor": "white",
             "startlinecolor": "#2a3f5f"
            },
            "baxis": {
             "endlinecolor": "#2a3f5f",
             "gridcolor": "white",
             "linecolor": "white",
             "minorgridcolor": "white",
             "startlinecolor": "#2a3f5f"
            },
            "type": "carpet"
           }
          ],
          "choropleth": [
           {
            "colorbar": {
             "outlinewidth": 0,
             "ticks": ""
            },
            "type": "choropleth"
           }
          ],
          "contour": [
           {
            "colorbar": {
             "outlinewidth": 0,
             "ticks": ""
            },
            "colorscale": [
             [
              0,
              "#0d0887"
             ],
             [
              0.1111111111111111,
              "#46039f"
             ],
             [
              0.2222222222222222,
              "#7201a8"
             ],
             [
              0.3333333333333333,
              "#9c179e"
             ],
             [
              0.4444444444444444,
              "#bd3786"
             ],
             [
              0.5555555555555556,
              "#d8576b"
             ],
             [
              0.6666666666666666,
              "#ed7953"
             ],
             [
              0.7777777777777778,
              "#fb9f3a"
             ],
             [
              0.8888888888888888,
              "#fdca26"
             ],
             [
              1,
              "#f0f921"
             ]
            ],
            "type": "contour"
           }
          ],
          "contourcarpet": [
           {
            "colorbar": {
             "outlinewidth": 0,
             "ticks": ""
            },
            "type": "contourcarpet"
           }
          ],
          "heatmap": [
           {
            "colorbar": {
             "outlinewidth": 0,
             "ticks": ""
            },
            "colorscale": [
             [
              0,
              "#0d0887"
             ],
             [
              0.1111111111111111,
              "#46039f"
             ],
             [
              0.2222222222222222,
              "#7201a8"
             ],
             [
              0.3333333333333333,
              "#9c179e"
             ],
             [
              0.4444444444444444,
              "#bd3786"
             ],
             [
              0.5555555555555556,
              "#d8576b"
             ],
             [
              0.6666666666666666,
              "#ed7953"
             ],
             [
              0.7777777777777778,
              "#fb9f3a"
             ],
             [
              0.8888888888888888,
              "#fdca26"
             ],
             [
              1,
              "#f0f921"
             ]
            ],
            "type": "heatmap"
           }
          ],
          "heatmapgl": [
           {
            "colorbar": {
             "outlinewidth": 0,
             "ticks": ""
            },
            "colorscale": [
             [
              0,
              "#0d0887"
             ],
             [
              0.1111111111111111,
              "#46039f"
             ],
             [
              0.2222222222222222,
              "#7201a8"
             ],
             [
              0.3333333333333333,
              "#9c179e"
             ],
             [
              0.4444444444444444,
              "#bd3786"
             ],
             [
              0.5555555555555556,
              "#d8576b"
             ],
             [
              0.6666666666666666,
              "#ed7953"
             ],
             [
              0.7777777777777778,
              "#fb9f3a"
             ],
             [
              0.8888888888888888,
              "#fdca26"
             ],
             [
              1,
              "#f0f921"
             ]
            ],
            "type": "heatmapgl"
           }
          ],
          "histogram": [
           {
            "marker": {
             "pattern": {
              "fillmode": "overlay",
              "size": 10,
              "solidity": 0.2
             }
            },
            "type": "histogram"
           }
          ],
          "histogram2d": [
           {
            "colorbar": {
             "outlinewidth": 0,
             "ticks": ""
            },
            "colorscale": [
             [
              0,
              "#0d0887"
             ],
             [
              0.1111111111111111,
              "#46039f"
             ],
             [
              0.2222222222222222,
              "#7201a8"
             ],
             [
              0.3333333333333333,
              "#9c179e"
             ],
             [
              0.4444444444444444,
              "#bd3786"
             ],
             [
              0.5555555555555556,
              "#d8576b"
             ],
             [
              0.6666666666666666,
              "#ed7953"
             ],
             [
              0.7777777777777778,
              "#fb9f3a"
             ],
             [
              0.8888888888888888,
              "#fdca26"
             ],
             [
              1,
              "#f0f921"
             ]
            ],
            "type": "histogram2d"
           }
          ],
          "histogram2dcontour": [
           {
            "colorbar": {
             "outlinewidth": 0,
             "ticks": ""
            },
            "colorscale": [
             [
              0,
              "#0d0887"
             ],
             [
              0.1111111111111111,
              "#46039f"
             ],
             [
              0.2222222222222222,
              "#7201a8"
             ],
             [
              0.3333333333333333,
              "#9c179e"
             ],
             [
              0.4444444444444444,
              "#bd3786"
             ],
             [
              0.5555555555555556,
              "#d8576b"
             ],
             [
              0.6666666666666666,
              "#ed7953"
             ],
             [
              0.7777777777777778,
              "#fb9f3a"
             ],
             [
              0.8888888888888888,
              "#fdca26"
             ],
             [
              1,
              "#f0f921"
             ]
            ],
            "type": "histogram2dcontour"
           }
          ],
          "mesh3d": [
           {
            "colorbar": {
             "outlinewidth": 0,
             "ticks": ""
            },
            "type": "mesh3d"
           }
          ],
          "parcoords": [
           {
            "line": {
             "colorbar": {
              "outlinewidth": 0,
              "ticks": ""
             }
            },
            "type": "parcoords"
           }
          ],
          "pie": [
           {
            "automargin": true,
            "type": "pie"
           }
          ],
          "scatter": [
           {
            "fillpattern": {
             "fillmode": "overlay",
             "size": 10,
             "solidity": 0.2
            },
            "type": "scatter"
           }
          ],
          "scatter3d": [
           {
            "line": {
             "colorbar": {
              "outlinewidth": 0,
              "ticks": ""
             }
            },
            "marker": {
             "colorbar": {
              "outlinewidth": 0,
              "ticks": ""
             }
            },
            "type": "scatter3d"
           }
          ],
          "scattercarpet": [
           {
            "marker": {
             "colorbar": {
              "outlinewidth": 0,
              "ticks": ""
             }
            },
            "type": "scattercarpet"
           }
          ],
          "scattergeo": [
           {
            "marker": {
             "colorbar": {
              "outlinewidth": 0,
              "ticks": ""
             }
            },
            "type": "scattergeo"
           }
          ],
          "scattergl": [
           {
            "marker": {
             "colorbar": {
              "outlinewidth": 0,
              "ticks": ""
             }
            },
            "type": "scattergl"
           }
          ],
          "scattermapbox": [
           {
            "marker": {
             "colorbar": {
              "outlinewidth": 0,
              "ticks": ""
             }
            },
            "type": "scattermapbox"
           }
          ],
          "scatterpolar": [
           {
            "marker": {
             "colorbar": {
              "outlinewidth": 0,
              "ticks": ""
             }
            },
            "type": "scatterpolar"
           }
          ],
          "scatterpolargl": [
           {
            "marker": {
             "colorbar": {
              "outlinewidth": 0,
              "ticks": ""
             }
            },
            "type": "scatterpolargl"
           }
          ],
          "scatterternary": [
           {
            "marker": {
             "colorbar": {
              "outlinewidth": 0,
              "ticks": ""
             }
            },
            "type": "scatterternary"
           }
          ],
          "surface": [
           {
            "colorbar": {
             "outlinewidth": 0,
             "ticks": ""
            },
            "colorscale": [
             [
              0,
              "#0d0887"
             ],
             [
              0.1111111111111111,
              "#46039f"
             ],
             [
              0.2222222222222222,
              "#7201a8"
             ],
             [
              0.3333333333333333,
              "#9c179e"
             ],
             [
              0.4444444444444444,
              "#bd3786"
             ],
             [
              0.5555555555555556,
              "#d8576b"
             ],
             [
              0.6666666666666666,
              "#ed7953"
             ],
             [
              0.7777777777777778,
              "#fb9f3a"
             ],
             [
              0.8888888888888888,
              "#fdca26"
             ],
             [
              1,
              "#f0f921"
             ]
            ],
            "type": "surface"
           }
          ],
          "table": [
           {
            "cells": {
             "fill": {
              "color": "#EBF0F8"
             },
             "line": {
              "color": "white"
             }
            },
            "header": {
             "fill": {
              "color": "#C8D4E3"
             },
             "line": {
              "color": "white"
             }
            },
            "type": "table"
           }
          ]
         },
         "layout": {
          "annotationdefaults": {
           "arrowcolor": "#2a3f5f",
           "arrowhead": 0,
           "arrowwidth": 1
          },
          "autotypenumbers": "strict",
          "coloraxis": {
           "colorbar": {
            "outlinewidth": 0,
            "ticks": ""
           }
          },
          "colorscale": {
           "diverging": [
            [
             0,
             "#8e0152"
            ],
            [
             0.1,
             "#c51b7d"
            ],
            [
             0.2,
             "#de77ae"
            ],
            [
             0.3,
             "#f1b6da"
            ],
            [
             0.4,
             "#fde0ef"
            ],
            [
             0.5,
             "#f7f7f7"
            ],
            [
             0.6,
             "#e6f5d0"
            ],
            [
             0.7,
             "#b8e186"
            ],
            [
             0.8,
             "#7fbc41"
            ],
            [
             0.9,
             "#4d9221"
            ],
            [
             1,
             "#276419"
            ]
           ],
           "sequential": [
            [
             0,
             "#0d0887"
            ],
            [
             0.1111111111111111,
             "#46039f"
            ],
            [
             0.2222222222222222,
             "#7201a8"
            ],
            [
             0.3333333333333333,
             "#9c179e"
            ],
            [
             0.4444444444444444,
             "#bd3786"
            ],
            [
             0.5555555555555556,
             "#d8576b"
            ],
            [
             0.6666666666666666,
             "#ed7953"
            ],
            [
             0.7777777777777778,
             "#fb9f3a"
            ],
            [
             0.8888888888888888,
             "#fdca26"
            ],
            [
             1,
             "#f0f921"
            ]
           ],
           "sequentialminus": [
            [
             0,
             "#0d0887"
            ],
            [
             0.1111111111111111,
             "#46039f"
            ],
            [
             0.2222222222222222,
             "#7201a8"
            ],
            [
             0.3333333333333333,
             "#9c179e"
            ],
            [
             0.4444444444444444,
             "#bd3786"
            ],
            [
             0.5555555555555556,
             "#d8576b"
            ],
            [
             0.6666666666666666,
             "#ed7953"
            ],
            [
             0.7777777777777778,
             "#fb9f3a"
            ],
            [
             0.8888888888888888,
             "#fdca26"
            ],
            [
             1,
             "#f0f921"
            ]
           ]
          },
          "colorway": [
           "#636efa",
           "#EF553B",
           "#00cc96",
           "#ab63fa",
           "#FFA15A",
           "#19d3f3",
           "#FF6692",
           "#B6E880",
           "#FF97FF",
           "#FECB52"
          ],
          "font": {
           "color": "#2a3f5f"
          },
          "geo": {
           "bgcolor": "white",
           "lakecolor": "white",
           "landcolor": "#E5ECF6",
           "showlakes": true,
           "showland": true,
           "subunitcolor": "white"
          },
          "hoverlabel": {
           "align": "left"
          },
          "hovermode": "closest",
          "mapbox": {
           "style": "light"
          },
          "paper_bgcolor": "white",
          "plot_bgcolor": "#E5ECF6",
          "polar": {
           "angularaxis": {
            "gridcolor": "white",
            "linecolor": "white",
            "ticks": ""
           },
           "bgcolor": "#E5ECF6",
           "radialaxis": {
            "gridcolor": "white",
            "linecolor": "white",
            "ticks": ""
           }
          },
          "scene": {
           "xaxis": {
            "backgroundcolor": "#E5ECF6",
            "gridcolor": "white",
            "gridwidth": 2,
            "linecolor": "white",
            "showbackground": true,
            "ticks": "",
            "zerolinecolor": "white"
           },
           "yaxis": {
            "backgroundcolor": "#E5ECF6",
            "gridcolor": "white",
            "gridwidth": 2,
            "linecolor": "white",
            "showbackground": true,
            "ticks": "",
            "zerolinecolor": "white"
           },
           "zaxis": {
            "backgroundcolor": "#E5ECF6",
            "gridcolor": "white",
            "gridwidth": 2,
            "linecolor": "white",
            "showbackground": true,
            "ticks": "",
            "zerolinecolor": "white"
           }
          },
          "shapedefaults": {
           "line": {
            "color": "#2a3f5f"
           }
          },
          "ternary": {
           "aaxis": {
            "gridcolor": "white",
            "linecolor": "white",
            "ticks": ""
           },
           "baxis": {
            "gridcolor": "white",
            "linecolor": "white",
            "ticks": ""
           },
           "bgcolor": "#E5ECF6",
           "caxis": {
            "gridcolor": "white",
            "linecolor": "white",
            "ticks": ""
           }
          },
          "title": {
           "x": 0.05
          },
          "xaxis": {
           "automargin": true,
           "gridcolor": "white",
           "linecolor": "white",
           "ticks": "",
           "title": {
            "standoff": 15
           },
           "zerolinecolor": "white",
           "zerolinewidth": 2
          },
          "yaxis": {
           "automargin": true,
           "gridcolor": "white",
           "linecolor": "white",
           "ticks": "",
           "title": {
            "standoff": 15
           },
           "zerolinecolor": "white",
           "zerolinewidth": 2
          }
         }
        },
        "title": {
         "text": "Amount of entries per maneuver type"
        },
        "xaxis": {
         "anchor": "y",
         "domain": [
          0,
          1
         ],
         "title": {
          "text": "maneuver"
         }
        },
        "yaxis": {
         "anchor": "x",
         "domain": [
          0,
          1
         ],
         "title": {
          "text": "Amount of entries"
         }
        }
       }
      }
     },
     "metadata": {},
     "output_type": "display_data"
    }
   ],
   "source": [
    "fig = px.bar(x=df.maneuverType.value_counts().index, y=df.maneuverType.value_counts().values,\n",
    "            title='Amount of entries per maneuver type')\n",
    "\n",
    "fig.update_xaxes(title_text='maneuver')\n",
    "fig.update_yaxes(title_text='Amount of entries')\n",
    "fig.show()"
   ]
  },
  {
   "attachments": {},
   "cell_type": "markdown",
   "metadata": {},
   "source": [
    "def type_to_elements(df, maneuverType, roadTypes, elements):\n",
    "    \n",
    "    for road in roadTypes:\n",
    "        for element in elements:\n",
    "            df.loc[(df['maneuverType']== maneuverType) & (df['roadType']== road) & (df['maneuverElement']== element),\n",
    "                'maneuverType'] = f\"{element}_{road}\"\n",
    "    \n",
    "    return df\n",
    "\n",
    "maneuverType = 'Fahren_kontinuierlich'\n",
    "roadTypes = ['Autobahn', 'Landstraße', 'Stadtstraße', 'Bundesstraße']\n",
    "elements = ['Verlangsamen', 'Beschleunigen']\n",
    "\n",
    "df = type_to_elements(df, maneuverType, roadTypes, elements)\n",
    "df.shape"
   ]
  },
  {
   "cell_type": "code",
   "execution_count": 91,
   "metadata": {},
   "outputs": [
    {
     "data": {
      "text/html": [
       "<div>\n",
       "<style scoped>\n",
       "    .dataframe tbody tr th:only-of-type {\n",
       "        vertical-align: middle;\n",
       "    }\n",
       "\n",
       "    .dataframe tbody tr th {\n",
       "        vertical-align: top;\n",
       "    }\n",
       "\n",
       "    .dataframe thead th {\n",
       "        text-align: right;\n",
       "    }\n",
       "</style>\n",
       "<table border=\"1\" class=\"dataframe\">\n",
       "  <thead>\n",
       "    <tr style=\"text-align: right;\">\n",
       "      <th></th>\n",
       "      <th>datetime</th>\n",
       "      <th>accX</th>\n",
       "      <th>accY</th>\n",
       "      <th>accZ</th>\n",
       "      <th>gyroX</th>\n",
       "      <th>gyroY</th>\n",
       "      <th>gyroZ</th>\n",
       "      <th>latitude</th>\n",
       "      <th>longitude</th>\n",
       "      <th>altitude</th>\n",
       "      <th>accuracy</th>\n",
       "      <th>speed</th>\n",
       "      <th>maneuverID</th>\n",
       "      <th>maneuverType</th>\n",
       "      <th>maneuverElement</th>\n",
       "      <th>section</th>\n",
       "      <th>roadType</th>\n",
       "      <th>vehicle</th>\n",
       "      <th>person</th>\n",
       "    </tr>\n",
       "  </thead>\n",
       "  <tbody>\n",
       "    <tr>\n",
       "      <th>1</th>\n",
       "      <td>2023-01-06 10:44:29.958</td>\n",
       "      <td>0.023271</td>\n",
       "      <td>0.100068</td>\n",
       "      <td>0.143770</td>\n",
       "      <td>0.013182</td>\n",
       "      <td>0.004794</td>\n",
       "      <td>0.000399</td>\n",
       "      <td>52.366269</td>\n",
       "      <td>9.761421</td>\n",
       "      <td>98.700005</td>\n",
       "      <td>11.716</td>\n",
       "      <td>0.060892</td>\n",
       "      <td>000000-P1M</td>\n",
       "      <td>Stand</td>\n",
       "      <td>Stand</td>\n",
       "      <td>1</td>\n",
       "      <td>Stadtstraße</td>\n",
       "      <td>Skoda Fabia</td>\n",
       "      <td>P01</td>\n",
       "    </tr>\n",
       "    <tr>\n",
       "      <th>3</th>\n",
       "      <td>2023-01-06 10:44:30.957</td>\n",
       "      <td>0.012233</td>\n",
       "      <td>-0.005673</td>\n",
       "      <td>0.002899</td>\n",
       "      <td>0.000266</td>\n",
       "      <td>0.001198</td>\n",
       "      <td>0.001065</td>\n",
       "      <td>52.366270</td>\n",
       "      <td>9.761421</td>\n",
       "      <td>98.700005</td>\n",
       "      <td>9.591</td>\n",
       "      <td>0.035770</td>\n",
       "      <td>000000-P1M</td>\n",
       "      <td>Stand</td>\n",
       "      <td>Stand</td>\n",
       "      <td>1</td>\n",
       "      <td>Stadtstraße</td>\n",
       "      <td>Skoda Fabia</td>\n",
       "      <td>P01</td>\n",
       "    </tr>\n",
       "    <tr>\n",
       "      <th>5</th>\n",
       "      <td>2023-01-06 10:44:31.958</td>\n",
       "      <td>0.006959</td>\n",
       "      <td>0.002400</td>\n",
       "      <td>0.022964</td>\n",
       "      <td>-0.000932</td>\n",
       "      <td>-0.001997</td>\n",
       "      <td>0.001198</td>\n",
       "      <td>52.366270</td>\n",
       "      <td>9.761421</td>\n",
       "      <td>98.700005</td>\n",
       "      <td>9.591</td>\n",
       "      <td>0.035770</td>\n",
       "      <td>000000-P1M</td>\n",
       "      <td>Stand</td>\n",
       "      <td>Stand</td>\n",
       "      <td>1</td>\n",
       "      <td>Stadtstraße</td>\n",
       "      <td>Skoda Fabia</td>\n",
       "      <td>P01</td>\n",
       "    </tr>\n",
       "    <tr>\n",
       "      <th>7</th>\n",
       "      <td>2023-01-06 10:44:32.958</td>\n",
       "      <td>0.021171</td>\n",
       "      <td>0.007422</td>\n",
       "      <td>0.040046</td>\n",
       "      <td>-0.000666</td>\n",
       "      <td>-0.002929</td>\n",
       "      <td>-0.000133</td>\n",
       "      <td>52.366270</td>\n",
       "      <td>9.761421</td>\n",
       "      <td>98.700005</td>\n",
       "      <td>9.591</td>\n",
       "      <td>0.035770</td>\n",
       "      <td>000000-P1M</td>\n",
       "      <td>Stand</td>\n",
       "      <td>Stand</td>\n",
       "      <td>1</td>\n",
       "      <td>Stadtstraße</td>\n",
       "      <td>Skoda Fabia</td>\n",
       "      <td>P01</td>\n",
       "    </tr>\n",
       "    <tr>\n",
       "      <th>9</th>\n",
       "      <td>2023-01-06 10:44:33.958</td>\n",
       "      <td>-0.015010</td>\n",
       "      <td>-0.004745</td>\n",
       "      <td>-0.051769</td>\n",
       "      <td>-0.000266</td>\n",
       "      <td>-0.000133</td>\n",
       "      <td>0.000266</td>\n",
       "      <td>52.366270</td>\n",
       "      <td>9.761421</td>\n",
       "      <td>98.700005</td>\n",
       "      <td>6.913</td>\n",
       "      <td>0.006310</td>\n",
       "      <td>000000-P1M</td>\n",
       "      <td>Stand</td>\n",
       "      <td>Stand</td>\n",
       "      <td>1</td>\n",
       "      <td>Stadtstraße</td>\n",
       "      <td>Skoda Fabia</td>\n",
       "      <td>P01</td>\n",
       "    </tr>\n",
       "  </tbody>\n",
       "</table>\n",
       "</div>"
      ],
      "text/plain": [
       "                  datetime      accX      accY      accZ     gyroX     gyroY  \\\n",
       "1  2023-01-06 10:44:29.958  0.023271  0.100068  0.143770  0.013182  0.004794   \n",
       "3  2023-01-06 10:44:30.957  0.012233 -0.005673  0.002899  0.000266  0.001198   \n",
       "5  2023-01-06 10:44:31.958  0.006959  0.002400  0.022964 -0.000932 -0.001997   \n",
       "7  2023-01-06 10:44:32.958  0.021171  0.007422  0.040046 -0.000666 -0.002929   \n",
       "9  2023-01-06 10:44:33.958 -0.015010 -0.004745 -0.051769 -0.000266 -0.000133   \n",
       "\n",
       "      gyroZ   latitude  longitude   altitude  accuracy     speed  maneuverID  \\\n",
       "1  0.000399  52.366269   9.761421  98.700005    11.716  0.060892  000000-P1M   \n",
       "3  0.001065  52.366270   9.761421  98.700005     9.591  0.035770  000000-P1M   \n",
       "5  0.001198  52.366270   9.761421  98.700005     9.591  0.035770  000000-P1M   \n",
       "7 -0.000133  52.366270   9.761421  98.700005     9.591  0.035770  000000-P1M   \n",
       "9  0.000266  52.366270   9.761421  98.700005     6.913  0.006310  000000-P1M   \n",
       "\n",
       "  maneuverType maneuverElement  section     roadType      vehicle person  \n",
       "1        Stand           Stand        1  Stadtstraße  Skoda Fabia    P01  \n",
       "3        Stand           Stand        1  Stadtstraße  Skoda Fabia    P01  \n",
       "5        Stand           Stand        1  Stadtstraße  Skoda Fabia    P01  \n",
       "7        Stand           Stand        1  Stadtstraße  Skoda Fabia    P01  \n",
       "9        Stand           Stand        1  Stadtstraße  Skoda Fabia    P01  "
      ]
     },
     "execution_count": 91,
     "metadata": {},
     "output_type": "execute_result"
    }
   ],
   "source": [
    "# drop every 2nd row of 'Fahren_kontinuierlich' and 'Stand'ArithmeticError\n",
    "\n",
    "index_fahren = df[df['maneuverType'] == 'Fahren_kontinuierlich'].index[::2]\n",
    "index_stand = df[df['maneuverType'] == 'Stand'].index[::2]\n",
    "\n",
    "df = df.drop(index_fahren)\n",
    "df = df.drop(index_stand)\n",
    "\n",
    "df = df.drop(df[(df.maneuverType == 'Auffahrt_Beschleunigungsstreifen') | (df.maneuverType == 'Überholen') |\n",
    "                         (df.maneuverType == 'Durchfahren_Kreisverkehr') | (df.maneuverType == 'Durchfahren_ampelloser_Kreuzungen') |\n",
    "                         (df.maneuverType == 'Spurwechsel_links') | (df.maneuverType == 'Spurwechsel_rechts') |\n",
    "                         (df.maneuverType == 'Abfahrt_Verzögerungsstreifen')].index)\n",
    "\n",
    "df.head(5)"
   ]
  },
  {
   "cell_type": "code",
   "execution_count": 92,
   "metadata": {},
   "outputs": [
    {
     "data": {
      "application/vnd.plotly.v1+json": {
       "config": {
        "plotlyServerURL": "https://plot.ly"
       },
       "data": [
        {
         "alignmentgroup": "True",
         "hovertemplate": "x=%{x}<br>y=%{y}<extra></extra>",
         "legendgroup": "",
         "marker": {
          "color": "#636efa",
          "pattern": {
           "shape": ""
          }
         },
         "name": "",
         "offsetgroup": "",
         "orientation": "v",
         "showlegend": false,
         "textposition": "auto",
         "type": "bar",
         "x": [
          "Fahren_kontinuierlich",
          "Bremsen_zielgerichtet",
          "Stand",
          "Kurve_rechts",
          "Anfahren_aus_Stand",
          "Kurve_links",
          "Abbiegen_links",
          "Abbiegen_rechts"
         ],
         "xaxis": "x",
         "y": [
          7461,
          2163,
          2066,
          1240,
          1183,
          1148,
          975,
          777
         ],
         "yaxis": "y"
        }
       ],
       "layout": {
        "barmode": "relative",
        "legend": {
         "tracegroupgap": 0
        },
        "template": {
         "data": {
          "bar": [
           {
            "error_x": {
             "color": "#2a3f5f"
            },
            "error_y": {
             "color": "#2a3f5f"
            },
            "marker": {
             "line": {
              "color": "#E5ECF6",
              "width": 0.5
             },
             "pattern": {
              "fillmode": "overlay",
              "size": 10,
              "solidity": 0.2
             }
            },
            "type": "bar"
           }
          ],
          "barpolar": [
           {
            "marker": {
             "line": {
              "color": "#E5ECF6",
              "width": 0.5
             },
             "pattern": {
              "fillmode": "overlay",
              "size": 10,
              "solidity": 0.2
             }
            },
            "type": "barpolar"
           }
          ],
          "carpet": [
           {
            "aaxis": {
             "endlinecolor": "#2a3f5f",
             "gridcolor": "white",
             "linecolor": "white",
             "minorgridcolor": "white",
             "startlinecolor": "#2a3f5f"
            },
            "baxis": {
             "endlinecolor": "#2a3f5f",
             "gridcolor": "white",
             "linecolor": "white",
             "minorgridcolor": "white",
             "startlinecolor": "#2a3f5f"
            },
            "type": "carpet"
           }
          ],
          "choropleth": [
           {
            "colorbar": {
             "outlinewidth": 0,
             "ticks": ""
            },
            "type": "choropleth"
           }
          ],
          "contour": [
           {
            "colorbar": {
             "outlinewidth": 0,
             "ticks": ""
            },
            "colorscale": [
             [
              0,
              "#0d0887"
             ],
             [
              0.1111111111111111,
              "#46039f"
             ],
             [
              0.2222222222222222,
              "#7201a8"
             ],
             [
              0.3333333333333333,
              "#9c179e"
             ],
             [
              0.4444444444444444,
              "#bd3786"
             ],
             [
              0.5555555555555556,
              "#d8576b"
             ],
             [
              0.6666666666666666,
              "#ed7953"
             ],
             [
              0.7777777777777778,
              "#fb9f3a"
             ],
             [
              0.8888888888888888,
              "#fdca26"
             ],
             [
              1,
              "#f0f921"
             ]
            ],
            "type": "contour"
           }
          ],
          "contourcarpet": [
           {
            "colorbar": {
             "outlinewidth": 0,
             "ticks": ""
            },
            "type": "contourcarpet"
           }
          ],
          "heatmap": [
           {
            "colorbar": {
             "outlinewidth": 0,
             "ticks": ""
            },
            "colorscale": [
             [
              0,
              "#0d0887"
             ],
             [
              0.1111111111111111,
              "#46039f"
             ],
             [
              0.2222222222222222,
              "#7201a8"
             ],
             [
              0.3333333333333333,
              "#9c179e"
             ],
             [
              0.4444444444444444,
              "#bd3786"
             ],
             [
              0.5555555555555556,
              "#d8576b"
             ],
             [
              0.6666666666666666,
              "#ed7953"
             ],
             [
              0.7777777777777778,
              "#fb9f3a"
             ],
             [
              0.8888888888888888,
              "#fdca26"
             ],
             [
              1,
              "#f0f921"
             ]
            ],
            "type": "heatmap"
           }
          ],
          "heatmapgl": [
           {
            "colorbar": {
             "outlinewidth": 0,
             "ticks": ""
            },
            "colorscale": [
             [
              0,
              "#0d0887"
             ],
             [
              0.1111111111111111,
              "#46039f"
             ],
             [
              0.2222222222222222,
              "#7201a8"
             ],
             [
              0.3333333333333333,
              "#9c179e"
             ],
             [
              0.4444444444444444,
              "#bd3786"
             ],
             [
              0.5555555555555556,
              "#d8576b"
             ],
             [
              0.6666666666666666,
              "#ed7953"
             ],
             [
              0.7777777777777778,
              "#fb9f3a"
             ],
             [
              0.8888888888888888,
              "#fdca26"
             ],
             [
              1,
              "#f0f921"
             ]
            ],
            "type": "heatmapgl"
           }
          ],
          "histogram": [
           {
            "marker": {
             "pattern": {
              "fillmode": "overlay",
              "size": 10,
              "solidity": 0.2
             }
            },
            "type": "histogram"
           }
          ],
          "histogram2d": [
           {
            "colorbar": {
             "outlinewidth": 0,
             "ticks": ""
            },
            "colorscale": [
             [
              0,
              "#0d0887"
             ],
             [
              0.1111111111111111,
              "#46039f"
             ],
             [
              0.2222222222222222,
              "#7201a8"
             ],
             [
              0.3333333333333333,
              "#9c179e"
             ],
             [
              0.4444444444444444,
              "#bd3786"
             ],
             [
              0.5555555555555556,
              "#d8576b"
             ],
             [
              0.6666666666666666,
              "#ed7953"
             ],
             [
              0.7777777777777778,
              "#fb9f3a"
             ],
             [
              0.8888888888888888,
              "#fdca26"
             ],
             [
              1,
              "#f0f921"
             ]
            ],
            "type": "histogram2d"
           }
          ],
          "histogram2dcontour": [
           {
            "colorbar": {
             "outlinewidth": 0,
             "ticks": ""
            },
            "colorscale": [
             [
              0,
              "#0d0887"
             ],
             [
              0.1111111111111111,
              "#46039f"
             ],
             [
              0.2222222222222222,
              "#7201a8"
             ],
             [
              0.3333333333333333,
              "#9c179e"
             ],
             [
              0.4444444444444444,
              "#bd3786"
             ],
             [
              0.5555555555555556,
              "#d8576b"
             ],
             [
              0.6666666666666666,
              "#ed7953"
             ],
             [
              0.7777777777777778,
              "#fb9f3a"
             ],
             [
              0.8888888888888888,
              "#fdca26"
             ],
             [
              1,
              "#f0f921"
             ]
            ],
            "type": "histogram2dcontour"
           }
          ],
          "mesh3d": [
           {
            "colorbar": {
             "outlinewidth": 0,
             "ticks": ""
            },
            "type": "mesh3d"
           }
          ],
          "parcoords": [
           {
            "line": {
             "colorbar": {
              "outlinewidth": 0,
              "ticks": ""
             }
            },
            "type": "parcoords"
           }
          ],
          "pie": [
           {
            "automargin": true,
            "type": "pie"
           }
          ],
          "scatter": [
           {
            "fillpattern": {
             "fillmode": "overlay",
             "size": 10,
             "solidity": 0.2
            },
            "type": "scatter"
           }
          ],
          "scatter3d": [
           {
            "line": {
             "colorbar": {
              "outlinewidth": 0,
              "ticks": ""
             }
            },
            "marker": {
             "colorbar": {
              "outlinewidth": 0,
              "ticks": ""
             }
            },
            "type": "scatter3d"
           }
          ],
          "scattercarpet": [
           {
            "marker": {
             "colorbar": {
              "outlinewidth": 0,
              "ticks": ""
             }
            },
            "type": "scattercarpet"
           }
          ],
          "scattergeo": [
           {
            "marker": {
             "colorbar": {
              "outlinewidth": 0,
              "ticks": ""
             }
            },
            "type": "scattergeo"
           }
          ],
          "scattergl": [
           {
            "marker": {
             "colorbar": {
              "outlinewidth": 0,
              "ticks": ""
             }
            },
            "type": "scattergl"
           }
          ],
          "scattermapbox": [
           {
            "marker": {
             "colorbar": {
              "outlinewidth": 0,
              "ticks": ""
             }
            },
            "type": "scattermapbox"
           }
          ],
          "scatterpolar": [
           {
            "marker": {
             "colorbar": {
              "outlinewidth": 0,
              "ticks": ""
             }
            },
            "type": "scatterpolar"
           }
          ],
          "scatterpolargl": [
           {
            "marker": {
             "colorbar": {
              "outlinewidth": 0,
              "ticks": ""
             }
            },
            "type": "scatterpolargl"
           }
          ],
          "scatterternary": [
           {
            "marker": {
             "colorbar": {
              "outlinewidth": 0,
              "ticks": ""
             }
            },
            "type": "scatterternary"
           }
          ],
          "surface": [
           {
            "colorbar": {
             "outlinewidth": 0,
             "ticks": ""
            },
            "colorscale": [
             [
              0,
              "#0d0887"
             ],
             [
              0.1111111111111111,
              "#46039f"
             ],
             [
              0.2222222222222222,
              "#7201a8"
             ],
             [
              0.3333333333333333,
              "#9c179e"
             ],
             [
              0.4444444444444444,
              "#bd3786"
             ],
             [
              0.5555555555555556,
              "#d8576b"
             ],
             [
              0.6666666666666666,
              "#ed7953"
             ],
             [
              0.7777777777777778,
              "#fb9f3a"
             ],
             [
              0.8888888888888888,
              "#fdca26"
             ],
             [
              1,
              "#f0f921"
             ]
            ],
            "type": "surface"
           }
          ],
          "table": [
           {
            "cells": {
             "fill": {
              "color": "#EBF0F8"
             },
             "line": {
              "color": "white"
             }
            },
            "header": {
             "fill": {
              "color": "#C8D4E3"
             },
             "line": {
              "color": "white"
             }
            },
            "type": "table"
           }
          ]
         },
         "layout": {
          "annotationdefaults": {
           "arrowcolor": "#2a3f5f",
           "arrowhead": 0,
           "arrowwidth": 1
          },
          "autotypenumbers": "strict",
          "coloraxis": {
           "colorbar": {
            "outlinewidth": 0,
            "ticks": ""
           }
          },
          "colorscale": {
           "diverging": [
            [
             0,
             "#8e0152"
            ],
            [
             0.1,
             "#c51b7d"
            ],
            [
             0.2,
             "#de77ae"
            ],
            [
             0.3,
             "#f1b6da"
            ],
            [
             0.4,
             "#fde0ef"
            ],
            [
             0.5,
             "#f7f7f7"
            ],
            [
             0.6,
             "#e6f5d0"
            ],
            [
             0.7,
             "#b8e186"
            ],
            [
             0.8,
             "#7fbc41"
            ],
            [
             0.9,
             "#4d9221"
            ],
            [
             1,
             "#276419"
            ]
           ],
           "sequential": [
            [
             0,
             "#0d0887"
            ],
            [
             0.1111111111111111,
             "#46039f"
            ],
            [
             0.2222222222222222,
             "#7201a8"
            ],
            [
             0.3333333333333333,
             "#9c179e"
            ],
            [
             0.4444444444444444,
             "#bd3786"
            ],
            [
             0.5555555555555556,
             "#d8576b"
            ],
            [
             0.6666666666666666,
             "#ed7953"
            ],
            [
             0.7777777777777778,
             "#fb9f3a"
            ],
            [
             0.8888888888888888,
             "#fdca26"
            ],
            [
             1,
             "#f0f921"
            ]
           ],
           "sequentialminus": [
            [
             0,
             "#0d0887"
            ],
            [
             0.1111111111111111,
             "#46039f"
            ],
            [
             0.2222222222222222,
             "#7201a8"
            ],
            [
             0.3333333333333333,
             "#9c179e"
            ],
            [
             0.4444444444444444,
             "#bd3786"
            ],
            [
             0.5555555555555556,
             "#d8576b"
            ],
            [
             0.6666666666666666,
             "#ed7953"
            ],
            [
             0.7777777777777778,
             "#fb9f3a"
            ],
            [
             0.8888888888888888,
             "#fdca26"
            ],
            [
             1,
             "#f0f921"
            ]
           ]
          },
          "colorway": [
           "#636efa",
           "#EF553B",
           "#00cc96",
           "#ab63fa",
           "#FFA15A",
           "#19d3f3",
           "#FF6692",
           "#B6E880",
           "#FF97FF",
           "#FECB52"
          ],
          "font": {
           "color": "#2a3f5f"
          },
          "geo": {
           "bgcolor": "white",
           "lakecolor": "white",
           "landcolor": "#E5ECF6",
           "showlakes": true,
           "showland": true,
           "subunitcolor": "white"
          },
          "hoverlabel": {
           "align": "left"
          },
          "hovermode": "closest",
          "mapbox": {
           "style": "light"
          },
          "paper_bgcolor": "white",
          "plot_bgcolor": "#E5ECF6",
          "polar": {
           "angularaxis": {
            "gridcolor": "white",
            "linecolor": "white",
            "ticks": ""
           },
           "bgcolor": "#E5ECF6",
           "radialaxis": {
            "gridcolor": "white",
            "linecolor": "white",
            "ticks": ""
           }
          },
          "scene": {
           "xaxis": {
            "backgroundcolor": "#E5ECF6",
            "gridcolor": "white",
            "gridwidth": 2,
            "linecolor": "white",
            "showbackground": true,
            "ticks": "",
            "zerolinecolor": "white"
           },
           "yaxis": {
            "backgroundcolor": "#E5ECF6",
            "gridcolor": "white",
            "gridwidth": 2,
            "linecolor": "white",
            "showbackground": true,
            "ticks": "",
            "zerolinecolor": "white"
           },
           "zaxis": {
            "backgroundcolor": "#E5ECF6",
            "gridcolor": "white",
            "gridwidth": 2,
            "linecolor": "white",
            "showbackground": true,
            "ticks": "",
            "zerolinecolor": "white"
           }
          },
          "shapedefaults": {
           "line": {
            "color": "#2a3f5f"
           }
          },
          "ternary": {
           "aaxis": {
            "gridcolor": "white",
            "linecolor": "white",
            "ticks": ""
           },
           "baxis": {
            "gridcolor": "white",
            "linecolor": "white",
            "ticks": ""
           },
           "bgcolor": "#E5ECF6",
           "caxis": {
            "gridcolor": "white",
            "linecolor": "white",
            "ticks": ""
           }
          },
          "title": {
           "x": 0.05
          },
          "xaxis": {
           "automargin": true,
           "gridcolor": "white",
           "linecolor": "white",
           "ticks": "",
           "title": {
            "standoff": 15
           },
           "zerolinecolor": "white",
           "zerolinewidth": 2
          },
          "yaxis": {
           "automargin": true,
           "gridcolor": "white",
           "linecolor": "white",
           "ticks": "",
           "title": {
            "standoff": 15
           },
           "zerolinecolor": "white",
           "zerolinewidth": 2
          }
         }
        },
        "title": {
         "text": "Amount of entries per maneuver type"
        },
        "xaxis": {
         "anchor": "y",
         "domain": [
          0,
          1
         ],
         "title": {
          "text": "maneuver"
         }
        },
        "yaxis": {
         "anchor": "x",
         "domain": [
          0,
          1
         ],
         "title": {
          "text": "Amount of entries"
         }
        }
       }
      }
     },
     "metadata": {},
     "output_type": "display_data"
    }
   ],
   "source": [
    "fig = px.bar(x=df.maneuverType.value_counts().index, y=df.maneuverType.value_counts().values,\n",
    "            title='Amount of entries per maneuver type')\n",
    "\n",
    "fig.update_xaxes(title_text='maneuver')\n",
    "fig.update_yaxes(title_text='Amount of entries')\n",
    "fig.show()"
   ]
  },
  {
   "cell_type": "code",
   "execution_count": 93,
   "metadata": {},
   "outputs": [
    {
     "name": "stderr",
     "output_type": "stream",
     "text": [
      "/opt/anaconda3/envs/p3-8-tensorflow04-telematic/lib/python3.8/site-packages/sklearn/base.py:439: UserWarning:\n",
      "\n",
      "X does not have valid feature names, but RobustScaler was fitted with feature names\n",
      "\n"
     ]
    },
    {
     "data": {
      "text/html": [
       "<div>\n",
       "<style scoped>\n",
       "    .dataframe tbody tr th:only-of-type {\n",
       "        vertical-align: middle;\n",
       "    }\n",
       "\n",
       "    .dataframe tbody tr th {\n",
       "        vertical-align: top;\n",
       "    }\n",
       "\n",
       "    .dataframe thead th {\n",
       "        text-align: right;\n",
       "    }\n",
       "</style>\n",
       "<table border=\"1\" class=\"dataframe\">\n",
       "  <thead>\n",
       "    <tr style=\"text-align: right;\">\n",
       "      <th></th>\n",
       "      <th>datetime</th>\n",
       "      <th>accX</th>\n",
       "      <th>accY</th>\n",
       "      <th>accZ</th>\n",
       "      <th>gyroX</th>\n",
       "      <th>gyroY</th>\n",
       "      <th>gyroZ</th>\n",
       "      <th>latitude</th>\n",
       "      <th>longitude</th>\n",
       "      <th>altitude</th>\n",
       "      <th>accuracy</th>\n",
       "      <th>speed</th>\n",
       "      <th>maneuverID</th>\n",
       "      <th>maneuverType</th>\n",
       "      <th>maneuverElement</th>\n",
       "      <th>section</th>\n",
       "      <th>roadType</th>\n",
       "      <th>vehicle</th>\n",
       "      <th>person</th>\n",
       "    </tr>\n",
       "  </thead>\n",
       "  <tbody>\n",
       "    <tr>\n",
       "      <th>1</th>\n",
       "      <td>2023-01-06 10:44:29.958</td>\n",
       "      <td>0.186451</td>\n",
       "      <td>0.829335</td>\n",
       "      <td>0.795743</td>\n",
       "      <td>0.851852</td>\n",
       "      <td>0.308333</td>\n",
       "      <td>0.055556</td>\n",
       "      <td>52.366269</td>\n",
       "      <td>9.761421</td>\n",
       "      <td>98.700005</td>\n",
       "      <td>11.716</td>\n",
       "      <td>-0.791473</td>\n",
       "      <td>000000-P1M</td>\n",
       "      <td>Stand</td>\n",
       "      <td>Stand</td>\n",
       "      <td>1</td>\n",
       "      <td>Stadtstraße</td>\n",
       "      <td>Skoda Fabia</td>\n",
       "      <td>P01</td>\n",
       "    </tr>\n",
       "    <tr>\n",
       "      <th>3</th>\n",
       "      <td>2023-01-06 10:44:30.957</td>\n",
       "      <td>0.099932</td>\n",
       "      <td>-0.048232</td>\n",
       "      <td>-0.019720</td>\n",
       "      <td>-0.046296</td>\n",
       "      <td>0.083333</td>\n",
       "      <td>0.125000</td>\n",
       "      <td>52.366270</td>\n",
       "      <td>9.761421</td>\n",
       "      <td>98.700005</td>\n",
       "      <td>9.591</td>\n",
       "      <td>-0.793391</td>\n",
       "      <td>000000-P1M</td>\n",
       "      <td>Stand</td>\n",
       "      <td>Stand</td>\n",
       "      <td>1</td>\n",
       "      <td>Stadtstraße</td>\n",
       "      <td>Skoda Fabia</td>\n",
       "      <td>P01</td>\n",
       "    </tr>\n",
       "    <tr>\n",
       "      <th>5</th>\n",
       "      <td>2023-01-06 10:44:31.958</td>\n",
       "      <td>0.058595</td>\n",
       "      <td>0.018774</td>\n",
       "      <td>0.096430</td>\n",
       "      <td>-0.129630</td>\n",
       "      <td>-0.116667</td>\n",
       "      <td>0.138889</td>\n",
       "      <td>52.366270</td>\n",
       "      <td>9.761421</td>\n",
       "      <td>98.700005</td>\n",
       "      <td>9.591</td>\n",
       "      <td>-0.793391</td>\n",
       "      <td>000000-P1M</td>\n",
       "      <td>Stand</td>\n",
       "      <td>Stand</td>\n",
       "      <td>1</td>\n",
       "      <td>Stadtstraße</td>\n",
       "      <td>Skoda Fabia</td>\n",
       "      <td>P01</td>\n",
       "    </tr>\n",
       "    <tr>\n",
       "      <th>7</th>\n",
       "      <td>2023-01-06 10:44:32.958</td>\n",
       "      <td>0.169993</td>\n",
       "      <td>0.060453</td>\n",
       "      <td>0.195312</td>\n",
       "      <td>-0.111111</td>\n",
       "      <td>-0.175000</td>\n",
       "      <td>0.000000</td>\n",
       "      <td>52.366270</td>\n",
       "      <td>9.761421</td>\n",
       "      <td>98.700005</td>\n",
       "      <td>9.591</td>\n",
       "      <td>-0.793391</td>\n",
       "      <td>000000-P1M</td>\n",
       "      <td>Stand</td>\n",
       "      <td>Stand</td>\n",
       "      <td>1</td>\n",
       "      <td>Stadtstraße</td>\n",
       "      <td>Skoda Fabia</td>\n",
       "      <td>P01</td>\n",
       "    </tr>\n",
       "    <tr>\n",
       "      <th>9</th>\n",
       "      <td>2023-01-06 10:44:33.958</td>\n",
       "      <td>-0.113599</td>\n",
       "      <td>-0.040523</td>\n",
       "      <td>-0.336174</td>\n",
       "      <td>-0.083333</td>\n",
       "      <td>0.000000</td>\n",
       "      <td>0.041667</td>\n",
       "      <td>52.366270</td>\n",
       "      <td>9.761421</td>\n",
       "      <td>98.700005</td>\n",
       "      <td>6.913</td>\n",
       "      <td>-0.795642</td>\n",
       "      <td>000000-P1M</td>\n",
       "      <td>Stand</td>\n",
       "      <td>Stand</td>\n",
       "      <td>1</td>\n",
       "      <td>Stadtstraße</td>\n",
       "      <td>Skoda Fabia</td>\n",
       "      <td>P01</td>\n",
       "    </tr>\n",
       "  </tbody>\n",
       "</table>\n",
       "</div>"
      ],
      "text/plain": [
       "                  datetime      accX      accY      accZ     gyroX     gyroY  \\\n",
       "1  2023-01-06 10:44:29.958  0.186451  0.829335  0.795743  0.851852  0.308333   \n",
       "3  2023-01-06 10:44:30.957  0.099932 -0.048232 -0.019720 -0.046296  0.083333   \n",
       "5  2023-01-06 10:44:31.958  0.058595  0.018774  0.096430 -0.129630 -0.116667   \n",
       "7  2023-01-06 10:44:32.958  0.169993  0.060453  0.195312 -0.111111 -0.175000   \n",
       "9  2023-01-06 10:44:33.958 -0.113599 -0.040523 -0.336174 -0.083333  0.000000   \n",
       "\n",
       "      gyroZ   latitude  longitude   altitude  accuracy     speed  maneuverID  \\\n",
       "1  0.055556  52.366269   9.761421  98.700005    11.716 -0.791473  000000-P1M   \n",
       "3  0.125000  52.366270   9.761421  98.700005     9.591 -0.793391  000000-P1M   \n",
       "5  0.138889  52.366270   9.761421  98.700005     9.591 -0.793391  000000-P1M   \n",
       "7  0.000000  52.366270   9.761421  98.700005     9.591 -0.793391  000000-P1M   \n",
       "9  0.041667  52.366270   9.761421  98.700005     6.913 -0.795642  000000-P1M   \n",
       "\n",
       "  maneuverType maneuverElement  section     roadType      vehicle person  \n",
       "1        Stand           Stand        1  Stadtstraße  Skoda Fabia    P01  \n",
       "3        Stand           Stand        1  Stadtstraße  Skoda Fabia    P01  \n",
       "5        Stand           Stand        1  Stadtstraße  Skoda Fabia    P01  \n",
       "7        Stand           Stand        1  Stadtstraße  Skoda Fabia    P01  \n",
       "9        Stand           Stand        1  Stadtstraße  Skoda Fabia    P01  "
      ]
     },
     "execution_count": 93,
     "metadata": {},
     "output_type": "execute_result"
    }
   ],
   "source": [
    "\n",
    "scale_columns = ['accX', 'accY', 'accZ', 'gyroX', 'gyroY', 'gyroZ', 'speed']\n",
    "\n",
    "scaler = RobustScaler()\n",
    "\n",
    "scaler = scaler.fit(df[scale_columns])\n",
    "\n",
    "df.loc[:, scale_columns] = scaler.transform(\n",
    "  df[scale_columns].to_numpy()\n",
    ")\n",
    "\n",
    "df.head()"
   ]
  },
  {
   "attachments": {},
   "cell_type": "markdown",
   "metadata": {},
   "source": [
    "## Train / Test split"
   ]
  },
  {
   "cell_type": "code",
   "execution_count": 94,
   "metadata": {},
   "outputs": [],
   "source": []
  },
  {
   "cell_type": "code",
   "execution_count": 96,
   "metadata": {},
   "outputs": [],
   "source": []
  },
  {
   "cell_type": "code",
   "execution_count": 97,
   "metadata": {},
   "outputs": [
    {
     "name": "stderr",
     "output_type": "stream",
     "text": [
      "/var/folders/_1/6fqc4jrn1n78r_dr5zwl5ctc0000gn/T/ipykernel_1230/20815925.py:10: FutureWarning:\n",
      "\n",
      "Unlike other reduction functions (e.g. `skew`, `kurtosis`), the default behavior of `mode` typically preserves the axis it acts along. In SciPy 1.11.0, this behavior will change: the default value of `keepdims` will become False, the `axis` over which the statistic is taken will be eliminated, and the value None will no longer be accepted. Set `keepdims` to True or False to avoid this warning.\n",
      "\n",
      "/var/folders/_1/6fqc4jrn1n78r_dr5zwl5ctc0000gn/T/ipykernel_1230/20815925.py:10: DeprecationWarning:\n",
      "\n",
      "Support for non-numeric arrays has been deprecated as of SciPy 1.9.0 and will be removed in 1.11.0. `pandas.DataFrame.mode` can be used instead, see https://pandas.pydata.org/docs/reference/api/pandas.DataFrame.mode.html.\n",
      "\n",
      "/var/folders/_1/6fqc4jrn1n78r_dr5zwl5ctc0000gn/T/ipykernel_1230/20815925.py:10: FutureWarning:\n",
      "\n",
      "Unlike other reduction functions (e.g. `skew`, `kurtosis`), the default behavior of `mode` typically preserves the axis it acts along. In SciPy 1.11.0, this behavior will change: the default value of `keepdims` will become False, the `axis` over which the statistic is taken will be eliminated, and the value None will no longer be accepted. Set `keepdims` to True or False to avoid this warning.\n",
      "\n",
      "/var/folders/_1/6fqc4jrn1n78r_dr5zwl5ctc0000gn/T/ipykernel_1230/20815925.py:10: DeprecationWarning:\n",
      "\n",
      "Support for non-numeric arrays has been deprecated as of SciPy 1.9.0 and will be removed in 1.11.0. `pandas.DataFrame.mode` can be used instead, see https://pandas.pydata.org/docs/reference/api/pandas.DataFrame.mode.html.\n",
      "\n",
      "/var/folders/_1/6fqc4jrn1n78r_dr5zwl5ctc0000gn/T/ipykernel_1230/20815925.py:10: FutureWarning:\n",
      "\n",
      "Unlike other reduction functions (e.g. `skew`, `kurtosis`), the default behavior of `mode` typically preserves the axis it acts along. In SciPy 1.11.0, this behavior will change: the default value of `keepdims` will become False, the `axis` over which the statistic is taken will be eliminated, and the value None will no longer be accepted. Set `keepdims` to True or False to avoid this warning.\n",
      "\n",
      "/var/folders/_1/6fqc4jrn1n78r_dr5zwl5ctc0000gn/T/ipykernel_1230/20815925.py:10: DeprecationWarning:\n",
      "\n",
      "Support for non-numeric arrays has been deprecated as of SciPy 1.9.0 and will be removed in 1.11.0. `pandas.DataFrame.mode` can be used instead, see https://pandas.pydata.org/docs/reference/api/pandas.DataFrame.mode.html.\n",
      "\n",
      "/var/folders/_1/6fqc4jrn1n78r_dr5zwl5ctc0000gn/T/ipykernel_1230/20815925.py:10: FutureWarning:\n",
      "\n",
      "Unlike other reduction functions (e.g. `skew`, `kurtosis`), the default behavior of `mode` typically preserves the axis it acts along. In SciPy 1.11.0, this behavior will change: the default value of `keepdims` will become False, the `axis` over which the statistic is taken will be eliminated, and the value None will no longer be accepted. Set `keepdims` to True or False to avoid this warning.\n",
      "\n",
      "/var/folders/_1/6fqc4jrn1n78r_dr5zwl5ctc0000gn/T/ipykernel_1230/20815925.py:10: DeprecationWarning:\n",
      "\n",
      "Support for non-numeric arrays has been deprecated as of SciPy 1.9.0 and will be removed in 1.11.0. `pandas.DataFrame.mode` can be used instead, see https://pandas.pydata.org/docs/reference/api/pandas.DataFrame.mode.html.\n",
      "\n",
      "/var/folders/_1/6fqc4jrn1n78r_dr5zwl5ctc0000gn/T/ipykernel_1230/20815925.py:10: FutureWarning:\n",
      "\n",
      "Unlike other reduction functions (e.g. `skew`, `kurtosis`), the default behavior of `mode` typically preserves the axis it acts along. In SciPy 1.11.0, this behavior will change: the default value of `keepdims` will become False, the `axis` over which the statistic is taken will be eliminated, and the value None will no longer be accepted. Set `keepdims` to True or False to avoid this warning.\n",
      "\n",
      "/var/folders/_1/6fqc4jrn1n78r_dr5zwl5ctc0000gn/T/ipykernel_1230/20815925.py:10: DeprecationWarning:\n",
      "\n",
      "Support for non-numeric arrays has been deprecated as of SciPy 1.9.0 and will be removed in 1.11.0. `pandas.DataFrame.mode` can be used instead, see https://pandas.pydata.org/docs/reference/api/pandas.DataFrame.mode.html.\n",
      "\n",
      "/var/folders/_1/6fqc4jrn1n78r_dr5zwl5ctc0000gn/T/ipykernel_1230/20815925.py:10: FutureWarning:\n",
      "\n",
      "Unlike other reduction functions (e.g. `skew`, `kurtosis`), the default behavior of `mode` typically preserves the axis it acts along. In SciPy 1.11.0, this behavior will change: the default value of `keepdims` will become False, the `axis` over which the statistic is taken will be eliminated, and the value None will no longer be accepted. Set `keepdims` to True or False to avoid this warning.\n",
      "\n",
      "/var/folders/_1/6fqc4jrn1n78r_dr5zwl5ctc0000gn/T/ipykernel_1230/20815925.py:10: DeprecationWarning:\n",
      "\n",
      "Support for non-numeric arrays has been deprecated as of SciPy 1.9.0 and will be removed in 1.11.0. `pandas.DataFrame.mode` can be used instead, see https://pandas.pydata.org/docs/reference/api/pandas.DataFrame.mode.html.\n",
      "\n",
      "/var/folders/_1/6fqc4jrn1n78r_dr5zwl5ctc0000gn/T/ipykernel_1230/20815925.py:10: FutureWarning:\n",
      "\n",
      "Unlike other reduction functions (e.g. `skew`, `kurtosis`), the default behavior of `mode` typically preserves the axis it acts along. In SciPy 1.11.0, this behavior will change: the default value of `keepdims` will become False, the `axis` over which the statistic is taken will be eliminated, and the value None will no longer be accepted. Set `keepdims` to True or False to avoid this warning.\n",
      "\n",
      "/var/folders/_1/6fqc4jrn1n78r_dr5zwl5ctc0000gn/T/ipykernel_1230/20815925.py:10: DeprecationWarning:\n",
      "\n",
      "Support for non-numeric arrays has been deprecated as of SciPy 1.9.0 and will be removed in 1.11.0. `pandas.DataFrame.mode` can be used instead, see https://pandas.pydata.org/docs/reference/api/pandas.DataFrame.mode.html.\n",
      "\n",
      "/var/folders/_1/6fqc4jrn1n78r_dr5zwl5ctc0000gn/T/ipykernel_1230/20815925.py:10: FutureWarning:\n",
      "\n",
      "Unlike other reduction functions (e.g. `skew`, `kurtosis`), the default behavior of `mode` typically preserves the axis it acts along. In SciPy 1.11.0, this behavior will change: the default value of `keepdims` will become False, the `axis` over which the statistic is taken will be eliminated, and the value None will no longer be accepted. Set `keepdims` to True or False to avoid this warning.\n",
      "\n",
      "/var/folders/_1/6fqc4jrn1n78r_dr5zwl5ctc0000gn/T/ipykernel_1230/20815925.py:10: DeprecationWarning:\n",
      "\n",
      "Support for non-numeric arrays has been deprecated as of SciPy 1.9.0 and will be removed in 1.11.0. `pandas.DataFrame.mode` can be used instead, see https://pandas.pydata.org/docs/reference/api/pandas.DataFrame.mode.html.\n",
      "\n",
      "/var/folders/_1/6fqc4jrn1n78r_dr5zwl5ctc0000gn/T/ipykernel_1230/20815925.py:10: FutureWarning:\n",
      "\n",
      "Unlike other reduction functions (e.g. `skew`, `kurtosis`), the default behavior of `mode` typically preserves the axis it acts along. In SciPy 1.11.0, this behavior will change: the default value of `keepdims` will become False, the `axis` over which the statistic is taken will be eliminated, and the value None will no longer be accepted. Set `keepdims` to True or False to avoid this warning.\n",
      "\n",
      "/var/folders/_1/6fqc4jrn1n78r_dr5zwl5ctc0000gn/T/ipykernel_1230/20815925.py:10: DeprecationWarning:\n",
      "\n",
      "Support for non-numeric arrays has been deprecated as of SciPy 1.9.0 and will be removed in 1.11.0. `pandas.DataFrame.mode` can be used instead, see https://pandas.pydata.org/docs/reference/api/pandas.DataFrame.mode.html.\n",
      "\n"
     ]
    },
    {
     "data": {
      "text/plain": [
       "((13551, 20, 7), (13551, 1), (3282, 20, 7), (3282, 1))"
      ]
     },
     "execution_count": 97,
     "metadata": {},
     "output_type": "execute_result"
    }
   ],
   "source": [
    "df_p1 = df.loc[df['person']=='P01',:]\n",
    "df_p2 = df.loc[df['person']=='P02',:]\n",
    "df_p3 = df.loc[df['person']=='P03',:]\n",
    "\n",
    "x_vars = ['accX', 'accY', 'accZ', 'gyroX', 'gyroY', 'gyroZ', 'speed']\n",
    "y_var = 'maneuverType'\n",
    "splits = 10\n",
    "test_size = 0.2\n",
    "time_steps = 20\n",
    "step = 1\n",
    "\n",
    "X_train1, y_train1, X_test1, y_test1 = sliced_train_test(df_p1, x_vars, y_var, splits, test_size,\n",
    "                                                         time_steps, step)\n",
    "\n",
    "X_train2, y_train2, X_test2, y_test2 = sliced_train_test(df_p2, x_vars, y_var, splits, test_size,\n",
    "                                                         time_steps, step)\n",
    "\n",
    "X_train3, y_train3, X_test3, y_test3 = sliced_train_test(df_p3, x_vars, y_var, splits, test_size,\n",
    "                                                         time_steps, step)\n",
    "\n",
    "X_train = np.vstack((X_train1, X_train2, X_train3))\n",
    "y_train = np.vstack((y_train1, y_train2, y_train3))\n",
    "X_test = np.vstack((X_test1, X_test2, X_test3))\n",
    "y_test = np.vstack((y_test1, y_test2, y_test3))\n",
    "\n",
    "X_train.shape, y_train.shape, X_test.shape, y_test.shape\n",
    "\n",
    "enc = OneHotEncoder(handle_unknown='ignore', sparse=False)\n",
    "\n",
    "enc = enc.fit(y_train)\n",
    "\n",
    "y_train = enc.transform(y_train)\n",
    "y_test = enc.transform(y_test)"
   ]
  },
  {
   "cell_type": "code",
   "execution_count": 98,
   "metadata": {},
   "outputs": [
    {
     "data": {
      "text/plain": [
       "((13551, 20, 7), (13551, 1), (3282, 20, 7), (3282, 1))"
      ]
     },
     "execution_count": 98,
     "metadata": {},
     "output_type": "execute_result"
    }
   ],
   "source": [
    "X_train.shape, y_train.shape, X_test.shape, y_test.shape"
   ]
  },
  {
   "cell_type": "code",
   "execution_count": 99,
   "metadata": {},
   "outputs": [
    {
     "name": "stderr",
     "output_type": "stream",
     "text": [
      "/opt/anaconda3/envs/p3-8-tensorflow04-telematic/lib/python3.8/site-packages/sklearn/preprocessing/_encoders.py:868: FutureWarning:\n",
      "\n",
      "`sparse` was renamed to `sparse_output` in version 1.2 and will be removed in 1.4. `sparse_output` is ignored unless you leave `sparse` to its default value.\n",
      "\n"
     ]
    }
   ],
   "source": [
    "enc = OneHotEncoder(handle_unknown='ignore', sparse=False)\n",
    "\n",
    "enc = enc.fit(y_train)\n",
    "\n",
    "y_train = enc.transform(y_train)\n",
    "y_test = enc.transform(y_test)"
   ]
  },
  {
   "cell_type": "code",
   "execution_count": 100,
   "metadata": {},
   "outputs": [],
   "source": [
    "def lstm_model(X_train, y_train, epochs, batch_size, optimizer):\n",
    "    model = keras.Sequential()\n",
    "    model.add(\n",
    "        keras.layers.Bidirectional(\n",
    "        keras.layers.LSTM(\n",
    "            units=32,\n",
    "            input_shape=[X_train.shape[1], X_train.shape[2]]\n",
    "        )\n",
    "        )\n",
    "    )\n",
    "    model.add(keras.layers.Dropout(rate=0.5))\n",
    "    model.add(keras.layers.Dense(units=40, activation='relu'))\n",
    "    model.add(keras.layers.Dropout(rate=0.3))\n",
    "    model.add(keras.layers.Dense(units=40, activation='relu'))\n",
    "    model.add(keras.layers.Dense(y_train.shape[1], activation='softmax'))\n",
    "\n",
    "    model.compile(\n",
    "        loss='categorical_crossentropy',\n",
    "        optimizer=optimizer,\n",
    "        metrics=['acc']\n",
    "    )\n",
    "\n",
    "    history = model.fit(\n",
    "        X_train, y_train,\n",
    "        epochs=epochs,\n",
    "        batch_size=batch_size,\n",
    "        validation_split=0.1,\n",
    "        shuffle=True\n",
    "    )\n",
    "    \n",
    "    plt.plot(history.history['loss'], label='train')\n",
    "    plt.plot(history.history['val_loss'], label='test')\n",
    "    plt.legend();\n",
    "\n",
    "    return model\n",
    "\n",
    "model = lstm_model(X_train, y_train, epochs=30, batch_size=256, optimizer='adam')\n",
    "model.evaluate(X_test, y_test)"
   ]
  },
  {
   "cell_type": "code",
   "execution_count": 101,
   "metadata": {},
   "outputs": [
    {
     "name": "stdout",
     "output_type": "stream",
     "text": [
      "Epoch 1/30\n",
      "48/48 [==============================] - 5s 26ms/step - loss: 1.8926 - acc: 0.3320 - val_loss: 1.0316 - val_acc: 0.6239\n",
      "Epoch 2/30\n",
      "48/48 [==============================] - 1s 12ms/step - loss: 1.1996 - acc: 0.5681 - val_loss: 0.5730 - val_acc: 0.8282\n",
      "Epoch 3/30\n",
      "48/48 [==============================] - 1s 12ms/step - loss: 0.9219 - acc: 0.6767 - val_loss: 0.3878 - val_acc: 0.8695\n",
      "Epoch 4/30\n",
      "48/48 [==============================] - 1s 12ms/step - loss: 0.7534 - acc: 0.7469 - val_loss: 0.3475 - val_acc: 0.8768\n",
      "Epoch 5/30\n",
      "48/48 [==============================] - 1s 13ms/step - loss: 0.6746 - acc: 0.7713 - val_loss: 0.3309 - val_acc: 0.8739\n",
      "Epoch 6/30\n",
      "48/48 [==============================] - 1s 14ms/step - loss: 0.6221 - acc: 0.7911 - val_loss: 0.3209 - val_acc: 0.8835\n",
      "Epoch 7/30\n",
      "48/48 [==============================] - 1s 13ms/step - loss: 0.5774 - acc: 0.8044 - val_loss: 0.3101 - val_acc: 0.8916\n",
      "Epoch 8/30\n",
      "48/48 [==============================] - 1s 12ms/step - loss: 0.5518 - acc: 0.8188 - val_loss: 0.3054 - val_acc: 0.8872\n",
      "Epoch 9/30\n",
      "48/48 [==============================] - 1s 13ms/step - loss: 0.5213 - acc: 0.8307 - val_loss: 0.2935 - val_acc: 0.8990\n",
      "Epoch 10/30\n",
      "48/48 [==============================] - 1s 14ms/step - loss: 0.5041 - acc: 0.8371 - val_loss: 0.2933 - val_acc: 0.8975\n",
      "Epoch 11/30\n",
      "48/48 [==============================] - 1s 12ms/step - loss: 0.4789 - acc: 0.8434 - val_loss: 0.2935 - val_acc: 0.9019\n",
      "Epoch 12/30\n",
      "48/48 [==============================] - 1s 12ms/step - loss: 0.4566 - acc: 0.8506 - val_loss: 0.2833 - val_acc: 0.9086\n",
      "Epoch 13/30\n",
      "48/48 [==============================] - 1s 12ms/step - loss: 0.4340 - acc: 0.8563 - val_loss: 0.2903 - val_acc: 0.9019\n",
      "Epoch 14/30\n",
      "48/48 [==============================] - 1s 12ms/step - loss: 0.4122 - acc: 0.8672 - val_loss: 0.2908 - val_acc: 0.9019\n",
      "Epoch 15/30\n",
      "48/48 [==============================] - 1s 13ms/step - loss: 0.3998 - acc: 0.8672 - val_loss: 0.2907 - val_acc: 0.9063\n",
      "Epoch 16/30\n",
      "48/48 [==============================] - 1s 13ms/step - loss: 0.3920 - acc: 0.8708 - val_loss: 0.2777 - val_acc: 0.9093\n",
      "Epoch 17/30\n",
      "48/48 [==============================] - 1s 13ms/step - loss: 0.3913 - acc: 0.8736 - val_loss: 0.3076 - val_acc: 0.8990\n",
      "Epoch 18/30\n",
      "48/48 [==============================] - 1s 12ms/step - loss: 0.3716 - acc: 0.8793 - val_loss: 0.2860 - val_acc: 0.9100\n",
      "Epoch 19/30\n",
      "48/48 [==============================] - 1s 13ms/step - loss: 0.3554 - acc: 0.8826 - val_loss: 0.2755 - val_acc: 0.9078\n",
      "Epoch 20/30\n",
      "48/48 [==============================] - 1s 13ms/step - loss: 0.3586 - acc: 0.8827 - val_loss: 0.2777 - val_acc: 0.9093\n",
      "Epoch 21/30\n",
      "48/48 [==============================] - 1s 13ms/step - loss: 0.3422 - acc: 0.8898 - val_loss: 0.2903 - val_acc: 0.9019\n",
      "Epoch 22/30\n",
      "48/48 [==============================] - 1s 14ms/step - loss: 0.3421 - acc: 0.8880 - val_loss: 0.2818 - val_acc: 0.9100\n",
      "Epoch 23/30\n",
      "48/48 [==============================] - 1s 12ms/step - loss: 0.3365 - acc: 0.8877 - val_loss: 0.2961 - val_acc: 0.9034\n",
      "Epoch 24/30\n",
      "48/48 [==============================] - 1s 12ms/step - loss: 0.3272 - acc: 0.8964 - val_loss: 0.2757 - val_acc: 0.9093\n",
      "Epoch 25/30\n",
      "48/48 [==============================] - 1s 13ms/step - loss: 0.3137 - acc: 0.8992 - val_loss: 0.2844 - val_acc: 0.9093\n",
      "Epoch 26/30\n",
      "48/48 [==============================] - 1s 13ms/step - loss: 0.3181 - acc: 0.8974 - val_loss: 0.2818 - val_acc: 0.9071\n",
      "Epoch 27/30\n",
      "48/48 [==============================] - 1s 12ms/step - loss: 0.3065 - acc: 0.9014 - val_loss: 0.2789 - val_acc: 0.9108\n",
      "Epoch 28/30\n",
      "48/48 [==============================] - 1s 12ms/step - loss: 0.3037 - acc: 0.9036 - val_loss: 0.2778 - val_acc: 0.9152\n",
      "Epoch 29/30\n",
      "48/48 [==============================] - 1s 12ms/step - loss: 0.2949 - acc: 0.9067 - val_loss: 0.2869 - val_acc: 0.9130\n",
      "Epoch 30/30\n",
      "48/48 [==============================] - 1s 12ms/step - loss: 0.2993 - acc: 0.9019 - val_loss: 0.2805 - val_acc: 0.9145\n",
      "103/103 [==============================] - 0s 2ms/step - loss: 0.4780 - acc: 0.8650\n"
     ]
    },
    {
     "data": {
      "text/plain": [
       "[0.47799962759017944, 0.8650213479995728]"
      ]
     },
     "execution_count": 101,
     "metadata": {},
     "output_type": "execute_result"
    },
    {
     "data": {
      "image/png": "[encoded data removed]",
      "text/plain": [
       "<Figure size 640x480 with 1 Axes>"
      ]
     },
     "metadata": {},
     "output_type": "display_data"
    }
   ],
   "source": [
    "model = lstm_model(X_train, y_train, epochs=30, batch_size=256, optimizer='adam')\n",
    "model.evaluate(X_test, y_test)\n"
   ]
  },
  {
   "cell_type": "code",
   "execution_count": 102,
   "metadata": {},
   "outputs": [
    {
     "name": "stdout",
     "output_type": "stream",
     "text": [
      "103/103 [==============================] - 1s 2ms/step\n"
     ]
    },
    {
     "data": {
      "application/vnd.plotly.v1+json": {
       "config": {
        "plotlyServerURL": "https://plot.ly"
       },
       "data": [
        {
         "colorscale": [
          [
           0,
           "rgb(247,251,255)"
          ],
          [
           0.125,
           "rgb(222,235,247)"
          ],
          [
           0.25,
           "rgb(198,219,239)"
          ],
          [
           0.375,
           "rgb(158,202,225)"
          ],
          [
           0.5,
           "rgb(107,174,214)"
          ],
          [
           0.625,
           "rgb(66,146,198)"
          ],
          [
           0.75,
           "rgb(33,113,181)"
          ],
          [
           0.875,
           "rgb(8,81,156)"
          ],
          [
           1,
           "rgb(8,48,107)"
          ]
         ],
         "type": "heatmap",
         "x": [
          "Abbiegen_links",
          "Abbiegen_rechts",
          "Anfahren_aus_Stand",
          "Bremsen_zielgerichtet",
          "Fahren_kontinuierlich",
          "Kurve_links",
          "Kurve_rechts",
          "Stand"
         ],
         "y": [
          "Abbiegen_links",
          "Abbiegen_rechts",
          "Anfahren_aus_Stand",
          "Bremsen_zielgerichtet",
          "Fahren_kontinuierlich",
          "Kurve_links",
          "Kurve_rechts",
          "Stand"
         ],
         "z": [
          [
           0.7536231884057971,
           0,
           0.15942028985507245,
           0.014492753623188406,
           0.014492753623188406,
           0.050724637681159424,
           0,
           0.007246376811594203
          ],
          [
           0.02247191011235955,
           0.42696629213483145,
           0.11797752808988764,
           0.09550561797752809,
           0.12921348314606743,
           0.033707865168539325,
           0.17415730337078653,
           0
          ],
          [
           0.005747126436781609,
           0,
           0.9195402298850575,
           0.005747126436781609,
           0.05172413793103448,
           0,
           0,
           0.017241379310344827
          ],
          [
           0.003134796238244514,
           0.003134796238244514,
           0.025078369905956112,
           0.8432601880877743,
           0.09404388714733543,
           0.01567398119122257,
           0,
           0.01567398119122257
          ],
          [
           0.0012345679012345679,
           0,
           0.010493827160493827,
           0.03641975308641975,
           0.9203703703703704,
           0.009876543209876543,
           0.021604938271604937,
           0
          ],
          [
           0.019801980198019802,
           0,
           0,
           0.0297029702970297,
           0.0594059405940594,
           0.8811881188118812,
           0.009900990099009901,
           0
          ],
          [
           0,
           0.013297872340425532,
           0.013297872340425532,
           0.023936170212765957,
           0.1675531914893617,
           0.005319148936170213,
           0.776595744680851,
           0
          ],
          [
           0,
           0,
           0.01090909090909091,
           0.01090909090909091,
           0,
           0,
           0,
           0.9781818181818182
          ]
         ]
        }
       ],
       "layout": {
        "height": 900,
        "template": {
         "data": {
          "bar": [
           {
            "error_x": {
             "color": "#2a3f5f"
            },
            "error_y": {
             "color": "#2a3f5f"
            },
            "marker": {
             "line": {
              "color": "#E5ECF6",
              "width": 0.5
             },
             "pattern": {
              "fillmode": "overlay",
              "size": 10,
              "solidity": 0.2
             }
            },
            "type": "bar"
           }
          ],
          "barpolar": [
           {
            "marker": {
             "line": {
              "color": "#E5ECF6",
              "width": 0.5
             },
             "pattern": {
              "fillmode": "overlay",
              "size": 10,
              "solidity": 0.2
             }
            },
            "type": "barpolar"
           }
          ],
          "carpet": [
           {
            "aaxis": {
             "endlinecolor": "#2a3f5f",
             "gridcolor": "white",
             "linecolor": "white",
             "minorgridcolor": "white",
             "startlinecolor": "#2a3f5f"
            },
            "baxis": {
             "endlinecolor": "#2a3f5f",
             "gridcolor": "white",
             "linecolor": "white",
             "minorgridcolor": "white",
             "startlinecolor": "#2a3f5f"
            },
            "type": "carpet"
           }
          ],
          "choropleth": [
           {
            "colorbar": {
             "outlinewidth": 0,
             "ticks": ""
            },
            "type": "choropleth"
           }
          ],
          "contour": [
           {
            "colorbar": {
             "outlinewidth": 0,
             "ticks": ""
            },
            "colorscale": [
             [
              0,
              "#0d0887"
             ],
             [
              0.1111111111111111,
              "#46039f"
             ],
             [
              0.2222222222222222,
              "#7201a8"
             ],
             [
              0.3333333333333333,
              "#9c179e"
             ],
             [
              0.4444444444444444,
              "#bd3786"
             ],
             [
              0.5555555555555556,
              "#d8576b"
             ],
             [
              0.6666666666666666,
              "#ed7953"
             ],
             [
              0.7777777777777778,
              "#fb9f3a"
             ],
             [
              0.8888888888888888,
              "#fdca26"
             ],
             [
              1,
              "#f0f921"
             ]
            ],
            "type": "contour"
           }
          ],
          "contourcarpet": [
           {
            "colorbar": {
             "outlinewidth": 0,
             "ticks": ""
            },
            "type": "contourcarpet"
           }
          ],
          "heatmap": [
           {
            "colorbar": {
             "outlinewidth": 0,
             "ticks": ""
            },
            "colorscale": [
             [
              0,
              "#0d0887"
             ],
             [
              0.1111111111111111,
              "#46039f"
             ],
             [
              0.2222222222222222,
              "#7201a8"
             ],
             [
              0.3333333333333333,
              "#9c179e"
             ],
             [
              0.4444444444444444,
              "#bd3786"
             ],
             [
              0.5555555555555556,
              "#d8576b"
             ],
             [
              0.6666666666666666,
              "#ed7953"
             ],
             [
              0.7777777777777778,
              "#fb9f3a"
             ],
             [
              0.8888888888888888,
              "#fdca26"
             ],
             [
              1,
              "#f0f921"
             ]
            ],
            "type": "heatmap"
           }
          ],
          "heatmapgl": [
           {
            "colorbar": {
             "outlinewidth": 0,
             "ticks": ""
            },
            "colorscale": [
             [
              0,
              "#0d0887"
             ],
             [
              0.1111111111111111,
              "#46039f"
             ],
             [
              0.2222222222222222,
              "#7201a8"
             ],
             [
              0.3333333333333333,
              "#9c179e"
             ],
             [
              0.4444444444444444,
              "#bd3786"
             ],
             [
              0.5555555555555556,
              "#d8576b"
             ],
             [
              0.6666666666666666,
              "#ed7953"
             ],
             [
              0.7777777777777778,
              "#fb9f3a"
             ],
             [
              0.8888888888888888,
              "#fdca26"
             ],
             [
              1,
              "#f0f921"
             ]
            ],
            "type": "heatmapgl"
           }
          ],
          "histogram": [
           {
            "marker": {
             "pattern": {
              "fillmode": "overlay",
              "size": 10,
              "solidity": 0.2
             }
            },
            "type": "histogram"
           }
          ],
          "histogram2d": [
           {
            "colorbar": {
             "outlinewidth": 0,
             "ticks": ""
            },
            "colorscale": [
             [
              0,
              "#0d0887"
             ],
             [
              0.1111111111111111,
              "#46039f"
             ],
             [
              0.2222222222222222,
              "#7201a8"
             ],
             [
              0.3333333333333333,
              "#9c179e"
             ],
             [
              0.4444444444444444,
              "#bd3786"
             ],
             [
              0.5555555555555556,
              "#d8576b"
             ],
             [
              0.6666666666666666,
              "#ed7953"
             ],
             [
              0.7777777777777778,
              "#fb9f3a"
             ],
             [
              0.8888888888888888,
              "#fdca26"
             ],
             [
              1,
              "#f0f921"
             ]
            ],
            "type": "histogram2d"
           }
          ],
          "histogram2dcontour": [
           {
            "colorbar": {
             "outlinewidth": 0,
             "ticks": ""
            },
            "colorscale": [
             [
              0,
              "#0d0887"
             ],
             [
              0.1111111111111111,
              "#46039f"
             ],
             [
              0.2222222222222222,
              "#7201a8"
             ],
             [
              0.3333333333333333,
              "#9c179e"
             ],
             [
              0.4444444444444444,
              "#bd3786"
             ],
             [
              0.5555555555555556,
              "#d8576b"
             ],
             [
              0.6666666666666666,
              "#ed7953"
             ],
             [
              0.7777777777777778,
              "#fb9f3a"
             ],
             [
              0.8888888888888888,
              "#fdca26"
             ],
             [
              1,
              "#f0f921"
             ]
            ],
            "type": "histogram2dcontour"
           }
          ],
          "mesh3d": [
           {
            "colorbar": {
             "outlinewidth": 0,
             "ticks": ""
            },
            "type": "mesh3d"
           }
          ],
          "parcoords": [
           {
            "line": {
             "colorbar": {
              "outlinewidth": 0,
              "ticks": ""
             }
            },
            "type": "parcoords"
           }
          ],
          "pie": [
           {
            "automargin": true,
            "type": "pie"
           }
          ],
          "scatter": [
           {
            "fillpattern": {
             "fillmode": "overlay",
             "size": 10,
             "solidity": 0.2
            },
            "type": "scatter"
           }
          ],
          "scatter3d": [
           {
            "line": {
             "colorbar": {
              "outlinewidth": 0,
              "ticks": ""
             }
            },
            "marker": {
             "colorbar": {
              "outlinewidth": 0,
              "ticks": ""
             }
            },
            "type": "scatter3d"
           }
          ],
          "scattercarpet": [
           {
            "marker": {
             "colorbar": {
              "outlinewidth": 0,
              "ticks": ""
             }
            },
            "type": "scattercarpet"
           }
          ],
          "scattergeo": [
           {
            "marker": {
             "colorbar": {
              "outlinewidth": 0,
              "ticks": ""
             }
            },
            "type": "scattergeo"
           }
          ],
          "scattergl": [
           {
            "marker": {
             "colorbar": {
              "outlinewidth": 0,
              "ticks": ""
             }
            },
            "type": "scattergl"
           }
          ],
          "scattermapbox": [
           {
            "marker": {
             "colorbar": {
              "outlinewidth": 0,
              "ticks": ""
             }
            },
            "type": "scattermapbox"
           }
          ],
          "scatterpolar": [
           {
            "marker": {
             "colorbar": {
              "outlinewidth": 0,
              "ticks": ""
             }
            },
            "type": "scatterpolar"
           }
          ],
          "scatterpolargl": [
           {
            "marker": {
             "colorbar": {
              "outlinewidth": 0,
              "ticks": ""
             }
            },
            "type": "scatterpolargl"
           }
          ],
          "scatterternary": [
           {
            "marker": {
             "colorbar": {
              "outlinewidth": 0,
              "ticks": ""
             }
            },
            "type": "scatterternary"
           }
          ],
          "surface": [
           {
            "colorbar": {
             "outlinewidth": 0,
             "ticks": ""
            },
            "colorscale": [
             [
              0,
              "#0d0887"
             ],
             [
              0.1111111111111111,
              "#46039f"
             ],
             [
              0.2222222222222222,
              "#7201a8"
             ],
             [
              0.3333333333333333,
              "#9c179e"
             ],
             [
              0.4444444444444444,
              "#bd3786"
             ],
             [
              0.5555555555555556,
              "#d8576b"
             ],
             [
              0.6666666666666666,
              "#ed7953"
             ],
             [
              0.7777777777777778,
              "#fb9f3a"
             ],
             [
              0.8888888888888888,
              "#fdca26"
             ],
             [
              1,
              "#f0f921"
             ]
            ],
            "type": "surface"
           }
          ],
          "table": [
           {
            "cells": {
             "fill": {
              "color": "#EBF0F8"
             },
             "line": {
              "color": "white"
             }
            },
            "header": {
             "fill": {
              "color": "#C8D4E3"
             },
             "line": {
              "color": "white"
             }
            },
            "type": "table"
           }
          ]
         },
         "layout": {
          "annotationdefaults": {
           "arrowcolor": "#2a3f5f",
           "arrowhead": 0,
           "arrowwidth": 1
          },
          "autotypenumbers": "strict",
          "coloraxis": {
           "colorbar": {
            "outlinewidth": 0,
            "ticks": ""
           }
          },
          "colorscale": {
           "diverging": [
            [
             0,
             "#8e0152"
            ],
            [
             0.1,
             "#c51b7d"
            ],
            [
             0.2,
             "#de77ae"
            ],
            [
             0.3,
             "#f1b6da"
            ],
            [
             0.4,
             "#fde0ef"
            ],
            [
             0.5,
             "#f7f7f7"
            ],
            [
             0.6,
             "#e6f5d0"
            ],
            [
             0.7,
             "#b8e186"
            ],
            [
             0.8,
             "#7fbc41"
            ],
            [
             0.9,
             "#4d9221"
            ],
            [
             1,
             "#276419"
            ]
           ],
           "sequential": [
            [
             0,
             "#0d0887"
            ],
            [
             0.1111111111111111,
             "#46039f"
            ],
            [
             0.2222222222222222,
             "#7201a8"
            ],
            [
             0.3333333333333333,
             "#9c179e"
            ],
            [
             0.4444444444444444,
             "#bd3786"
            ],
            [
             0.5555555555555556,
             "#d8576b"
            ],
            [
             0.6666666666666666,
             "#ed7953"
            ],
            [
             0.7777777777777778,
             "#fb9f3a"
            ],
            [
             0.8888888888888888,
             "#fdca26"
            ],
            [
             1,
             "#f0f921"
            ]
           ],
           "sequentialminus": [
            [
             0,
             "#0d0887"
            ],
            [
             0.1111111111111111,
             "#46039f"
            ],
            [
             0.2222222222222222,
             "#7201a8"
            ],
            [
             0.3333333333333333,
             "#9c179e"
            ],
            [
             0.4444444444444444,
             "#bd3786"
            ],
            [
             0.5555555555555556,
             "#d8576b"
            ],
            [
             0.6666666666666666,
             "#ed7953"
            ],
            [
             0.7777777777777778,
             "#fb9f3a"
            ],
            [
             0.8888888888888888,
             "#fdca26"
            ],
            [
             1,
             "#f0f921"
            ]
           ]
          },
          "colorway": [
           "#636efa",
           "#EF553B",
           "#00cc96",
           "#ab63fa",
           "#FFA15A",
           "#19d3f3",
           "#FF6692",
           "#B6E880",
           "#FF97FF",
           "#FECB52"
          ],
          "font": {
           "color": "#2a3f5f"
          },
          "geo": {
           "bgcolor": "white",
           "lakecolor": "white",
           "landcolor": "#E5ECF6",
           "showlakes": true,
           "showland": true,
           "subunitcolor": "white"
          },
          "hoverlabel": {
           "align": "left"
          },
          "hovermode": "closest",
          "mapbox": {
           "style": "light"
          },
          "paper_bgcolor": "white",
          "plot_bgcolor": "#E5ECF6",
          "polar": {
           "angularaxis": {
            "gridcolor": "white",
            "linecolor": "white",
            "ticks": ""
           },
           "bgcolor": "#E5ECF6",
           "radialaxis": {
            "gridcolor": "white",
            "linecolor": "white",
            "ticks": ""
           }
          },
          "scene": {
           "xaxis": {
            "backgroundcolor": "#E5ECF6",
            "gridcolor": "white",
            "gridwidth": 2,
            "linecolor": "white",
            "showbackground": true,
            "ticks": "",
            "zerolinecolor": "white"
           },
           "yaxis": {
            "backgroundcolor": "#E5ECF6",
            "gridcolor": "white",
            "gridwidth": 2,
            "linecolor": "white",
            "showbackground": true,
            "ticks": "",
            "zerolinecolor": "white"
           },
           "zaxis": {
            "backgroundcolor": "#E5ECF6",
            "gridcolor": "white",
            "gridwidth": 2,
            "linecolor": "white",
            "showbackground": true,
            "ticks": "",
            "zerolinecolor": "white"
           }
          },
          "shapedefaults": {
           "line": {
            "color": "#2a3f5f"
           }
          },
          "ternary": {
           "aaxis": {
            "gridcolor": "white",
            "linecolor": "white",
            "ticks": ""
           },
           "baxis": {
            "gridcolor": "white",
            "linecolor": "white",
            "ticks": ""
           },
           "bgcolor": "#E5ECF6",
           "caxis": {
            "gridcolor": "white",
            "linecolor": "white",
            "ticks": ""
           }
          },
          "title": {
           "x": 0.05
          },
          "xaxis": {
           "automargin": true,
           "gridcolor": "white",
           "linecolor": "white",
           "ticks": "",
           "title": {
            "standoff": 15
           },
           "zerolinecolor": "white",
           "zerolinewidth": 2
          },
          "yaxis": {
           "automargin": true,
           "gridcolor": "white",
           "linecolor": "white",
           "ticks": "",
           "title": {
            "standoff": 15
           },
           "zerolinecolor": "white",
           "zerolinewidth": 2
          }
         }
        },
        "title": {
         "text": "Confusion Matrix with relative values for each row / actual classes"
        },
        "width": 900,
        "xaxis": {
         "title": {
          "text": "Predicted"
         }
        },
        "yaxis": {
         "categoryorder": "category descending",
         "title": {
          "text": "Actual"
         }
        }
       }
      }
     },
     "metadata": {},
     "output_type": "display_data"
    }
   ],
   "source": [
    "y_pred = model.predict(X_test)\n",
    "\n",
    "confusion_matrix_relative(y_test, y_pred)"
   ]
  },
  {
   "cell_type": "code",
   "execution_count": 103,
   "metadata": {},
   "outputs": [
    {
     "name": "stdout",
     "output_type": "stream",
     "text": [
      "Epoch 1/500\n",
      "48/48 [==============================] - 5s 26ms/step - loss: 2.0472 - acc: 0.2544 - val_loss: 1.9545 - val_acc: 0.5693\n",
      "Epoch 2/500\n",
      "48/48 [==============================] - 1s 13ms/step - loss: 1.9717 - acc: 0.3806 - val_loss: 1.8421 - val_acc: 0.5693\n",
      "Epoch 3/500\n",
      "48/48 [==============================] - 1s 12ms/step - loss: 1.9126 - acc: 0.3934 - val_loss: 1.7496 - val_acc: 0.5693\n",
      "Epoch 4/500\n",
      "48/48 [==============================] - 1s 12ms/step - loss: 1.8763 - acc: 0.3939 - val_loss: 1.6772 - val_acc: 0.5693\n",
      "Epoch 5/500\n",
      "48/48 [==============================] - 1s 13ms/step - loss: 1.8476 - acc: 0.3940 - val_loss: 1.6205 - val_acc: 0.5693\n",
      "Epoch 6/500\n",
      "48/48 [==============================] - 1s 13ms/step - loss: 1.8294 - acc: 0.3940 - val_loss: 1.5756 - val_acc: 0.5693\n",
      "Epoch 7/500\n",
      "48/48 [==============================] - 1s 13ms/step - loss: 1.8156 - acc: 0.3940 - val_loss: 1.5354 - val_acc: 0.5693\n",
      "Epoch 8/500\n",
      "48/48 [==============================] - 1s 13ms/step - loss: 1.8040 - acc: 0.3940 - val_loss: 1.5007 - val_acc: 0.5693\n",
      "Epoch 9/500\n",
      "48/48 [==============================] - 1s 14ms/step - loss: 1.7851 - acc: 0.3940 - val_loss: 1.4615 - val_acc: 0.5693\n",
      "Epoch 10/500\n",
      "48/48 [==============================] - 1s 15ms/step - loss: 1.7713 - acc: 0.3940 - val_loss: 1.4192 - val_acc: 0.5693\n",
      "Epoch 11/500\n",
      "48/48 [==============================] - 1s 13ms/step - loss: 1.7493 - acc: 0.3940 - val_loss: 1.3708 - val_acc: 0.5693\n",
      "Epoch 12/500\n",
      "48/48 [==============================] - 1s 16ms/step - loss: 1.7279 - acc: 0.3940 - val_loss: 1.3247 - val_acc: 0.5693\n",
      "Epoch 13/500\n",
      "48/48 [==============================] - 1s 15ms/step - loss: 1.7016 - acc: 0.3940 - val_loss: 1.2733 - val_acc: 0.5693\n",
      "Epoch 14/500\n",
      "48/48 [==============================] - 1s 17ms/step - loss: 1.6791 - acc: 0.3940 - val_loss: 1.2250 - val_acc: 0.5693\n",
      "Epoch 15/500\n",
      "48/48 [==============================] - 1s 20ms/step - loss: 1.6589 - acc: 0.3941 - val_loss: 1.1804 - val_acc: 0.5693\n",
      "Epoch 16/500\n",
      "48/48 [==============================] - 1s 17ms/step - loss: 1.6393 - acc: 0.3943 - val_loss: 1.1433 - val_acc: 0.5693\n",
      "Epoch 17/500\n",
      "48/48 [==============================] - 1s 19ms/step - loss: 1.6098 - acc: 0.3987 - val_loss: 1.1061 - val_acc: 0.5693\n",
      "Epoch 18/500\n",
      "48/48 [==============================] - 1s 18ms/step - loss: 1.5909 - acc: 0.4104 - val_loss: 1.0722 - val_acc: 0.6954\n",
      "Epoch 19/500\n",
      "48/48 [==============================] - 1s 14ms/step - loss: 1.5752 - acc: 0.4358 - val_loss: 1.0448 - val_acc: 0.7021\n",
      "Epoch 20/500\n",
      "48/48 [==============================] - 1s 14ms/step - loss: 1.5524 - acc: 0.4681 - val_loss: 1.0190 - val_acc: 0.7021\n",
      "Epoch 21/500\n",
      "48/48 [==============================] - 1s 13ms/step - loss: 1.5396 - acc: 0.4838 - val_loss: 1.0005 - val_acc: 0.7035\n",
      "Epoch 22/500\n",
      "48/48 [==============================] - 1s 14ms/step - loss: 1.5206 - acc: 0.4950 - val_loss: 0.9810 - val_acc: 0.7028\n",
      "Epoch 23/500\n",
      "48/48 [==============================] - 1s 13ms/step - loss: 1.5056 - acc: 0.5006 - val_loss: 0.9643 - val_acc: 0.7035\n",
      "Epoch 24/500\n",
      "48/48 [==============================] - 1s 13ms/step - loss: 1.4971 - acc: 0.5020 - val_loss: 0.9515 - val_acc: 0.7035\n",
      "Epoch 25/500\n",
      "48/48 [==============================] - 1s 13ms/step - loss: 1.4830 - acc: 0.5074 - val_loss: 0.9388 - val_acc: 0.7043\n",
      "Epoch 26/500\n",
      "48/48 [==============================] - 1s 13ms/step - loss: 1.4773 - acc: 0.5087 - val_loss: 0.9249 - val_acc: 0.7050\n",
      "Epoch 27/500\n",
      "48/48 [==============================] - 1s 13ms/step - loss: 1.4633 - acc: 0.5083 - val_loss: 0.9153 - val_acc: 0.7065\n",
      "Epoch 28/500\n",
      "48/48 [==============================] - 1s 14ms/step - loss: 1.4483 - acc: 0.5112 - val_loss: 0.9026 - val_acc: 0.7058\n",
      "Epoch 29/500\n",
      "48/48 [==============================] - 1s 14ms/step - loss: 1.4372 - acc: 0.5132 - val_loss: 0.8918 - val_acc: 0.7058\n",
      "Epoch 30/500\n",
      "48/48 [==============================] - 1s 13ms/step - loss: 1.4319 - acc: 0.5115 - val_loss: 0.8823 - val_acc: 0.7080\n",
      "Epoch 31/500\n",
      "48/48 [==============================] - 1s 14ms/step - loss: 1.4178 - acc: 0.5141 - val_loss: 0.8697 - val_acc: 0.7094\n",
      "Epoch 32/500\n",
      "48/48 [==============================] - 1s 14ms/step - loss: 1.4114 - acc: 0.5170 - val_loss: 0.8619 - val_acc: 0.7094\n",
      "Epoch 33/500\n",
      "48/48 [==============================] - 1s 15ms/step - loss: 1.4016 - acc: 0.5193 - val_loss: 0.8512 - val_acc: 0.7087\n",
      "Epoch 34/500\n",
      "48/48 [==============================] - 1s 14ms/step - loss: 1.3846 - acc: 0.5205 - val_loss: 0.8377 - val_acc: 0.7109\n",
      "Epoch 35/500\n",
      "48/48 [==============================] - 1s 13ms/step - loss: 1.3850 - acc: 0.5205 - val_loss: 0.8267 - val_acc: 0.7131\n",
      "Epoch 36/500\n",
      "48/48 [==============================] - 1s 13ms/step - loss: 1.3634 - acc: 0.5249 - val_loss: 0.8118 - val_acc: 0.7139\n",
      "Epoch 37/500\n",
      "48/48 [==============================] - 1s 13ms/step - loss: 1.3582 - acc: 0.5246 - val_loss: 0.8024 - val_acc: 0.7161\n",
      "Epoch 38/500\n",
      "48/48 [==============================] - 1s 13ms/step - loss: 1.3441 - acc: 0.5278 - val_loss: 0.7884 - val_acc: 0.7242\n",
      "Epoch 39/500\n",
      "48/48 [==============================] - 1s 14ms/step - loss: 1.3313 - acc: 0.5333 - val_loss: 0.7774 - val_acc: 0.7249\n",
      "Epoch 40/500\n",
      "48/48 [==============================] - 1s 14ms/step - loss: 1.3237 - acc: 0.5338 - val_loss: 0.7665 - val_acc: 0.7271\n",
      "Epoch 41/500\n",
      "48/48 [==============================] - 1s 13ms/step - loss: 1.3175 - acc: 0.5364 - val_loss: 0.7547 - val_acc: 0.7353\n",
      "Epoch 42/500\n",
      "48/48 [==============================] - 1s 13ms/step - loss: 1.3008 - acc: 0.5415 - val_loss: 0.7400 - val_acc: 0.7404\n",
      "Epoch 43/500\n",
      "48/48 [==============================] - 1s 13ms/step - loss: 1.2907 - acc: 0.5445 - val_loss: 0.7259 - val_acc: 0.7500\n",
      "Epoch 44/500\n",
      "48/48 [==============================] - 1s 13ms/step - loss: 1.2843 - acc: 0.5487 - val_loss: 0.7159 - val_acc: 0.7515\n",
      "Epoch 45/500\n",
      "48/48 [==============================] - 1s 13ms/step - loss: 1.2699 - acc: 0.5506 - val_loss: 0.7062 - val_acc: 0.7456\n",
      "Epoch 46/500\n",
      "48/48 [==============================] - 1s 13ms/step - loss: 1.2618 - acc: 0.5551 - val_loss: 0.6949 - val_acc: 0.7485\n",
      "Epoch 47/500\n",
      "48/48 [==============================] - 1s 13ms/step - loss: 1.2463 - acc: 0.5583 - val_loss: 0.6780 - val_acc: 0.7596\n",
      "Epoch 48/500\n",
      "48/48 [==============================] - 1s 13ms/step - loss: 1.2388 - acc: 0.5648 - val_loss: 0.6659 - val_acc: 0.7773\n",
      "Epoch 49/500\n",
      "48/48 [==============================] - 1s 13ms/step - loss: 1.2228 - acc: 0.5667 - val_loss: 0.6553 - val_acc: 0.7758\n",
      "Epoch 50/500\n",
      "48/48 [==============================] - 1s 14ms/step - loss: 1.2142 - acc: 0.5666 - val_loss: 0.6398 - val_acc: 0.7795\n",
      "Epoch 51/500\n",
      "48/48 [==============================] - 1s 13ms/step - loss: 1.2005 - acc: 0.5711 - val_loss: 0.6310 - val_acc: 0.7810\n",
      "Epoch 52/500\n",
      "48/48 [==============================] - 1s 13ms/step - loss: 1.2066 - acc: 0.5755 - val_loss: 0.6197 - val_acc: 0.7824\n",
      "Epoch 53/500\n",
      "48/48 [==============================] - 1s 14ms/step - loss: 1.1855 - acc: 0.5821 - val_loss: 0.6101 - val_acc: 0.7839\n",
      "Epoch 54/500\n",
      "48/48 [==============================] - 1s 13ms/step - loss: 1.1833 - acc: 0.5783 - val_loss: 0.5987 - val_acc: 0.7869\n",
      "Epoch 55/500\n",
      "48/48 [==============================] - 1s 13ms/step - loss: 1.1687 - acc: 0.5897 - val_loss: 0.5923 - val_acc: 0.7876\n",
      "Epoch 56/500\n",
      "48/48 [==============================] - 1s 13ms/step - loss: 1.1583 - acc: 0.5862 - val_loss: 0.5808 - val_acc: 0.7913\n",
      "Epoch 57/500\n",
      "48/48 [==============================] - 1s 13ms/step - loss: 1.1450 - acc: 0.5926 - val_loss: 0.5704 - val_acc: 0.7942\n",
      "Epoch 58/500\n",
      "48/48 [==============================] - 1s 13ms/step - loss: 1.1445 - acc: 0.5952 - val_loss: 0.5630 - val_acc: 0.7972\n",
      "Epoch 59/500\n",
      "48/48 [==============================] - 1s 13ms/step - loss: 1.1356 - acc: 0.5970 - val_loss: 0.5520 - val_acc: 0.7979\n",
      "Epoch 60/500\n",
      "48/48 [==============================] - 1s 15ms/step - loss: 1.1274 - acc: 0.5998 - val_loss: 0.5453 - val_acc: 0.8046\n",
      "Epoch 61/500\n",
      "48/48 [==============================] - 1s 14ms/step - loss: 1.1124 - acc: 0.6054 - val_loss: 0.5367 - val_acc: 0.8083\n",
      "Epoch 62/500\n",
      "48/48 [==============================] - 1s 13ms/step - loss: 1.1039 - acc: 0.6076 - val_loss: 0.5283 - val_acc: 0.8142\n",
      "Epoch 63/500\n",
      "48/48 [==============================] - 1s 13ms/step - loss: 1.0932 - acc: 0.6124 - val_loss: 0.5204 - val_acc: 0.8112\n",
      "Epoch 64/500\n",
      "48/48 [==============================] - 1s 13ms/step - loss: 1.0942 - acc: 0.6112 - val_loss: 0.5107 - val_acc: 0.8156\n",
      "Epoch 65/500\n",
      "48/48 [==============================] - 1s 13ms/step - loss: 1.0794 - acc: 0.6197 - val_loss: 0.5075 - val_acc: 0.8215\n",
      "Epoch 66/500\n",
      "48/48 [==============================] - 1s 13ms/step - loss: 1.0714 - acc: 0.6212 - val_loss: 0.4960 - val_acc: 0.8201\n",
      "Epoch 67/500\n",
      "48/48 [==============================] - 1s 13ms/step - loss: 1.0726 - acc: 0.6218 - val_loss: 0.4909 - val_acc: 0.8245\n",
      "Epoch 68/500\n",
      "48/48 [==============================] - 1s 14ms/step - loss: 1.0558 - acc: 0.6270 - val_loss: 0.4839 - val_acc: 0.8267\n",
      "Epoch 69/500\n",
      "48/48 [==============================] - 1s 14ms/step - loss: 1.0525 - acc: 0.6297 - val_loss: 0.4786 - val_acc: 0.8289\n",
      "Epoch 70/500\n",
      "48/48 [==============================] - 1s 12ms/step - loss: 1.0293 - acc: 0.6389 - val_loss: 0.4704 - val_acc: 0.8296\n",
      "Epoch 71/500\n",
      "48/48 [==============================] - 1s 13ms/step - loss: 1.0318 - acc: 0.6384 - val_loss: 0.4638 - val_acc: 0.8341\n",
      "Epoch 72/500\n",
      "48/48 [==============================] - 1s 14ms/step - loss: 1.0261 - acc: 0.6341 - val_loss: 0.4616 - val_acc: 0.8348\n",
      "Epoch 73/500\n",
      "48/48 [==============================] - 1s 14ms/step - loss: 1.0300 - acc: 0.6392 - val_loss: 0.4548 - val_acc: 0.8392\n",
      "Epoch 74/500\n",
      "48/48 [==============================] - 1s 16ms/step - loss: 1.0219 - acc: 0.6413 - val_loss: 0.4510 - val_acc: 0.8422\n",
      "Epoch 75/500\n",
      "48/48 [==============================] - 1s 13ms/step - loss: 1.0034 - acc: 0.6503 - val_loss: 0.4534 - val_acc: 0.8392\n",
      "Epoch 76/500\n",
      "48/48 [==============================] - 1s 14ms/step - loss: 0.9902 - acc: 0.6531 - val_loss: 0.4401 - val_acc: 0.8437\n",
      "Epoch 77/500\n",
      "48/48 [==============================] - 1s 14ms/step - loss: 0.9962 - acc: 0.6513 - val_loss: 0.4415 - val_acc: 0.8437\n",
      "Epoch 78/500\n",
      "48/48 [==============================] - 1s 19ms/step - loss: 0.9907 - acc: 0.6549 - val_loss: 0.4343 - val_acc: 0.8503\n",
      "Epoch 79/500\n",
      "48/48 [==============================] - 1s 17ms/step - loss: 0.9920 - acc: 0.6508 - val_loss: 0.4322 - val_acc: 0.8510\n",
      "Epoch 80/500\n",
      "48/48 [==============================] - 1s 18ms/step - loss: 0.9752 - acc: 0.6582 - val_loss: 0.4321 - val_acc: 0.8496\n",
      "Epoch 81/500\n",
      "48/48 [==============================] - 1s 15ms/step - loss: 0.9830 - acc: 0.6578 - val_loss: 0.4242 - val_acc: 0.8547\n",
      "Epoch 82/500\n",
      "48/48 [==============================] - 1s 15ms/step - loss: 0.9621 - acc: 0.6639 - val_loss: 0.4225 - val_acc: 0.8532\n",
      "Epoch 83/500\n",
      "48/48 [==============================] - 1s 18ms/step - loss: 0.9551 - acc: 0.6677 - val_loss: 0.4181 - val_acc: 0.8540\n",
      "Epoch 84/500\n",
      "48/48 [==============================] - 1s 16ms/step - loss: 0.9655 - acc: 0.6603 - val_loss: 0.4147 - val_acc: 0.8606\n",
      "Epoch 85/500\n",
      "48/48 [==============================] - 1s 15ms/step - loss: 0.9488 - acc: 0.6667 - val_loss: 0.4132 - val_acc: 0.8614\n",
      "Epoch 86/500\n",
      "48/48 [==============================] - 1s 14ms/step - loss: 0.9508 - acc: 0.6707 - val_loss: 0.4082 - val_acc: 0.8606\n",
      "Epoch 87/500\n",
      "48/48 [==============================] - 1s 14ms/step - loss: 0.9439 - acc: 0.6667 - val_loss: 0.4090 - val_acc: 0.8599\n",
      "Epoch 88/500\n",
      "48/48 [==============================] - 1s 15ms/step - loss: 0.9314 - acc: 0.6732 - val_loss: 0.4048 - val_acc: 0.8658\n",
      "Epoch 89/500\n",
      "48/48 [==============================] - 1s 16ms/step - loss: 0.9496 - acc: 0.6698 - val_loss: 0.3982 - val_acc: 0.8724\n",
      "Epoch 90/500\n",
      "48/48 [==============================] - 1s 14ms/step - loss: 0.9305 - acc: 0.6715 - val_loss: 0.4011 - val_acc: 0.8702\n",
      "Epoch 91/500\n",
      "48/48 [==============================] - 1s 15ms/step - loss: 0.9307 - acc: 0.6790 - val_loss: 0.3969 - val_acc: 0.8650\n",
      "Epoch 92/500\n",
      "48/48 [==============================] - 1s 14ms/step - loss: 0.9269 - acc: 0.6744 - val_loss: 0.3917 - val_acc: 0.8709\n",
      "Epoch 93/500\n",
      "48/48 [==============================] - 1s 14ms/step - loss: 0.9130 - acc: 0.6777 - val_loss: 0.3894 - val_acc: 0.8739\n",
      "Epoch 94/500\n",
      "48/48 [==============================] - 1s 15ms/step - loss: 0.9124 - acc: 0.6826 - val_loss: 0.3851 - val_acc: 0.8761\n",
      "Epoch 95/500\n",
      "48/48 [==============================] - 1s 16ms/step - loss: 0.9094 - acc: 0.6841 - val_loss: 0.3842 - val_acc: 0.8768\n",
      "Epoch 96/500\n",
      "48/48 [==============================] - 1s 15ms/step - loss: 0.9105 - acc: 0.6857 - val_loss: 0.3829 - val_acc: 0.8776\n",
      "Epoch 97/500\n",
      "48/48 [==============================] - 1s 16ms/step - loss: 0.8980 - acc: 0.6879 - val_loss: 0.3814 - val_acc: 0.8835\n",
      "Epoch 98/500\n",
      "48/48 [==============================] - 1s 17ms/step - loss: 0.8954 - acc: 0.6907 - val_loss: 0.3803 - val_acc: 0.8820\n",
      "Epoch 99/500\n",
      "48/48 [==============================] - 1s 15ms/step - loss: 0.9024 - acc: 0.6818 - val_loss: 0.3763 - val_acc: 0.8886\n",
      "Epoch 100/500\n",
      "48/48 [==============================] - 1s 15ms/step - loss: 0.9036 - acc: 0.6891 - val_loss: 0.3767 - val_acc: 0.8850\n",
      "Epoch 101/500\n",
      "48/48 [==============================] - 1s 18ms/step - loss: 0.8977 - acc: 0.6918 - val_loss: 0.3748 - val_acc: 0.8805\n",
      "Epoch 102/500\n",
      "48/48 [==============================] - 1s 20ms/step - loss: 0.8901 - acc: 0.6964 - val_loss: 0.3723 - val_acc: 0.8864\n",
      "Epoch 103/500\n",
      "48/48 [==============================] - 1s 19ms/step - loss: 0.8713 - acc: 0.6990 - val_loss: 0.3746 - val_acc: 0.8827\n",
      "Epoch 104/500\n",
      "48/48 [==============================] - 1s 17ms/step - loss: 0.8874 - acc: 0.6938 - val_loss: 0.3685 - val_acc: 0.8842\n",
      "Epoch 105/500\n",
      "48/48 [==============================] - 1s 15ms/step - loss: 0.8746 - acc: 0.6973 - val_loss: 0.3664 - val_acc: 0.8864\n",
      "Epoch 106/500\n",
      "48/48 [==============================] - 1s 15ms/step - loss: 0.8872 - acc: 0.6958 - val_loss: 0.3679 - val_acc: 0.8842\n",
      "Epoch 107/500\n",
      "48/48 [==============================] - 1s 16ms/step - loss: 0.8787 - acc: 0.6998 - val_loss: 0.3677 - val_acc: 0.8805\n",
      "Epoch 108/500\n",
      "48/48 [==============================] - 1s 16ms/step - loss: 0.8604 - acc: 0.7018 - val_loss: 0.3646 - val_acc: 0.8872\n",
      "Epoch 109/500\n",
      "48/48 [==============================] - 1s 15ms/step - loss: 0.8689 - acc: 0.6995 - val_loss: 0.3606 - val_acc: 0.8938\n",
      "Epoch 110/500\n",
      "48/48 [==============================] - 1s 16ms/step - loss: 0.8668 - acc: 0.6998 - val_loss: 0.3594 - val_acc: 0.8864\n",
      "Epoch 111/500\n",
      "48/48 [==============================] - 1s 15ms/step - loss: 0.8654 - acc: 0.6996 - val_loss: 0.3622 - val_acc: 0.8864\n",
      "Epoch 112/500\n",
      "48/48 [==============================] - 1s 15ms/step - loss: 0.8586 - acc: 0.7013 - val_loss: 0.3591 - val_acc: 0.8857\n",
      "Epoch 113/500\n",
      "48/48 [==============================] - 1s 15ms/step - loss: 0.8442 - acc: 0.7055 - val_loss: 0.3567 - val_acc: 0.8953\n",
      "Epoch 114/500\n",
      "48/48 [==============================] - 1s 15ms/step - loss: 0.8444 - acc: 0.7105 - val_loss: 0.3575 - val_acc: 0.8938\n",
      "Epoch 115/500\n",
      "48/48 [==============================] - 1s 15ms/step - loss: 0.8458 - acc: 0.7082 - val_loss: 0.3545 - val_acc: 0.8931\n",
      "Epoch 116/500\n",
      "48/48 [==============================] - 1s 15ms/step - loss: 0.8400 - acc: 0.7062 - val_loss: 0.3544 - val_acc: 0.8968\n",
      "Epoch 117/500\n",
      "48/48 [==============================] - 1s 16ms/step - loss: 0.8334 - acc: 0.7117 - val_loss: 0.3524 - val_acc: 0.8916\n",
      "Epoch 118/500\n",
      "48/48 [==============================] - 1s 15ms/step - loss: 0.8389 - acc: 0.7112 - val_loss: 0.3531 - val_acc: 0.8901\n",
      "Epoch 119/500\n",
      "48/48 [==============================] - 1s 15ms/step - loss: 0.8411 - acc: 0.7123 - val_loss: 0.3489 - val_acc: 0.8938\n",
      "Epoch 120/500\n",
      "48/48 [==============================] - 1s 15ms/step - loss: 0.8378 - acc: 0.7139 - val_loss: 0.3466 - val_acc: 0.8968\n",
      "Epoch 121/500\n",
      "48/48 [==============================] - 1s 15ms/step - loss: 0.8336 - acc: 0.7186 - val_loss: 0.3488 - val_acc: 0.8968\n",
      "Epoch 122/500\n",
      "48/48 [==============================] - 1s 15ms/step - loss: 0.8359 - acc: 0.7110 - val_loss: 0.3534 - val_acc: 0.8909\n",
      "Epoch 123/500\n",
      "48/48 [==============================] - 1s 16ms/step - loss: 0.8277 - acc: 0.7175 - val_loss: 0.3484 - val_acc: 0.8931\n",
      "Epoch 124/500\n",
      "48/48 [==============================] - 1s 15ms/step - loss: 0.8234 - acc: 0.7174 - val_loss: 0.3468 - val_acc: 0.8945\n",
      "Epoch 125/500\n",
      "48/48 [==============================] - 1s 15ms/step - loss: 0.8193 - acc: 0.7187 - val_loss: 0.3417 - val_acc: 0.8945\n",
      "Epoch 126/500\n",
      "48/48 [==============================] - 1s 15ms/step - loss: 0.8248 - acc: 0.7185 - val_loss: 0.3413 - val_acc: 0.8938\n",
      "Epoch 127/500\n",
      "48/48 [==============================] - 1s 15ms/step - loss: 0.8255 - acc: 0.7159 - val_loss: 0.3383 - val_acc: 0.8968\n",
      "Epoch 128/500\n",
      "48/48 [==============================] - 1s 15ms/step - loss: 0.8193 - acc: 0.7211 - val_loss: 0.3409 - val_acc: 0.8945\n",
      "Epoch 129/500\n",
      "48/48 [==============================] - 1s 16ms/step - loss: 0.8117 - acc: 0.7231 - val_loss: 0.3461 - val_acc: 0.8923\n",
      "Epoch 130/500\n",
      "48/48 [==============================] - 1s 16ms/step - loss: 0.8085 - acc: 0.7243 - val_loss: 0.3358 - val_acc: 0.8975\n",
      "Epoch 131/500\n",
      "48/48 [==============================] - 1s 15ms/step - loss: 0.8119 - acc: 0.7247 - val_loss: 0.3406 - val_acc: 0.8931\n",
      "Epoch 132/500\n",
      "48/48 [==============================] - 1s 15ms/step - loss: 0.8132 - acc: 0.7232 - val_loss: 0.3378 - val_acc: 0.8938\n",
      "Epoch 133/500\n",
      "48/48 [==============================] - 1s 15ms/step - loss: 0.8052 - acc: 0.7225 - val_loss: 0.3375 - val_acc: 0.8968\n",
      "Epoch 134/500\n",
      "48/48 [==============================] - 1s 17ms/step - loss: 0.8042 - acc: 0.7199 - val_loss: 0.3381 - val_acc: 0.8931\n",
      "Epoch 135/500\n",
      "48/48 [==============================] - 1s 16ms/step - loss: 0.7965 - acc: 0.7289 - val_loss: 0.3413 - val_acc: 0.8923\n",
      "Epoch 136/500\n",
      "48/48 [==============================] - 1s 15ms/step - loss: 0.7950 - acc: 0.7260 - val_loss: 0.3372 - val_acc: 0.8953\n",
      "Epoch 137/500\n",
      "48/48 [==============================] - 1s 15ms/step - loss: 0.7962 - acc: 0.7299 - val_loss: 0.3421 - val_acc: 0.8931\n",
      "Epoch 138/500\n",
      "48/48 [==============================] - 1s 16ms/step - loss: 0.7993 - acc: 0.7266 - val_loss: 0.3372 - val_acc: 0.8953\n",
      "Epoch 139/500\n",
      "48/48 [==============================] - 1s 17ms/step - loss: 0.7860 - acc: 0.7319 - val_loss: 0.3312 - val_acc: 0.8923\n",
      "Epoch 140/500\n",
      "48/48 [==============================] - 1s 15ms/step - loss: 0.7845 - acc: 0.7334 - val_loss: 0.3292 - val_acc: 0.8968\n",
      "Epoch 141/500\n",
      "48/48 [==============================] - 1s 15ms/step - loss: 0.7812 - acc: 0.7313 - val_loss: 0.3374 - val_acc: 0.8931\n",
      "Epoch 142/500\n",
      "48/48 [==============================] - 1s 15ms/step - loss: 0.7832 - acc: 0.7341 - val_loss: 0.3310 - val_acc: 0.8923\n",
      "Epoch 143/500\n",
      "48/48 [==============================] - 1s 15ms/step - loss: 0.7810 - acc: 0.7333 - val_loss: 0.3272 - val_acc: 0.8968\n",
      "Epoch 144/500\n",
      "48/48 [==============================] - 1s 15ms/step - loss: 0.7736 - acc: 0.7362 - val_loss: 0.3294 - val_acc: 0.8953\n",
      "Epoch 145/500\n",
      "48/48 [==============================] - 1s 15ms/step - loss: 0.7822 - acc: 0.7346 - val_loss: 0.3316 - val_acc: 0.8923\n",
      "Epoch 146/500\n",
      "48/48 [==============================] - 1s 15ms/step - loss: 0.7747 - acc: 0.7337 - val_loss: 0.3347 - val_acc: 0.8923\n",
      "Epoch 147/500\n",
      "48/48 [==============================] - 1s 15ms/step - loss: 0.7662 - acc: 0.7412 - val_loss: 0.3296 - val_acc: 0.8945\n",
      "Epoch 148/500\n",
      "48/48 [==============================] - 1s 16ms/step - loss: 0.7755 - acc: 0.7401 - val_loss: 0.3325 - val_acc: 0.8909\n",
      "Epoch 149/500\n",
      "48/48 [==============================] - 1s 15ms/step - loss: 0.7707 - acc: 0.7369 - val_loss: 0.3248 - val_acc: 0.9004\n",
      "Epoch 150/500\n",
      "48/48 [==============================] - 1s 15ms/step - loss: 0.7704 - acc: 0.7385 - val_loss: 0.3352 - val_acc: 0.8953\n",
      "Epoch 151/500\n",
      "48/48 [==============================] - 1s 15ms/step - loss: 0.7653 - acc: 0.7400 - val_loss: 0.3287 - val_acc: 0.8938\n",
      "Epoch 152/500\n",
      "48/48 [==============================] - 1s 15ms/step - loss: 0.7652 - acc: 0.7383 - val_loss: 0.3289 - val_acc: 0.8968\n",
      "Epoch 153/500\n",
      "48/48 [==============================] - 1s 15ms/step - loss: 0.7601 - acc: 0.7414 - val_loss: 0.3281 - val_acc: 0.8945\n",
      "Epoch 154/500\n",
      "48/48 [==============================] - 1s 16ms/step - loss: 0.7551 - acc: 0.7430 - val_loss: 0.3284 - val_acc: 0.8953\n",
      "Epoch 155/500\n",
      "48/48 [==============================] - 1s 16ms/step - loss: 0.7606 - acc: 0.7403 - val_loss: 0.3276 - val_acc: 0.8982\n",
      "Epoch 156/500\n",
      "48/48 [==============================] - 1s 15ms/step - loss: 0.7611 - acc: 0.7442 - val_loss: 0.3263 - val_acc: 0.8945\n",
      "Epoch 157/500\n",
      "48/48 [==============================] - 1s 15ms/step - loss: 0.7534 - acc: 0.7456 - val_loss: 0.3282 - val_acc: 0.8938\n",
      "Epoch 158/500\n",
      "48/48 [==============================] - 1s 16ms/step - loss: 0.7428 - acc: 0.7481 - val_loss: 0.3263 - val_acc: 0.8960\n",
      "Epoch 159/500\n",
      "48/48 [==============================] - 1s 15ms/step - loss: 0.7482 - acc: 0.7510 - val_loss: 0.3280 - val_acc: 0.8968\n",
      "Epoch 160/500\n",
      "48/48 [==============================] - 1s 16ms/step - loss: 0.7486 - acc: 0.7436 - val_loss: 0.3219 - val_acc: 0.8982\n",
      "Epoch 161/500\n",
      "48/48 [==============================] - 1s 15ms/step - loss: 0.7370 - acc: 0.7511 - val_loss: 0.3205 - val_acc: 0.8953\n",
      "Epoch 162/500\n",
      "48/48 [==============================] - 1s 15ms/step - loss: 0.7398 - acc: 0.7502 - val_loss: 0.3217 - val_acc: 0.9004\n",
      "Epoch 163/500\n",
      "48/48 [==============================] - 1s 15ms/step - loss: 0.7496 - acc: 0.7474 - val_loss: 0.3231 - val_acc: 0.9056\n",
      "Epoch 164/500\n",
      "48/48 [==============================] - 1s 15ms/step - loss: 0.7434 - acc: 0.7501 - val_loss: 0.3212 - val_acc: 0.8975\n",
      "Epoch 165/500\n",
      "48/48 [==============================] - 1s 15ms/step - loss: 0.7436 - acc: 0.7503 - val_loss: 0.3157 - val_acc: 0.9004\n",
      "Epoch 166/500\n",
      "48/48 [==============================] - 1s 17ms/step - loss: 0.7321 - acc: 0.7557 - val_loss: 0.3179 - val_acc: 0.9041\n",
      "Epoch 167/500\n",
      "48/48 [==============================] - 1s 15ms/step - loss: 0.7320 - acc: 0.7543 - val_loss: 0.3183 - val_acc: 0.8975\n",
      "Epoch 168/500\n",
      "48/48 [==============================] - 1s 15ms/step - loss: 0.7299 - acc: 0.7558 - val_loss: 0.3194 - val_acc: 0.8990\n",
      "Epoch 169/500\n",
      "48/48 [==============================] - 1s 15ms/step - loss: 0.7265 - acc: 0.7553 - val_loss: 0.3163 - val_acc: 0.9034\n",
      "Epoch 170/500\n",
      "48/48 [==============================] - 1s 15ms/step - loss: 0.7343 - acc: 0.7519 - val_loss: 0.3122 - val_acc: 0.9012\n",
      "Epoch 171/500\n",
      "48/48 [==============================] - 1s 16ms/step - loss: 0.7375 - acc: 0.7571 - val_loss: 0.3161 - val_acc: 0.9004\n",
      "Epoch 172/500\n",
      "48/48 [==============================] - 1s 16ms/step - loss: 0.7255 - acc: 0.7538 - val_loss: 0.3131 - val_acc: 0.9019\n",
      "Epoch 173/500\n",
      "48/48 [==============================] - 1s 15ms/step - loss: 0.7168 - acc: 0.7561 - val_loss: 0.3153 - val_acc: 0.8997\n",
      "Epoch 174/500\n",
      "48/48 [==============================] - 1s 15ms/step - loss: 0.7122 - acc: 0.7656 - val_loss: 0.3143 - val_acc: 0.8982\n",
      "Epoch 175/500\n",
      "48/48 [==============================] - 1s 16ms/step - loss: 0.7177 - acc: 0.7578 - val_loss: 0.3176 - val_acc: 0.9019\n",
      "Epoch 176/500\n",
      "48/48 [==============================] - 1s 17ms/step - loss: 0.7164 - acc: 0.7616 - val_loss: 0.3206 - val_acc: 0.8953\n",
      "Epoch 177/500\n",
      "48/48 [==============================] - 1s 16ms/step - loss: 0.7169 - acc: 0.7599 - val_loss: 0.3106 - val_acc: 0.9049\n",
      "Epoch 178/500\n",
      "48/48 [==============================] - 1s 16ms/step - loss: 0.7122 - acc: 0.7644 - val_loss: 0.3107 - val_acc: 0.9034\n",
      "Epoch 179/500\n",
      "48/48 [==============================] - 1s 16ms/step - loss: 0.7133 - acc: 0.7637 - val_loss: 0.3184 - val_acc: 0.9027\n",
      "Epoch 180/500\n",
      "48/48 [==============================] - 1s 17ms/step - loss: 0.7135 - acc: 0.7633 - val_loss: 0.3140 - val_acc: 0.9056\n",
      "Epoch 181/500\n",
      "48/48 [==============================] - 1s 15ms/step - loss: 0.7086 - acc: 0.7605 - val_loss: 0.3145 - val_acc: 0.9041\n",
      "Epoch 182/500\n",
      "48/48 [==============================] - 1s 16ms/step - loss: 0.7134 - acc: 0.7590 - val_loss: 0.3065 - val_acc: 0.9063\n",
      "Epoch 183/500\n",
      "48/48 [==============================] - 1s 16ms/step - loss: 0.7003 - acc: 0.7643 - val_loss: 0.3112 - val_acc: 0.9056\n",
      "Epoch 184/500\n",
      "48/48 [==============================] - 1s 17ms/step - loss: 0.7036 - acc: 0.7647 - val_loss: 0.3147 - val_acc: 0.9041\n",
      "Epoch 185/500\n",
      "48/48 [==============================] - 1s 16ms/step - loss: 0.7079 - acc: 0.7626 - val_loss: 0.3085 - val_acc: 0.9049\n",
      "Epoch 186/500\n",
      "48/48 [==============================] - 1s 16ms/step - loss: 0.7006 - acc: 0.7647 - val_loss: 0.3050 - val_acc: 0.9063\n",
      "Epoch 187/500\n",
      "48/48 [==============================] - 1s 16ms/step - loss: 0.6890 - acc: 0.7702 - val_loss: 0.3114 - val_acc: 0.9056\n",
      "Epoch 188/500\n",
      "48/48 [==============================] - 1s 16ms/step - loss: 0.6995 - acc: 0.7673 - val_loss: 0.3074 - val_acc: 0.8960\n",
      "Epoch 189/500\n",
      "48/48 [==============================] - 1s 16ms/step - loss: 0.6957 - acc: 0.7725 - val_loss: 0.3069 - val_acc: 0.8990\n",
      "Epoch 190/500\n",
      "48/48 [==============================] - 1s 16ms/step - loss: 0.6903 - acc: 0.7689 - val_loss: 0.3126 - val_acc: 0.9019\n",
      "Epoch 191/500\n",
      "48/48 [==============================] - 1s 17ms/step - loss: 0.6913 - acc: 0.7683 - val_loss: 0.3091 - val_acc: 0.8982\n",
      "Epoch 192/500\n",
      "48/48 [==============================] - 1s 17ms/step - loss: 0.6894 - acc: 0.7692 - val_loss: 0.3049 - val_acc: 0.9056\n",
      "Epoch 193/500\n",
      "48/48 [==============================] - 1s 18ms/step - loss: 0.6837 - acc: 0.7769 - val_loss: 0.3041 - val_acc: 0.9093\n",
      "Epoch 194/500\n",
      "48/48 [==============================] - 1s 18ms/step - loss: 0.6875 - acc: 0.7721 - val_loss: 0.3053 - val_acc: 0.9056\n",
      "Epoch 195/500\n",
      "48/48 [==============================] - 1s 16ms/step - loss: 0.6953 - acc: 0.7670 - val_loss: 0.3013 - val_acc: 0.9108\n",
      "Epoch 196/500\n",
      "48/48 [==============================] - 1s 15ms/step - loss: 0.6785 - acc: 0.7749 - val_loss: 0.3049 - val_acc: 0.9100\n",
      "Epoch 197/500\n",
      "48/48 [==============================] - 1s 16ms/step - loss: 0.6772 - acc: 0.7764 - val_loss: 0.2968 - val_acc: 0.9115\n",
      "Epoch 198/500\n",
      "48/48 [==============================] - 1s 15ms/step - loss: 0.6762 - acc: 0.7717 - val_loss: 0.2987 - val_acc: 0.9100\n",
      "Epoch 199/500\n",
      "48/48 [==============================] - 1s 17ms/step - loss: 0.6808 - acc: 0.7776 - val_loss: 0.3045 - val_acc: 0.9100\n",
      "Epoch 200/500\n",
      "48/48 [==============================] - 1s 15ms/step - loss: 0.6832 - acc: 0.7710 - val_loss: 0.3034 - val_acc: 0.9078\n",
      "Epoch 201/500\n",
      "48/48 [==============================] - 1s 17ms/step - loss: 0.6712 - acc: 0.7778 - val_loss: 0.3047 - val_acc: 0.9004\n",
      "Epoch 202/500\n",
      "48/48 [==============================] - 1s 16ms/step - loss: 0.6842 - acc: 0.7716 - val_loss: 0.3101 - val_acc: 0.9108\n",
      "Epoch 203/500\n",
      "48/48 [==============================] - 1s 17ms/step - loss: 0.6709 - acc: 0.7804 - val_loss: 0.3210 - val_acc: 0.9049\n",
      "Epoch 204/500\n",
      "48/48 [==============================] - 1s 16ms/step - loss: 0.6705 - acc: 0.7775 - val_loss: 0.3024 - val_acc: 0.9093\n",
      "Epoch 205/500\n",
      "48/48 [==============================] - 1s 16ms/step - loss: 0.6724 - acc: 0.7767 - val_loss: 0.3043 - val_acc: 0.9086\n",
      "Epoch 206/500\n",
      "48/48 [==============================] - 1s 16ms/step - loss: 0.6631 - acc: 0.7812 - val_loss: 0.3058 - val_acc: 0.9122\n",
      "Epoch 207/500\n",
      "48/48 [==============================] - 1s 15ms/step - loss: 0.6604 - acc: 0.7793 - val_loss: 0.3084 - val_acc: 0.9086\n",
      "Epoch 208/500\n",
      "48/48 [==============================] - 1s 16ms/step - loss: 0.6674 - acc: 0.7826 - val_loss: 0.3029 - val_acc: 0.9086\n",
      "Epoch 209/500\n",
      "48/48 [==============================] - 1s 16ms/step - loss: 0.6634 - acc: 0.7819 - val_loss: 0.3111 - val_acc: 0.9078\n",
      "Epoch 210/500\n",
      "48/48 [==============================] - 1s 16ms/step - loss: 0.6601 - acc: 0.7833 - val_loss: 0.3022 - val_acc: 0.9063\n",
      "Epoch 211/500\n",
      "48/48 [==============================] - 1s 16ms/step - loss: 0.6703 - acc: 0.7765 - val_loss: 0.2956 - val_acc: 0.9071\n",
      "Epoch 212/500\n",
      "48/48 [==============================] - 1s 17ms/step - loss: 0.6563 - acc: 0.7865 - val_loss: 0.3042 - val_acc: 0.9086\n",
      "Epoch 213/500\n",
      "48/48 [==============================] - 1s 16ms/step - loss: 0.6489 - acc: 0.7815 - val_loss: 0.3020 - val_acc: 0.9115\n",
      "Epoch 214/500\n",
      "48/48 [==============================] - 1s 16ms/step - loss: 0.6567 - acc: 0.7804 - val_loss: 0.3003 - val_acc: 0.9049\n",
      "Epoch 215/500\n",
      "48/48 [==============================] - 1s 16ms/step - loss: 0.6572 - acc: 0.7833 - val_loss: 0.2972 - val_acc: 0.9041\n",
      "Epoch 216/500\n",
      "48/48 [==============================] - 1s 16ms/step - loss: 0.6506 - acc: 0.7871 - val_loss: 0.3018 - val_acc: 0.9049\n",
      "Epoch 217/500\n",
      "48/48 [==============================] - 1s 17ms/step - loss: 0.6435 - acc: 0.7866 - val_loss: 0.3005 - val_acc: 0.9004\n",
      "Epoch 218/500\n",
      "48/48 [==============================] - 1s 16ms/step - loss: 0.6541 - acc: 0.7830 - val_loss: 0.3010 - val_acc: 0.9041\n",
      "Epoch 219/500\n",
      "48/48 [==============================] - 1s 16ms/step - loss: 0.6461 - acc: 0.7835 - val_loss: 0.3001 - val_acc: 0.9041\n",
      "Epoch 220/500\n",
      "48/48 [==============================] - 1s 16ms/step - loss: 0.6476 - acc: 0.7854 - val_loss: 0.2975 - val_acc: 0.9078\n",
      "Epoch 221/500\n",
      "48/48 [==============================] - 1s 17ms/step - loss: 0.6465 - acc: 0.7879 - val_loss: 0.2949 - val_acc: 0.9115\n",
      "Epoch 222/500\n",
      "48/48 [==============================] - 1s 16ms/step - loss: 0.6407 - acc: 0.7847 - val_loss: 0.2986 - val_acc: 0.9130\n",
      "Epoch 223/500\n",
      "48/48 [==============================] - 1s 16ms/step - loss: 0.6441 - acc: 0.7849 - val_loss: 0.2915 - val_acc: 0.9100\n",
      "Epoch 224/500\n",
      "48/48 [==============================] - 1s 15ms/step - loss: 0.6473 - acc: 0.7839 - val_loss: 0.2955 - val_acc: 0.9086\n",
      "Epoch 225/500\n",
      "48/48 [==============================] - 1s 16ms/step - loss: 0.6318 - acc: 0.7949 - val_loss: 0.2974 - val_acc: 0.9071\n",
      "Epoch 226/500\n",
      "48/48 [==============================] - 1s 16ms/step - loss: 0.6430 - acc: 0.7888 - val_loss: 0.2885 - val_acc: 0.9115\n",
      "Epoch 227/500\n",
      "48/48 [==============================] - 1s 16ms/step - loss: 0.6298 - acc: 0.7925 - val_loss: 0.2992 - val_acc: 0.9027\n",
      "Epoch 228/500\n",
      "48/48 [==============================] - 1s 16ms/step - loss: 0.6417 - acc: 0.7899 - val_loss: 0.2933 - val_acc: 0.9108\n",
      "Epoch 229/500\n",
      "48/48 [==============================] - 1s 15ms/step - loss: 0.6309 - acc: 0.7898 - val_loss: 0.2985 - val_acc: 0.9027\n",
      "Epoch 230/500\n",
      "48/48 [==============================] - 1s 16ms/step - loss: 0.6394 - acc: 0.7855 - val_loss: 0.2949 - val_acc: 0.9078\n",
      "Epoch 231/500\n",
      "48/48 [==============================] - 1s 15ms/step - loss: 0.6362 - acc: 0.7940 - val_loss: 0.2895 - val_acc: 0.9093\n",
      "Epoch 232/500\n",
      "48/48 [==============================] - 1s 16ms/step - loss: 0.6280 - acc: 0.7944 - val_loss: 0.2977 - val_acc: 0.9041\n",
      "Epoch 233/500\n",
      "48/48 [==============================] - 1s 15ms/step - loss: 0.6235 - acc: 0.7975 - val_loss: 0.2937 - val_acc: 0.9056\n",
      "Epoch 234/500\n",
      "48/48 [==============================] - 1s 15ms/step - loss: 0.6318 - acc: 0.7903 - val_loss: 0.2992 - val_acc: 0.9049\n",
      "Epoch 235/500\n",
      "48/48 [==============================] - 1s 16ms/step - loss: 0.6272 - acc: 0.7992 - val_loss: 0.2918 - val_acc: 0.9041\n",
      "Epoch 236/500\n",
      "48/48 [==============================] - 1s 16ms/step - loss: 0.6284 - acc: 0.7934 - val_loss: 0.2907 - val_acc: 0.9063\n",
      "Epoch 237/500\n",
      "48/48 [==============================] - 1s 15ms/step - loss: 0.6289 - acc: 0.7939 - val_loss: 0.2999 - val_acc: 0.9027\n",
      "Epoch 238/500\n",
      "48/48 [==============================] - 1s 16ms/step - loss: 0.6095 - acc: 0.7992 - val_loss: 0.3132 - val_acc: 0.8931\n",
      "Epoch 239/500\n",
      "48/48 [==============================] - 1s 16ms/step - loss: 0.6289 - acc: 0.7951 - val_loss: 0.2967 - val_acc: 0.9100\n",
      "Epoch 240/500\n",
      "48/48 [==============================] - 1s 16ms/step - loss: 0.6281 - acc: 0.7960 - val_loss: 0.3006 - val_acc: 0.9041\n",
      "Epoch 241/500\n",
      "48/48 [==============================] - 1s 16ms/step - loss: 0.6191 - acc: 0.7986 - val_loss: 0.2922 - val_acc: 0.9049\n",
      "Epoch 242/500\n",
      "48/48 [==============================] - 1s 15ms/step - loss: 0.6161 - acc: 0.7996 - val_loss: 0.2950 - val_acc: 0.9049\n",
      "Epoch 243/500\n",
      "48/48 [==============================] - 1s 16ms/step - loss: 0.6170 - acc: 0.7970 - val_loss: 0.2889 - val_acc: 0.9078\n",
      "Epoch 244/500\n",
      "48/48 [==============================] - 1s 16ms/step - loss: 0.6180 - acc: 0.7988 - val_loss: 0.2952 - val_acc: 0.9056\n",
      "Epoch 245/500\n",
      "48/48 [==============================] - 1s 16ms/step - loss: 0.6205 - acc: 0.7998 - val_loss: 0.2885 - val_acc: 0.9078\n",
      "Epoch 246/500\n",
      "48/48 [==============================] - 1s 15ms/step - loss: 0.6113 - acc: 0.7984 - val_loss: 0.2937 - val_acc: 0.9034\n",
      "Epoch 247/500\n",
      "48/48 [==============================] - 1s 16ms/step - loss: 0.6147 - acc: 0.7970 - val_loss: 0.2874 - val_acc: 0.9078\n",
      "Epoch 248/500\n",
      "48/48 [==============================] - 1s 17ms/step - loss: 0.6085 - acc: 0.8024 - val_loss: 0.2914 - val_acc: 0.9108\n",
      "Epoch 249/500\n",
      "48/48 [==============================] - 1s 16ms/step - loss: 0.6098 - acc: 0.7994 - val_loss: 0.2943 - val_acc: 0.9049\n",
      "Epoch 250/500\n",
      "48/48 [==============================] - 1s 16ms/step - loss: 0.6052 - acc: 0.8025 - val_loss: 0.2915 - val_acc: 0.9063\n",
      "Epoch 251/500\n",
      "48/48 [==============================] - 1s 16ms/step - loss: 0.6031 - acc: 0.8007 - val_loss: 0.2891 - val_acc: 0.9071\n",
      "Epoch 252/500\n",
      "48/48 [==============================] - 1s 18ms/step - loss: 0.6115 - acc: 0.7997 - val_loss: 0.2810 - val_acc: 0.9167\n",
      "Epoch 253/500\n",
      "48/48 [==============================] - 1s 16ms/step - loss: 0.5901 - acc: 0.8057 - val_loss: 0.2831 - val_acc: 0.9122\n",
      "Epoch 254/500\n",
      "48/48 [==============================] - 1s 16ms/step - loss: 0.5920 - acc: 0.8079 - val_loss: 0.2861 - val_acc: 0.9078\n",
      "Epoch 255/500\n",
      "48/48 [==============================] - 1s 16ms/step - loss: 0.5990 - acc: 0.8002 - val_loss: 0.2857 - val_acc: 0.9063\n",
      "Epoch 256/500\n",
      "48/48 [==============================] - 1s 17ms/step - loss: 0.5903 - acc: 0.8074 - val_loss: 0.2928 - val_acc: 0.9071\n",
      "Epoch 257/500\n",
      "48/48 [==============================] - 1s 17ms/step - loss: 0.5942 - acc: 0.8074 - val_loss: 0.2839 - val_acc: 0.9108\n",
      "Epoch 258/500\n",
      "48/48 [==============================] - 1s 16ms/step - loss: 0.5918 - acc: 0.8080 - val_loss: 0.2820 - val_acc: 0.9115\n",
      "Epoch 259/500\n",
      "48/48 [==============================] - 1s 21ms/step - loss: 0.6032 - acc: 0.8031 - val_loss: 0.2931 - val_acc: 0.9049\n",
      "Epoch 260/500\n",
      "48/48 [==============================] - 1s 18ms/step - loss: 0.5981 - acc: 0.8045 - val_loss: 0.2833 - val_acc: 0.9093\n",
      "Epoch 261/500\n",
      "48/48 [==============================] - 1s 17ms/step - loss: 0.5877 - acc: 0.8054 - val_loss: 0.2859 - val_acc: 0.9086\n",
      "Epoch 262/500\n",
      "48/48 [==============================] - 1s 15ms/step - loss: 0.5978 - acc: 0.8049 - val_loss: 0.2987 - val_acc: 0.9071\n",
      "Epoch 263/500\n",
      "48/48 [==============================] - 1s 16ms/step - loss: 0.6020 - acc: 0.8026 - val_loss: 0.2863 - val_acc: 0.9093\n",
      "Epoch 264/500\n",
      "48/48 [==============================] - 1s 15ms/step - loss: 0.5825 - acc: 0.8101 - val_loss: 0.2835 - val_acc: 0.9100\n",
      "Epoch 265/500\n",
      "48/48 [==============================] - 1s 16ms/step - loss: 0.5954 - acc: 0.8087 - val_loss: 0.2902 - val_acc: 0.9063\n",
      "Epoch 266/500\n",
      "48/48 [==============================] - 1s 15ms/step - loss: 0.5879 - acc: 0.8093 - val_loss: 0.2860 - val_acc: 0.9108\n",
      "Epoch 267/500\n",
      "48/48 [==============================] - 1s 15ms/step - loss: 0.5789 - acc: 0.8111 - val_loss: 0.2874 - val_acc: 0.9071\n",
      "Epoch 268/500\n",
      "48/48 [==============================] - 1s 15ms/step - loss: 0.5883 - acc: 0.8099 - val_loss: 0.2902 - val_acc: 0.9034\n",
      "Epoch 269/500\n",
      "48/48 [==============================] - 1s 15ms/step - loss: 0.5778 - acc: 0.8089 - val_loss: 0.2786 - val_acc: 0.9086\n",
      "Epoch 270/500\n",
      "48/48 [==============================] - 1s 15ms/step - loss: 0.5764 - acc: 0.8108 - val_loss: 0.3022 - val_acc: 0.9071\n",
      "Epoch 271/500\n",
      "48/48 [==============================] - 1s 15ms/step - loss: 0.5755 - acc: 0.8103 - val_loss: 0.2921 - val_acc: 0.9034\n",
      "Epoch 272/500\n",
      "48/48 [==============================] - 1s 16ms/step - loss: 0.5715 - acc: 0.8101 - val_loss: 0.3033 - val_acc: 0.9071\n",
      "Epoch 273/500\n",
      "48/48 [==============================] - 1s 15ms/step - loss: 0.5806 - acc: 0.8148 - val_loss: 0.2836 - val_acc: 0.9049\n",
      "Epoch 274/500\n",
      "48/48 [==============================] - 1s 14ms/step - loss: 0.5850 - acc: 0.8108 - val_loss: 0.2838 - val_acc: 0.9108\n",
      "Epoch 275/500\n",
      "48/48 [==============================] - 1s 15ms/step - loss: 0.5824 - acc: 0.8134 - val_loss: 0.2924 - val_acc: 0.9056\n",
      "Epoch 276/500\n",
      "48/48 [==============================] - 1s 16ms/step - loss: 0.5730 - acc: 0.8162 - val_loss: 0.2884 - val_acc: 0.9108\n",
      "Epoch 277/500\n",
      "48/48 [==============================] - 1s 15ms/step - loss: 0.5690 - acc: 0.8130 - val_loss: 0.2838 - val_acc: 0.9093\n",
      "Epoch 278/500\n",
      "48/48 [==============================] - 1s 15ms/step - loss: 0.5806 - acc: 0.8083 - val_loss: 0.2994 - val_acc: 0.9130\n",
      "Epoch 279/500\n",
      "48/48 [==============================] - 1s 16ms/step - loss: 0.5606 - acc: 0.8157 - val_loss: 0.2896 - val_acc: 0.9063\n",
      "Epoch 280/500\n",
      "48/48 [==============================] - 1s 16ms/step - loss: 0.5704 - acc: 0.8179 - val_loss: 0.2854 - val_acc: 0.9093\n",
      "Epoch 281/500\n",
      "48/48 [==============================] - 1s 15ms/step - loss: 0.5638 - acc: 0.8162 - val_loss: 0.2928 - val_acc: 0.9086\n",
      "Epoch 282/500\n",
      "48/48 [==============================] - 1s 15ms/step - loss: 0.5667 - acc: 0.8171 - val_loss: 0.2885 - val_acc: 0.9078\n",
      "Epoch 283/500\n",
      "48/48 [==============================] - 1s 15ms/step - loss: 0.5742 - acc: 0.8116 - val_loss: 0.2908 - val_acc: 0.9056\n",
      "Epoch 284/500\n",
      "48/48 [==============================] - 1s 16ms/step - loss: 0.5719 - acc: 0.8149 - val_loss: 0.2995 - val_acc: 0.9041\n",
      "Epoch 285/500\n",
      "48/48 [==============================] - 1s 16ms/step - loss: 0.5645 - acc: 0.8157 - val_loss: 0.2917 - val_acc: 0.9063\n",
      "Epoch 286/500\n",
      "48/48 [==============================] - 1s 16ms/step - loss: 0.5625 - acc: 0.8162 - val_loss: 0.2835 - val_acc: 0.9063\n",
      "Epoch 287/500\n",
      "48/48 [==============================] - 1s 16ms/step - loss: 0.5586 - acc: 0.8170 - val_loss: 0.2950 - val_acc: 0.9012\n",
      "Epoch 288/500\n",
      "48/48 [==============================] - 1s 16ms/step - loss: 0.5600 - acc: 0.8186 - val_loss: 0.2856 - val_acc: 0.9071\n",
      "Epoch 289/500\n",
      "48/48 [==============================] - 1s 15ms/step - loss: 0.5547 - acc: 0.8185 - val_loss: 0.2829 - val_acc: 0.9086\n",
      "Epoch 290/500\n",
      "48/48 [==============================] - 1s 15ms/step - loss: 0.5500 - acc: 0.8211 - val_loss: 0.2873 - val_acc: 0.9056\n",
      "Epoch 291/500\n",
      "48/48 [==============================] - 1s 15ms/step - loss: 0.5703 - acc: 0.8176 - val_loss: 0.2900 - val_acc: 0.9034\n",
      "Epoch 292/500\n",
      "48/48 [==============================] - 1s 14ms/step - loss: 0.5545 - acc: 0.8204 - val_loss: 0.3019 - val_acc: 0.9049\n",
      "Epoch 293/500\n",
      "48/48 [==============================] - 1s 14ms/step - loss: 0.5565 - acc: 0.8194 - val_loss: 0.2866 - val_acc: 0.9049\n",
      "Epoch 294/500\n",
      "48/48 [==============================] - 1s 16ms/step - loss: 0.5589 - acc: 0.8173 - val_loss: 0.2688 - val_acc: 0.9145\n",
      "Epoch 295/500\n",
      "48/48 [==============================] - 1s 15ms/step - loss: 0.5458 - acc: 0.8185 - val_loss: 0.2890 - val_acc: 0.9049\n",
      "Epoch 296/500\n",
      "48/48 [==============================] - 1s 15ms/step - loss: 0.5528 - acc: 0.8210 - val_loss: 0.2881 - val_acc: 0.9086\n",
      "Epoch 297/500\n",
      "48/48 [==============================] - 1s 15ms/step - loss: 0.5455 - acc: 0.8235 - val_loss: 0.2886 - val_acc: 0.9078\n",
      "Epoch 298/500\n",
      "48/48 [==============================] - 1s 16ms/step - loss: 0.5436 - acc: 0.8202 - val_loss: 0.2952 - val_acc: 0.9041\n",
      "Epoch 299/500\n",
      "48/48 [==============================] - 1s 15ms/step - loss: 0.5577 - acc: 0.8178 - val_loss: 0.2902 - val_acc: 0.9041\n",
      "Epoch 300/500\n",
      "48/48 [==============================] - 1s 16ms/step - loss: 0.5555 - acc: 0.8187 - val_loss: 0.2901 - val_acc: 0.9041\n",
      "Epoch 301/500\n",
      "48/48 [==============================] - 1s 14ms/step - loss: 0.5499 - acc: 0.8233 - val_loss: 0.2807 - val_acc: 0.9122\n",
      "Epoch 302/500\n",
      "48/48 [==============================] - 1s 14ms/step - loss: 0.5436 - acc: 0.8266 - val_loss: 0.2716 - val_acc: 0.9174\n",
      "Epoch 303/500\n",
      "48/48 [==============================] - 1s 15ms/step - loss: 0.5390 - acc: 0.8233 - val_loss: 0.2914 - val_acc: 0.9012\n",
      "Epoch 304/500\n",
      "48/48 [==============================] - 1s 14ms/step - loss: 0.5481 - acc: 0.8191 - val_loss: 0.2947 - val_acc: 0.9063\n",
      "Epoch 305/500\n",
      "48/48 [==============================] - 1s 14ms/step - loss: 0.5428 - acc: 0.8236 - val_loss: 0.2846 - val_acc: 0.9049\n",
      "Epoch 306/500\n",
      "48/48 [==============================] - 1s 14ms/step - loss: 0.5321 - acc: 0.8266 - val_loss: 0.2855 - val_acc: 0.9049\n",
      "Epoch 307/500\n",
      "48/48 [==============================] - 1s 15ms/step - loss: 0.5431 - acc: 0.8241 - val_loss: 0.2879 - val_acc: 0.9049\n",
      "Epoch 308/500\n",
      "48/48 [==============================] - 1s 14ms/step - loss: 0.5443 - acc: 0.8239 - val_loss: 0.2799 - val_acc: 0.9130\n",
      "Epoch 309/500\n",
      "48/48 [==============================] - 1s 14ms/step - loss: 0.5492 - acc: 0.8222 - val_loss: 0.2929 - val_acc: 0.9071\n",
      "Epoch 310/500\n",
      "48/48 [==============================] - 1s 15ms/step - loss: 0.5385 - acc: 0.8280 - val_loss: 0.2789 - val_acc: 0.9100\n",
      "Epoch 311/500\n",
      "48/48 [==============================] - 1s 14ms/step - loss: 0.5349 - acc: 0.8320 - val_loss: 0.2798 - val_acc: 0.9071\n",
      "Epoch 312/500\n",
      "48/48 [==============================] - 1s 14ms/step - loss: 0.5467 - acc: 0.8228 - val_loss: 0.2729 - val_acc: 0.9078\n",
      "Epoch 313/500\n",
      "48/48 [==============================] - 1s 14ms/step - loss: 0.5391 - acc: 0.8283 - val_loss: 0.2871 - val_acc: 0.9063\n",
      "Epoch 314/500\n",
      "48/48 [==============================] - 1s 15ms/step - loss: 0.5364 - acc: 0.8303 - val_loss: 0.2871 - val_acc: 0.9122\n",
      "Epoch 315/500\n",
      "48/48 [==============================] - 1s 14ms/step - loss: 0.5332 - acc: 0.8262 - val_loss: 0.2774 - val_acc: 0.9115\n",
      "Epoch 316/500\n",
      "48/48 [==============================] - 1s 14ms/step - loss: 0.5352 - acc: 0.8312 - val_loss: 0.2878 - val_acc: 0.9071\n",
      "Epoch 317/500\n",
      "48/48 [==============================] - 1s 14ms/step - loss: 0.5320 - acc: 0.8275 - val_loss: 0.2900 - val_acc: 0.9049\n",
      "Epoch 318/500\n",
      "48/48 [==============================] - 1s 15ms/step - loss: 0.5338 - acc: 0.8310 - val_loss: 0.2811 - val_acc: 0.9093\n",
      "Epoch 319/500\n",
      "48/48 [==============================] - 1s 14ms/step - loss: 0.5234 - acc: 0.8321 - val_loss: 0.2811 - val_acc: 0.9071\n",
      "Epoch 320/500\n",
      "48/48 [==============================] - 1s 14ms/step - loss: 0.5238 - acc: 0.8298 - val_loss: 0.2960 - val_acc: 0.9063\n",
      "Epoch 321/500\n",
      "48/48 [==============================] - 1s 14ms/step - loss: 0.5283 - acc: 0.8320 - val_loss: 0.2836 - val_acc: 0.9071\n",
      "Epoch 322/500\n",
      "48/48 [==============================] - 1s 15ms/step - loss: 0.5134 - acc: 0.8384 - val_loss: 0.2820 - val_acc: 0.9056\n",
      "Epoch 323/500\n",
      "48/48 [==============================] - 1s 15ms/step - loss: 0.5224 - acc: 0.8315 - val_loss: 0.2901 - val_acc: 0.9071\n",
      "Epoch 324/500\n",
      "48/48 [==============================] - 1s 14ms/step - loss: 0.5271 - acc: 0.8278 - val_loss: 0.2792 - val_acc: 0.9122\n",
      "Epoch 325/500\n",
      "48/48 [==============================] - 1s 15ms/step - loss: 0.5175 - acc: 0.8335 - val_loss: 0.2826 - val_acc: 0.9071\n",
      "Epoch 326/500\n",
      "48/48 [==============================] - 1s 14ms/step - loss: 0.5240 - acc: 0.8318 - val_loss: 0.2914 - val_acc: 0.9004\n",
      "Epoch 327/500\n",
      "48/48 [==============================] - 1s 14ms/step - loss: 0.5282 - acc: 0.8329 - val_loss: 0.2951 - val_acc: 0.9019\n",
      "Epoch 328/500\n",
      "48/48 [==============================] - 1s 14ms/step - loss: 0.5227 - acc: 0.8358 - val_loss: 0.2875 - val_acc: 0.9086\n",
      "Epoch 329/500\n",
      "48/48 [==============================] - 1s 15ms/step - loss: 0.5147 - acc: 0.8369 - val_loss: 0.2730 - val_acc: 0.9108\n",
      "Epoch 330/500\n",
      "48/48 [==============================] - 1s 14ms/step - loss: 0.5156 - acc: 0.8348 - val_loss: 0.2885 - val_acc: 0.9034\n",
      "Epoch 331/500\n",
      "48/48 [==============================] - 1s 14ms/step - loss: 0.5146 - acc: 0.8343 - val_loss: 0.2882 - val_acc: 0.9063\n",
      "Epoch 332/500\n",
      "48/48 [==============================] - 1s 15ms/step - loss: 0.5040 - acc: 0.8348 - val_loss: 0.2795 - val_acc: 0.9115\n",
      "Epoch 333/500\n",
      "48/48 [==============================] - 1s 15ms/step - loss: 0.5194 - acc: 0.8329 - val_loss: 0.2752 - val_acc: 0.9145\n",
      "Epoch 334/500\n",
      "48/48 [==============================] - 1s 15ms/step - loss: 0.5167 - acc: 0.8315 - val_loss: 0.2895 - val_acc: 0.9012\n",
      "Epoch 335/500\n",
      "48/48 [==============================] - 1s 15ms/step - loss: 0.5091 - acc: 0.8353 - val_loss: 0.2846 - val_acc: 0.9078\n",
      "Epoch 336/500\n",
      "48/48 [==============================] - 1s 16ms/step - loss: 0.5075 - acc: 0.8348 - val_loss: 0.2961 - val_acc: 0.9049\n",
      "Epoch 337/500\n",
      "48/48 [==============================] - 1s 16ms/step - loss: 0.5167 - acc: 0.8324 - val_loss: 0.2928 - val_acc: 0.9078\n",
      "Epoch 338/500\n",
      "48/48 [==============================] - 1s 15ms/step - loss: 0.5017 - acc: 0.8410 - val_loss: 0.2889 - val_acc: 0.9086\n",
      "Epoch 339/500\n",
      "48/48 [==============================] - 1s 15ms/step - loss: 0.5169 - acc: 0.8344 - val_loss: 0.2804 - val_acc: 0.9108\n",
      "Epoch 340/500\n",
      "48/48 [==============================] - 1s 17ms/step - loss: 0.5092 - acc: 0.8363 - val_loss: 0.2771 - val_acc: 0.9122\n",
      "Epoch 341/500\n",
      "48/48 [==============================] - 1s 14ms/step - loss: 0.5114 - acc: 0.8381 - val_loss: 0.2908 - val_acc: 0.9034\n",
      "Epoch 342/500\n",
      "48/48 [==============================] - 1s 15ms/step - loss: 0.5070 - acc: 0.8380 - val_loss: 0.3085 - val_acc: 0.8975\n",
      "Epoch 343/500\n",
      "48/48 [==============================] - 1s 16ms/step - loss: 0.5103 - acc: 0.8371 - val_loss: 0.2924 - val_acc: 0.9071\n",
      "Epoch 344/500\n",
      "48/48 [==============================] - 1s 15ms/step - loss: 0.5110 - acc: 0.8370 - val_loss: 0.2849 - val_acc: 0.9130\n",
      "Epoch 345/500\n",
      "48/48 [==============================] - 1s 15ms/step - loss: 0.5030 - acc: 0.8390 - val_loss: 0.2822 - val_acc: 0.9122\n",
      "Epoch 346/500\n",
      "48/48 [==============================] - 1s 14ms/step - loss: 0.4938 - acc: 0.8399 - val_loss: 0.3056 - val_acc: 0.8931\n",
      "Epoch 347/500\n",
      "48/48 [==============================] - 1s 15ms/step - loss: 0.5037 - acc: 0.8387 - val_loss: 0.2989 - val_acc: 0.9115\n",
      "Epoch 348/500\n",
      "48/48 [==============================] - 1s 14ms/step - loss: 0.5060 - acc: 0.8402 - val_loss: 0.2881 - val_acc: 0.9137\n",
      "Epoch 349/500\n",
      "48/48 [==============================] - 1s 15ms/step - loss: 0.5073 - acc: 0.8384 - val_loss: 0.2901 - val_acc: 0.9108\n",
      "Epoch 350/500\n",
      "48/48 [==============================] - 1s 16ms/step - loss: 0.5010 - acc: 0.8390 - val_loss: 0.2959 - val_acc: 0.8982\n",
      "Epoch 351/500\n",
      "48/48 [==============================] - 1s 15ms/step - loss: 0.5149 - acc: 0.8366 - val_loss: 0.2839 - val_acc: 0.9100\n",
      "Epoch 352/500\n",
      "48/48 [==============================] - 1s 15ms/step - loss: 0.5105 - acc: 0.8393 - val_loss: 0.3370 - val_acc: 0.8931\n",
      "Epoch 353/500\n",
      "48/48 [==============================] - 1s 16ms/step - loss: 0.4918 - acc: 0.8367 - val_loss: 0.2814 - val_acc: 0.9078\n",
      "Epoch 354/500\n",
      "48/48 [==============================] - 1s 14ms/step - loss: 0.4962 - acc: 0.8407 - val_loss: 0.2931 - val_acc: 0.9108\n",
      "Epoch 355/500\n",
      "48/48 [==============================] - 1s 14ms/step - loss: 0.5061 - acc: 0.8380 - val_loss: 0.2810 - val_acc: 0.9130\n",
      "Epoch 356/500\n",
      "48/48 [==============================] - 1s 14ms/step - loss: 0.4932 - acc: 0.8385 - val_loss: 0.2927 - val_acc: 0.8990\n",
      "Epoch 357/500\n",
      "48/48 [==============================] - 1s 15ms/step - loss: 0.4964 - acc: 0.8385 - val_loss: 0.3087 - val_acc: 0.9019\n",
      "Epoch 358/500\n",
      "48/48 [==============================] - 1s 14ms/step - loss: 0.5007 - acc: 0.8396 - val_loss: 0.3042 - val_acc: 0.8916\n",
      "Epoch 359/500\n",
      "48/48 [==============================] - 1s 14ms/step - loss: 0.4963 - acc: 0.8432 - val_loss: 0.2912 - val_acc: 0.9086\n",
      "Epoch 360/500\n",
      "48/48 [==============================] - 1s 15ms/step - loss: 0.4997 - acc: 0.8417 - val_loss: 0.2820 - val_acc: 0.9108\n",
      "Epoch 361/500\n",
      "48/48 [==============================] - 1s 15ms/step - loss: 0.4892 - acc: 0.8462 - val_loss: 0.3000 - val_acc: 0.8945\n",
      "Epoch 362/500\n",
      "48/48 [==============================] - 1s 14ms/step - loss: 0.4851 - acc: 0.8429 - val_loss: 0.2710 - val_acc: 0.9204\n",
      "Epoch 363/500\n",
      "48/48 [==============================] - 1s 15ms/step - loss: 0.4886 - acc: 0.8428 - val_loss: 0.2858 - val_acc: 0.9115\n",
      "Epoch 364/500\n",
      "48/48 [==============================] - 1s 15ms/step - loss: 0.4881 - acc: 0.8458 - val_loss: 0.2777 - val_acc: 0.9130\n",
      "Epoch 365/500\n",
      "48/48 [==============================] - 1s 14ms/step - loss: 0.4827 - acc: 0.8450 - val_loss: 0.3030 - val_acc: 0.9019\n",
      "Epoch 366/500\n",
      "48/48 [==============================] - 1s 14ms/step - loss: 0.4854 - acc: 0.8483 - val_loss: 0.3019 - val_acc: 0.9041\n",
      "Epoch 367/500\n",
      "48/48 [==============================] - 1s 15ms/step - loss: 0.4888 - acc: 0.8443 - val_loss: 0.2984 - val_acc: 0.9019\n",
      "Epoch 368/500\n",
      "48/48 [==============================] - 1s 15ms/step - loss: 0.4883 - acc: 0.8476 - val_loss: 0.3256 - val_acc: 0.8827\n",
      "Epoch 369/500\n",
      "48/48 [==============================] - 1s 14ms/step - loss: 0.4871 - acc: 0.8462 - val_loss: 0.3054 - val_acc: 0.8975\n",
      "Epoch 370/500\n",
      "48/48 [==============================] - 1s 15ms/step - loss: 0.4814 - acc: 0.8444 - val_loss: 0.2870 - val_acc: 0.9056\n",
      "Epoch 371/500\n",
      "48/48 [==============================] - 1s 14ms/step - loss: 0.4829 - acc: 0.8494 - val_loss: 0.3154 - val_acc: 0.8945\n",
      "Epoch 372/500\n",
      "48/48 [==============================] - 1s 14ms/step - loss: 0.4797 - acc: 0.8462 - val_loss: 0.3079 - val_acc: 0.8909\n",
      "Epoch 373/500\n",
      "48/48 [==============================] - 1s 15ms/step - loss: 0.4772 - acc: 0.8482 - val_loss: 0.2990 - val_acc: 0.9041\n",
      "Epoch 374/500\n",
      "48/48 [==============================] - 1s 14ms/step - loss: 0.4907 - acc: 0.8418 - val_loss: 0.2913 - val_acc: 0.9041\n",
      "Epoch 375/500\n",
      "48/48 [==============================] - 1s 15ms/step - loss: 0.4932 - acc: 0.8458 - val_loss: 0.3087 - val_acc: 0.8960\n",
      "Epoch 376/500\n",
      "48/48 [==============================] - 1s 15ms/step - loss: 0.4764 - acc: 0.8502 - val_loss: 0.2909 - val_acc: 0.9108\n",
      "Epoch 377/500\n",
      "48/48 [==============================] - 1s 16ms/step - loss: 0.4760 - acc: 0.8496 - val_loss: 0.3084 - val_acc: 0.8997\n",
      "Epoch 378/500\n",
      "48/48 [==============================] - 1s 15ms/step - loss: 0.4812 - acc: 0.8485 - val_loss: 0.3226 - val_acc: 0.8894\n",
      "Epoch 379/500\n",
      "48/48 [==============================] - 1s 15ms/step - loss: 0.4738 - acc: 0.8493 - val_loss: 0.3047 - val_acc: 0.8997\n",
      "Epoch 380/500\n",
      "48/48 [==============================] - 1s 17ms/step - loss: 0.4704 - acc: 0.8506 - val_loss: 0.3193 - val_acc: 0.8909\n",
      "Epoch 381/500\n",
      "48/48 [==============================] - 1s 16ms/step - loss: 0.4830 - acc: 0.8448 - val_loss: 0.3077 - val_acc: 0.8997\n",
      "Epoch 382/500\n",
      "48/48 [==============================] - 1s 16ms/step - loss: 0.4798 - acc: 0.8480 - val_loss: 0.2909 - val_acc: 0.9122\n",
      "Epoch 383/500\n",
      "48/48 [==============================] - 1s 16ms/step - loss: 0.4720 - acc: 0.8490 - val_loss: 0.3053 - val_acc: 0.8997\n",
      "Epoch 384/500\n",
      "48/48 [==============================] - 1s 16ms/step - loss: 0.4684 - acc: 0.8522 - val_loss: 0.3097 - val_acc: 0.9012\n",
      "Epoch 385/500\n",
      "48/48 [==============================] - 1s 15ms/step - loss: 0.4772 - acc: 0.8504 - val_loss: 0.2978 - val_acc: 0.9078\n",
      "Epoch 386/500\n",
      "48/48 [==============================] - 1s 16ms/step - loss: 0.4776 - acc: 0.8470 - val_loss: 0.3365 - val_acc: 0.8894\n",
      "Epoch 387/500\n",
      "48/48 [==============================] - 1s 17ms/step - loss: 0.4817 - acc: 0.8508 - val_loss: 0.3007 - val_acc: 0.9071\n",
      "Epoch 388/500\n",
      "48/48 [==============================] - 1s 17ms/step - loss: 0.4719 - acc: 0.8508 - val_loss: 0.3323 - val_acc: 0.8990\n",
      "Epoch 389/500\n",
      "48/48 [==============================] - 1s 17ms/step - loss: 0.4683 - acc: 0.8516 - val_loss: 0.3258 - val_acc: 0.8923\n",
      "Epoch 390/500\n",
      "48/48 [==============================] - 1s 17ms/step - loss: 0.4675 - acc: 0.8513 - val_loss: 0.3230 - val_acc: 0.8975\n",
      "Epoch 391/500\n",
      "48/48 [==============================] - 1s 17ms/step - loss: 0.4606 - acc: 0.8529 - val_loss: 0.3141 - val_acc: 0.9071\n",
      "Epoch 392/500\n",
      "48/48 [==============================] - 1s 16ms/step - loss: 0.4627 - acc: 0.8510 - val_loss: 0.3175 - val_acc: 0.9071\n",
      "Epoch 393/500\n",
      "48/48 [==============================] - 1s 16ms/step - loss: 0.4711 - acc: 0.8512 - val_loss: 0.3205 - val_acc: 0.8909\n",
      "Epoch 394/500\n",
      "48/48 [==============================] - 1s 15ms/step - loss: 0.4672 - acc: 0.8508 - val_loss: 0.3072 - val_acc: 0.9019\n",
      "Epoch 395/500\n",
      "48/48 [==============================] - 1s 15ms/step - loss: 0.4679 - acc: 0.8490 - val_loss: 0.3003 - val_acc: 0.9049\n",
      "Epoch 396/500\n",
      "48/48 [==============================] - 1s 16ms/step - loss: 0.4671 - acc: 0.8534 - val_loss: 0.3115 - val_acc: 0.9027\n",
      "Epoch 397/500\n",
      "48/48 [==============================] - 1s 15ms/step - loss: 0.4617 - acc: 0.8548 - val_loss: 0.3036 - val_acc: 0.9086\n",
      "Epoch 398/500\n",
      "48/48 [==============================] - 1s 16ms/step - loss: 0.4632 - acc: 0.8570 - val_loss: 0.3211 - val_acc: 0.8953\n",
      "Epoch 399/500\n",
      "48/48 [==============================] - 1s 17ms/step - loss: 0.4618 - acc: 0.8535 - val_loss: 0.3094 - val_acc: 0.9152\n",
      "Epoch 400/500\n",
      "48/48 [==============================] - 1s 17ms/step - loss: 0.4699 - acc: 0.8547 - val_loss: 0.3160 - val_acc: 0.9012\n",
      "Epoch 401/500\n",
      "48/48 [==============================] - 1s 15ms/step - loss: 0.4650 - acc: 0.8541 - val_loss: 0.3220 - val_acc: 0.8960\n",
      "Epoch 402/500\n",
      "48/48 [==============================] - 1s 16ms/step - loss: 0.4575 - acc: 0.8576 - val_loss: 0.3219 - val_acc: 0.8968\n",
      "Epoch 403/500\n",
      "48/48 [==============================] - 1s 15ms/step - loss: 0.4523 - acc: 0.8570 - val_loss: 0.3125 - val_acc: 0.9012\n",
      "Epoch 404/500\n",
      "48/48 [==============================] - 1s 16ms/step - loss: 0.4641 - acc: 0.8525 - val_loss: 0.2967 - val_acc: 0.9041\n",
      "Epoch 405/500\n",
      "48/48 [==============================] - 1s 17ms/step - loss: 0.4662 - acc: 0.8503 - val_loss: 0.3196 - val_acc: 0.8960\n",
      "Epoch 406/500\n",
      "48/48 [==============================] - 1s 16ms/step - loss: 0.4560 - acc: 0.8566 - val_loss: 0.3040 - val_acc: 0.9093\n",
      "Epoch 407/500\n",
      "48/48 [==============================] - 1s 17ms/step - loss: 0.4598 - acc: 0.8535 - val_loss: 0.3495 - val_acc: 0.9012\n",
      "Epoch 408/500\n",
      "48/48 [==============================] - 1s 17ms/step - loss: 0.4603 - acc: 0.8549 - val_loss: 0.3066 - val_acc: 0.9086\n",
      "Epoch 409/500\n",
      "48/48 [==============================] - 1s 16ms/step - loss: 0.4619 - acc: 0.8565 - val_loss: 0.3092 - val_acc: 0.9041\n",
      "Epoch 410/500\n",
      "48/48 [==============================] - 1s 16ms/step - loss: 0.4598 - acc: 0.8501 - val_loss: 0.3505 - val_acc: 0.8857\n",
      "Epoch 411/500\n",
      "48/48 [==============================] - 1s 15ms/step - loss: 0.4579 - acc: 0.8566 - val_loss: 0.3365 - val_acc: 0.8864\n",
      "Epoch 412/500\n",
      "48/48 [==============================] - 1s 14ms/step - loss: 0.4570 - acc: 0.8539 - val_loss: 0.3289 - val_acc: 0.9034\n",
      "Epoch 413/500\n",
      "48/48 [==============================] - 1s 15ms/step - loss: 0.4575 - acc: 0.8533 - val_loss: 0.3335 - val_acc: 0.8916\n",
      "Epoch 414/500\n",
      "48/48 [==============================] - 1s 15ms/step - loss: 0.4433 - acc: 0.8599 - val_loss: 0.3431 - val_acc: 0.8879\n",
      "Epoch 415/500\n",
      "48/48 [==============================] - 1s 15ms/step - loss: 0.4469 - acc: 0.8581 - val_loss: 0.3164 - val_acc: 0.9100\n",
      "Epoch 416/500\n",
      "48/48 [==============================] - 1s 14ms/step - loss: 0.4538 - acc: 0.8556 - val_loss: 0.3225 - val_acc: 0.9034\n",
      "Epoch 417/500\n",
      "48/48 [==============================] - 1s 15ms/step - loss: 0.4432 - acc: 0.8604 - val_loss: 0.3307 - val_acc: 0.8997\n",
      "Epoch 418/500\n",
      "48/48 [==============================] - 1s 14ms/step - loss: 0.4535 - acc: 0.8580 - val_loss: 0.3342 - val_acc: 0.8945\n",
      "Epoch 419/500\n",
      "48/48 [==============================] - 1s 15ms/step - loss: 0.4441 - acc: 0.8600 - val_loss: 0.3130 - val_acc: 0.9041\n",
      "Epoch 420/500\n",
      "48/48 [==============================] - 1s 15ms/step - loss: 0.4519 - acc: 0.8556 - val_loss: 0.3315 - val_acc: 0.8857\n",
      "Epoch 421/500\n",
      "48/48 [==============================] - 1s 15ms/step - loss: 0.4497 - acc: 0.8555 - val_loss: 0.3093 - val_acc: 0.9056\n",
      "Epoch 422/500\n",
      "48/48 [==============================] - 1s 14ms/step - loss: 0.4554 - acc: 0.8557 - val_loss: 0.3068 - val_acc: 0.9078\n",
      "Epoch 423/500\n",
      "48/48 [==============================] - 1s 16ms/step - loss: 0.4482 - acc: 0.8597 - val_loss: 0.3278 - val_acc: 0.8997\n",
      "Epoch 424/500\n",
      "48/48 [==============================] - 1s 15ms/step - loss: 0.4354 - acc: 0.8629 - val_loss: 0.3199 - val_acc: 0.9027\n",
      "Epoch 425/500\n",
      "48/48 [==============================] - 1s 15ms/step - loss: 0.4444 - acc: 0.8567 - val_loss: 0.3394 - val_acc: 0.8945\n",
      "Epoch 426/500\n",
      "48/48 [==============================] - 1s 17ms/step - loss: 0.4540 - acc: 0.8575 - val_loss: 0.3554 - val_acc: 0.9034\n",
      "Epoch 427/500\n",
      "48/48 [==============================] - 1s 15ms/step - loss: 0.4408 - acc: 0.8590 - val_loss: 0.3155 - val_acc: 0.9019\n",
      "Epoch 428/500\n",
      "48/48 [==============================] - 1s 16ms/step - loss: 0.4457 - acc: 0.8618 - val_loss: 0.2982 - val_acc: 0.9100\n",
      "Epoch 429/500\n",
      "48/48 [==============================] - 1s 15ms/step - loss: 0.4367 - acc: 0.8648 - val_loss: 0.3209 - val_acc: 0.9027\n",
      "Epoch 430/500\n",
      "48/48 [==============================] - 1s 16ms/step - loss: 0.4333 - acc: 0.8658 - val_loss: 0.3307 - val_acc: 0.9056\n",
      "Epoch 431/500\n",
      "48/48 [==============================] - 1s 16ms/step - loss: 0.4394 - acc: 0.8605 - val_loss: 0.3150 - val_acc: 0.9049\n",
      "Epoch 432/500\n",
      "48/48 [==============================] - 1s 16ms/step - loss: 0.4383 - acc: 0.8628 - val_loss: 0.3488 - val_acc: 0.8886\n",
      "Epoch 433/500\n",
      "48/48 [==============================] - 1s 16ms/step - loss: 0.4366 - acc: 0.8622 - val_loss: 0.3269 - val_acc: 0.9034\n",
      "Epoch 434/500\n",
      "48/48 [==============================] - 1s 17ms/step - loss: 0.4411 - acc: 0.8625 - val_loss: 0.3246 - val_acc: 0.9012\n",
      "Epoch 435/500\n",
      "48/48 [==============================] - 1s 16ms/step - loss: 0.4400 - acc: 0.8636 - val_loss: 0.3331 - val_acc: 0.8931\n",
      "Epoch 436/500\n",
      "48/48 [==============================] - 1s 18ms/step - loss: 0.4301 - acc: 0.8626 - val_loss: 0.3418 - val_acc: 0.8938\n",
      "Epoch 437/500\n",
      "48/48 [==============================] - 1s 18ms/step - loss: 0.4342 - acc: 0.8657 - val_loss: 0.3392 - val_acc: 0.8982\n",
      "Epoch 438/500\n",
      "48/48 [==============================] - 1s 15ms/step - loss: 0.4398 - acc: 0.8617 - val_loss: 0.3412 - val_acc: 0.8894\n",
      "Epoch 439/500\n",
      "48/48 [==============================] - 1s 16ms/step - loss: 0.4394 - acc: 0.8605 - val_loss: 0.3223 - val_acc: 0.8916\n",
      "Epoch 440/500\n",
      "48/48 [==============================] - 1s 15ms/step - loss: 0.4281 - acc: 0.8679 - val_loss: 0.3375 - val_acc: 0.9004\n",
      "Epoch 441/500\n",
      "48/48 [==============================] - 1s 17ms/step - loss: 0.4270 - acc: 0.8650 - val_loss: 0.3267 - val_acc: 0.8975\n",
      "Epoch 442/500\n",
      "48/48 [==============================] - 1s 15ms/step - loss: 0.4315 - acc: 0.8631 - val_loss: 0.3252 - val_acc: 0.9063\n",
      "Epoch 443/500\n",
      "48/48 [==============================] - 1s 17ms/step - loss: 0.4356 - acc: 0.8654 - val_loss: 0.3274 - val_acc: 0.8990\n",
      "Epoch 444/500\n",
      "48/48 [==============================] - 1s 14ms/step - loss: 0.4371 - acc: 0.8650 - val_loss: 0.3405 - val_acc: 0.8997\n",
      "Epoch 445/500\n",
      "48/48 [==============================] - 1s 16ms/step - loss: 0.4271 - acc: 0.8672 - val_loss: 0.3032 - val_acc: 0.9108\n",
      "Epoch 446/500\n",
      "48/48 [==============================] - 1s 14ms/step - loss: 0.4287 - acc: 0.8661 - val_loss: 0.3271 - val_acc: 0.9063\n",
      "Epoch 447/500\n",
      "48/48 [==============================] - 1s 15ms/step - loss: 0.4289 - acc: 0.8662 - val_loss: 0.3414 - val_acc: 0.9012\n",
      "Epoch 448/500\n",
      "48/48 [==============================] - 1s 15ms/step - loss: 0.4328 - acc: 0.8646 - val_loss: 0.3229 - val_acc: 0.9078\n",
      "Epoch 449/500\n",
      "48/48 [==============================] - 1s 15ms/step - loss: 0.4314 - acc: 0.8663 - val_loss: 0.3334 - val_acc: 0.8953\n",
      "Epoch 450/500\n",
      "48/48 [==============================] - 1s 14ms/step - loss: 0.4342 - acc: 0.8604 - val_loss: 0.3379 - val_acc: 0.9019\n",
      "Epoch 451/500\n",
      "48/48 [==============================] - 1s 15ms/step - loss: 0.4284 - acc: 0.8648 - val_loss: 0.3275 - val_acc: 0.9041\n",
      "Epoch 452/500\n",
      "48/48 [==============================] - 1s 14ms/step - loss: 0.4294 - acc: 0.8663 - val_loss: 0.3217 - val_acc: 0.9063\n",
      "Epoch 453/500\n",
      "48/48 [==============================] - 1s 15ms/step - loss: 0.4238 - acc: 0.8687 - val_loss: 0.3297 - val_acc: 0.8990\n",
      "Epoch 454/500\n",
      "48/48 [==============================] - 1s 15ms/step - loss: 0.4263 - acc: 0.8675 - val_loss: 0.3409 - val_acc: 0.8997\n",
      "Epoch 455/500\n",
      "48/48 [==============================] - 1s 15ms/step - loss: 0.4329 - acc: 0.8629 - val_loss: 0.3251 - val_acc: 0.8982\n",
      "Epoch 456/500\n",
      "48/48 [==============================] - 1s 15ms/step - loss: 0.4214 - acc: 0.8703 - val_loss: 0.3507 - val_acc: 0.8916\n",
      "Epoch 457/500\n",
      "48/48 [==============================] - 1s 16ms/step - loss: 0.4235 - acc: 0.8672 - val_loss: 0.3414 - val_acc: 0.9004\n",
      "Epoch 458/500\n",
      "48/48 [==============================] - 1s 15ms/step - loss: 0.4191 - acc: 0.8690 - val_loss: 0.3525 - val_acc: 0.8931\n",
      "Epoch 459/500\n",
      "48/48 [==============================] - 1s 16ms/step - loss: 0.4124 - acc: 0.8743 - val_loss: 0.3504 - val_acc: 0.8968\n",
      "Epoch 460/500\n",
      "48/48 [==============================] - 1s 15ms/step - loss: 0.4221 - acc: 0.8652 - val_loss: 0.3426 - val_acc: 0.9027\n",
      "Epoch 461/500\n",
      "48/48 [==============================] - 1s 15ms/step - loss: 0.4099 - acc: 0.8732 - val_loss: 0.3702 - val_acc: 0.8923\n",
      "Epoch 462/500\n",
      "48/48 [==============================] - 1s 16ms/step - loss: 0.4144 - acc: 0.8686 - val_loss: 0.3309 - val_acc: 0.9019\n",
      "Epoch 463/500\n",
      "48/48 [==============================] - 1s 15ms/step - loss: 0.4304 - acc: 0.8661 - val_loss: 0.3254 - val_acc: 0.9093\n",
      "Epoch 464/500\n",
      "48/48 [==============================] - 1s 15ms/step - loss: 0.4217 - acc: 0.8695 - val_loss: 0.3531 - val_acc: 0.8931\n",
      "Epoch 465/500\n",
      "48/48 [==============================] - 1s 17ms/step - loss: 0.4223 - acc: 0.8704 - val_loss: 0.3602 - val_acc: 0.8901\n",
      "Epoch 466/500\n",
      "48/48 [==============================] - 1s 16ms/step - loss: 0.4075 - acc: 0.8720 - val_loss: 0.3224 - val_acc: 0.9145\n",
      "Epoch 467/500\n",
      "48/48 [==============================] - 1s 15ms/step - loss: 0.4145 - acc: 0.8720 - val_loss: 0.3489 - val_acc: 0.8938\n",
      "Epoch 468/500\n",
      "48/48 [==============================] - 1s 17ms/step - loss: 0.4169 - acc: 0.8730 - val_loss: 0.3279 - val_acc: 0.8990\n",
      "Epoch 469/500\n",
      "48/48 [==============================] - 1s 16ms/step - loss: 0.4260 - acc: 0.8667 - val_loss: 0.3365 - val_acc: 0.8982\n",
      "Epoch 470/500\n",
      "48/48 [==============================] - 1s 16ms/step - loss: 0.4194 - acc: 0.8694 - val_loss: 0.3594 - val_acc: 0.8886\n",
      "Epoch 471/500\n",
      "48/48 [==============================] - 1s 16ms/step - loss: 0.4164 - acc: 0.8684 - val_loss: 0.3365 - val_acc: 0.9041\n",
      "Epoch 472/500\n",
      "48/48 [==============================] - 1s 18ms/step - loss: 0.4138 - acc: 0.8698 - val_loss: 0.3597 - val_acc: 0.9012\n",
      "Epoch 473/500\n",
      "48/48 [==============================] - 1s 17ms/step - loss: 0.4124 - acc: 0.8718 - val_loss: 0.3348 - val_acc: 0.9049\n",
      "Epoch 474/500\n",
      "48/48 [==============================] - 1s 17ms/step - loss: 0.4160 - acc: 0.8712 - val_loss: 0.3753 - val_acc: 0.8909\n",
      "Epoch 475/500\n",
      "48/48 [==============================] - 1s 16ms/step - loss: 0.4187 - acc: 0.8689 - val_loss: 0.3544 - val_acc: 0.9012\n",
      "Epoch 476/500\n",
      "48/48 [==============================] - 1s 17ms/step - loss: 0.4177 - acc: 0.8718 - val_loss: 0.3370 - val_acc: 0.9056\n",
      "Epoch 477/500\n",
      "48/48 [==============================] - 1s 16ms/step - loss: 0.4068 - acc: 0.8735 - val_loss: 0.3567 - val_acc: 0.8901\n",
      "Epoch 478/500\n",
      "48/48 [==============================] - 1s 17ms/step - loss: 0.4097 - acc: 0.8707 - val_loss: 0.3547 - val_acc: 0.8953\n",
      "Epoch 479/500\n",
      "48/48 [==============================] - 1s 18ms/step - loss: 0.4098 - acc: 0.8709 - val_loss: 0.3935 - val_acc: 0.8916\n",
      "Epoch 480/500\n",
      "48/48 [==============================] - 1s 17ms/step - loss: 0.4183 - acc: 0.8725 - val_loss: 0.3668 - val_acc: 0.8901\n",
      "Epoch 481/500\n",
      "48/48 [==============================] - 1s 19ms/step - loss: 0.4146 - acc: 0.8742 - val_loss: 0.3519 - val_acc: 0.8931\n",
      "Epoch 482/500\n",
      "48/48 [==============================] - 1s 15ms/step - loss: 0.4099 - acc: 0.8742 - val_loss: 0.3942 - val_acc: 0.8813\n",
      "Epoch 483/500\n",
      "48/48 [==============================] - 1s 18ms/step - loss: 0.4141 - acc: 0.8736 - val_loss: 0.3384 - val_acc: 0.8945\n",
      "Epoch 484/500\n",
      "48/48 [==============================] - 1s 17ms/step - loss: 0.4063 - acc: 0.8733 - val_loss: 0.3573 - val_acc: 0.8923\n",
      "Epoch 485/500\n",
      "48/48 [==============================] - 1s 15ms/step - loss: 0.4018 - acc: 0.8722 - val_loss: 0.3263 - val_acc: 0.9041\n",
      "Epoch 486/500\n",
      "48/48 [==============================] - 1s 15ms/step - loss: 0.4127 - acc: 0.8718 - val_loss: 0.3284 - val_acc: 0.9041\n",
      "Epoch 487/500\n",
      "48/48 [==============================] - 1s 15ms/step - loss: 0.4071 - acc: 0.8735 - val_loss: 0.3560 - val_acc: 0.8938\n",
      "Epoch 488/500\n",
      "48/48 [==============================] - 1s 15ms/step - loss: 0.4088 - acc: 0.8718 - val_loss: 0.3404 - val_acc: 0.8909\n",
      "Epoch 489/500\n",
      "48/48 [==============================] - 1s 15ms/step - loss: 0.4039 - acc: 0.8765 - val_loss: 0.3582 - val_acc: 0.8938\n",
      "Epoch 490/500\n",
      "48/48 [==============================] - 1s 14ms/step - loss: 0.4014 - acc: 0.8753 - val_loss: 0.3657 - val_acc: 0.8997\n",
      "Epoch 491/500\n",
      "48/48 [==============================] - 1s 16ms/step - loss: 0.4066 - acc: 0.8754 - val_loss: 0.3865 - val_acc: 0.8842\n",
      "Epoch 492/500\n",
      "48/48 [==============================] - 1s 15ms/step - loss: 0.4083 - acc: 0.8747 - val_loss: 0.3641 - val_acc: 0.8909\n",
      "Epoch 493/500\n",
      "48/48 [==============================] - 1s 15ms/step - loss: 0.4057 - acc: 0.8703 - val_loss: 0.3365 - val_acc: 0.9012\n",
      "Epoch 494/500\n",
      "48/48 [==============================] - 1s 16ms/step - loss: 0.4037 - acc: 0.8749 - val_loss: 0.3130 - val_acc: 0.9152\n",
      "Epoch 495/500\n",
      "48/48 [==============================] - 1s 14ms/step - loss: 0.4108 - acc: 0.8705 - val_loss: 0.3247 - val_acc: 0.9027\n",
      "Epoch 496/500\n",
      "48/48 [==============================] - 1s 14ms/step - loss: 0.4000 - acc: 0.8746 - val_loss: 0.3521 - val_acc: 0.9012\n",
      "Epoch 497/500\n",
      "48/48 [==============================] - 1s 15ms/step - loss: 0.3936 - acc: 0.8786 - val_loss: 0.3695 - val_acc: 0.8916\n",
      "Epoch 498/500\n",
      "48/48 [==============================] - 1s 15ms/step - loss: 0.4053 - acc: 0.8765 - val_loss: 0.3529 - val_acc: 0.9034\n",
      "Epoch 499/500\n",
      "48/48 [==============================] - 1s 16ms/step - loss: 0.4032 - acc: 0.8755 - val_loss: 0.3495 - val_acc: 0.8997\n",
      "Epoch 500/500\n",
      "48/48 [==============================] - 1s 15ms/step - loss: 0.3851 - acc: 0.8795 - val_loss: 0.3461 - val_acc: 0.9019\n",
      "103/103 [==============================] - 0s 2ms/step - loss: 0.5334 - acc: 0.8586\n"
     ]
    },
    {
     "data": {
      "text/plain": [
       "[0.533353328704834, 0.8586227893829346]"
      ]
     },
     "execution_count": 103,
     "metadata": {},
     "output_type": "execute_result"
    },
    {
     "data": {
      "image/png": "[encoded data removed]",
      "text/plain": [
       "<Figure size 640x480 with 1 Axes>"
      ]
     },
     "metadata": {},
     "output_type": "display_data"
    }
   ],
   "source": [
    "def lstm_model(X_train, y_train, epochs, batch_size, optimizer):\n",
    "    model = keras.Sequential()\n",
    "    model.add(\n",
    "        keras.layers.Bidirectional(\n",
    "        keras.layers.LSTM(\n",
    "            units=32,\n",
    "            input_shape=[X_train.shape[1], X_train.shape[2]]\n",
    "        )\n",
    "        )\n",
    "    )\n",
    "    model.add(keras.layers.Dropout(rate=0.5))\n",
    "    model.add(keras.layers.Dense(units=40, activation='relu'))\n",
    "    model.add(keras.layers.Dropout(rate=0.3))\n",
    "    model.add(keras.layers.Dense(units=40, activation='relu'))\n",
    "    model.add(keras.layers.Dropout(rate=0.3))\n",
    "    model.add(keras.layers.Dense(units=40, activation='relu'))\n",
    "    model.add(keras.layers.Dropout(rate=0.3))\n",
    "    model.add(keras.layers.Dense(units=40, activation='relu'))\n",
    "    model.add(keras.layers.Dense(y_train.shape[1], activation='softmax'))\n",
    "\n",
    "    model.compile(\n",
    "        loss='categorical_crossentropy',\n",
    "        optimizer=optimizer,\n",
    "        metrics=['acc']\n",
    "    )\n",
    "\n",
    "    history = model.fit(\n",
    "        X_train, y_train,\n",
    "        epochs=epochs,\n",
    "        batch_size=batch_size,\n",
    "        validation_split=0.1,\n",
    "        shuffle=True\n",
    "    )\n",
    "    \n",
    "    plt.plot(history.history['loss'], label='train')\n",
    "    plt.plot(history.history['val_loss'], label='test')\n",
    "    plt.legend();\n",
    "\n",
    "    return model\n",
    "\n",
    "model = lstm_model(X_train, y_train, epochs=500, batch_size=256, optimizer='sgd')\n",
    "model.evaluate(X_test, y_test)"
   ]
  },
  {
   "cell_type": "code",
   "execution_count": 526,
   "metadata": {},
   "outputs": [
    {
     "name": "stdout",
     "output_type": "stream",
     "text": [
      "92/92 [==============================] - 0s 3ms/step - loss: 0.7238 - acc: 0.7850\n",
      "92/92 [==============================] - 1s 2ms/step\n"
     ]
    }
   ],
   "source": [
    "model.evaluate(X_test, y_test)\n",
    "y_pred = model.predict(X_test)"
   ]
  },
  {
   "cell_type": "code",
   "execution_count": 71,
   "metadata": {},
   "outputs": [
    {
     "data": {
      "application/vnd.plotly.v1+json": {
       "config": {
        "plotlyServerURL": "https://plot.ly"
       },
       "data": [
        {
         "colorscale": [
          [
           0,
           "rgb(247,251,255)"
          ],
          [
           0.125,
           "rgb(222,235,247)"
          ],
          [
           0.25,
           "rgb(198,219,239)"
          ],
          [
           0.375,
           "rgb(158,202,225)"
          ],
          [
           0.5,
           "rgb(107,174,214)"
          ],
          [
           0.625,
           "rgb(66,146,198)"
          ],
          [
           0.75,
           "rgb(33,113,181)"
          ],
          [
           0.875,
           "rgb(8,81,156)"
          ],
          [
           1,
           "rgb(8,48,107)"
          ]
         ],
         "type": "heatmap",
         "x": [
          "Abbiegen_links",
          "Abbiegen_rechts",
          "Anfahren_aus_Stand",
          "Bremsen_zielgerichtet",
          "Fahren_kontinuierlich",
          "Kurve_links",
          "Kurve_rechts",
          "Stand"
         ],
         "y": [
          "Abbiegen_links",
          "Abbiegen_rechts",
          "Anfahren_aus_Stand",
          "Bremsen_zielgerichtet",
          "Fahren_kontinuierlich",
          "Kurve_links",
          "Kurve_rechts",
          "Stand"
         ],
         "z": [
          [
           0.7318840579710145,
           0,
           0.014492753623188406,
           0.021739130434782608,
           0.10144927536231885,
           0.13043478260869565,
           0,
           0
          ],
          [
           0,
           0.8314606741573034,
           0.0449438202247191,
           0,
           0.033707865168539325,
           0,
           0.0898876404494382,
           0
          ],
          [
           0.046153846153846156,
           0.02564102564102564,
           0.8512820512820513,
           0.015384615384615385,
           0.005128205128205128,
           0,
           0,
           0.05641025641025641
          ],
          [
           0.008403361344537815,
           0,
           0.058823529411764705,
           0.7703081232492998,
           0.11204481792717087,
           0,
           0,
           0.05042016806722689
          ],
          [
           0.003353828954723309,
           0.002794857462269424,
           0.003912800447177194,
           0.020122973728339856,
           0.9401900503074343,
           0.013974287311347122,
           0.015651201788708775,
           0
          ],
          [
           0.004329004329004329,
           0,
           0,
           0,
           0.17316017316017315,
           0.7402597402597403,
           0.08225108225108226,
           0
          ],
          [
           0,
           0.017361111111111112,
           0.003472222222222222,
           0.017361111111111112,
           0.2604166666666667,
           0,
           0.7013888888888888,
           0
          ],
          [
           0,
           0,
           0.03076923076923077,
           0,
           0,
           0,
           0,
           0.9692307692307692
          ]
         ]
        }
       ],
       "layout": {
        "height": 900,
        "template": {
         "data": {
          "bar": [
           {
            "error_x": {
             "color": "#2a3f5f"
            },
            "error_y": {
             "color": "#2a3f5f"
            },
            "marker": {
             "line": {
              "color": "#E5ECF6",
              "width": 0.5
             },
             "pattern": {
              "fillmode": "overlay",
              "size": 10,
              "solidity": 0.2
             }
            },
            "type": "bar"
           }
          ],
          "barpolar": [
           {
            "marker": {
             "line": {
              "color": "#E5ECF6",
              "width": 0.5
             },
             "pattern": {
              "fillmode": "overlay",
              "size": 10,
              "solidity": 0.2
             }
            },
            "type": "barpolar"
           }
          ],
          "carpet": [
           {
            "aaxis": {
             "endlinecolor": "#2a3f5f",
             "gridcolor": "white",
             "linecolor": "white",
             "minorgridcolor": "white",
             "startlinecolor": "#2a3f5f"
            },
            "baxis": {
             "endlinecolor": "#2a3f5f",
             "gridcolor": "white",
             "linecolor": "white",
             "minorgridcolor": "white",
             "startlinecolor": "#2a3f5f"
            },
            "type": "carpet"
           }
          ],
          "choropleth": [
           {
            "colorbar": {
             "outlinewidth": 0,
             "ticks": ""
            },
            "type": "choropleth"
           }
          ],
          "contour": [
           {
            "colorbar": {
             "outlinewidth": 0,
             "ticks": ""
            },
            "colorscale": [
             [
              0,
              "#0d0887"
             ],
             [
              0.1111111111111111,
              "#46039f"
             ],
             [
              0.2222222222222222,
              "#7201a8"
             ],
             [
              0.3333333333333333,
              "#9c179e"
             ],
             [
              0.4444444444444444,
              "#bd3786"
             ],
             [
              0.5555555555555556,
              "#d8576b"
             ],
             [
              0.6666666666666666,
              "#ed7953"
             ],
             [
              0.7777777777777778,
              "#fb9f3a"
             ],
             [
              0.8888888888888888,
              "#fdca26"
             ],
             [
              1,
              "#f0f921"
             ]
            ],
            "type": "contour"
           }
          ],
          "contourcarpet": [
           {
            "colorbar": {
             "outlinewidth": 0,
             "ticks": ""
            },
            "type": "contourcarpet"
           }
          ],
          "heatmap": [
           {
            "colorbar": {
             "outlinewidth": 0,
             "ticks": ""
            },
            "colorscale": [
             [
              0,
              "#0d0887"
             ],
             [
              0.1111111111111111,
              "#46039f"
             ],
             [
              0.2222222222222222,
              "#7201a8"
             ],
             [
              0.3333333333333333,
              "#9c179e"
             ],
             [
              0.4444444444444444,
              "#bd3786"
             ],
             [
              0.5555555555555556,
              "#d8576b"
             ],
             [
              0.6666666666666666,
              "#ed7953"
             ],
             [
              0.7777777777777778,
              "#fb9f3a"
             ],
             [
              0.8888888888888888,
              "#fdca26"
             ],
             [
              1,
              "#f0f921"
             ]
            ],
            "type": "heatmap"
           }
          ],
          "heatmapgl": [
           {
            "colorbar": {
             "outlinewidth": 0,
             "ticks": ""
            },
            "colorscale": [
             [
              0,
              "#0d0887"
             ],
             [
              0.1111111111111111,
              "#46039f"
             ],
             [
              0.2222222222222222,
              "#7201a8"
             ],
             [
              0.3333333333333333,
              "#9c179e"
             ],
             [
              0.4444444444444444,
              "#bd3786"
             ],
             [
              0.5555555555555556,
              "#d8576b"
             ],
             [
              0.6666666666666666,
              "#ed7953"
             ],
             [
              0.7777777777777778,
              "#fb9f3a"
             ],
             [
              0.8888888888888888,
              "#fdca26"
             ],
             [
              1,
              "#f0f921"
             ]
            ],
            "type": "heatmapgl"
           }
          ],
          "histogram": [
           {
            "marker": {
             "pattern": {
              "fillmode": "overlay",
              "size": 10,
              "solidity": 0.2
             }
            },
            "type": "histogram"
           }
          ],
          "histogram2d": [
           {
            "colorbar": {
             "outlinewidth": 0,
             "ticks": ""
            },
            "colorscale": [
             [
              0,
              "#0d0887"
             ],
             [
              0.1111111111111111,
              "#46039f"
             ],
             [
              0.2222222222222222,
              "#7201a8"
             ],
             [
              0.3333333333333333,
              "#9c179e"
             ],
             [
              0.4444444444444444,
              "#bd3786"
             ],
             [
              0.5555555555555556,
              "#d8576b"
             ],
             [
              0.6666666666666666,
              "#ed7953"
             ],
             [
              0.7777777777777778,
              "#fb9f3a"
             ],
             [
              0.8888888888888888,
              "#fdca26"
             ],
             [
              1,
              "#f0f921"
             ]
            ],
            "type": "histogram2d"
           }
          ],
          "histogram2dcontour": [
           {
            "colorbar": {
             "outlinewidth": 0,
             "ticks": ""
            },
            "colorscale": [
             [
              0,
              "#0d0887"
             ],
             [
              0.1111111111111111,
              "#46039f"
             ],
             [
              0.2222222222222222,
              "#7201a8"
             ],
             [
              0.3333333333333333,
              "#9c179e"
             ],
             [
              0.4444444444444444,
              "#bd3786"
             ],
             [
              0.5555555555555556,
              "#d8576b"
             ],
             [
              0.6666666666666666,
              "#ed7953"
             ],
             [
              0.7777777777777778,
              "#fb9f3a"
             ],
             [
              0.8888888888888888,
              "#fdca26"
             ],
             [
              1,
              "#f0f921"
             ]
            ],
            "type": "histogram2dcontour"
           }
          ],
          "mesh3d": [
           {
            "colorbar": {
             "outlinewidth": 0,
             "ticks": ""
            },
            "type": "mesh3d"
           }
          ],
          "parcoords": [
           {
            "line": {
             "colorbar": {
              "outlinewidth": 0,
              "ticks": ""
             }
            },
            "type": "parcoords"
           }
          ],
          "pie": [
           {
            "automargin": true,
            "type": "pie"
           }
          ],
          "scatter": [
           {
            "fillpattern": {
             "fillmode": "overlay",
             "size": 10,
             "solidity": 0.2
            },
            "type": "scatter"
           }
          ],
          "scatter3d": [
           {
            "line": {
             "colorbar": {
              "outlinewidth": 0,
              "ticks": ""
             }
            },
            "marker": {
             "colorbar": {
              "outlinewidth": 0,
              "ticks": ""
             }
            },
            "type": "scatter3d"
           }
          ],
          "scattercarpet": [
           {
            "marker": {
             "colorbar": {
              "outlinewidth": 0,
              "ticks": ""
             }
            },
            "type": "scattercarpet"
           }
          ],
          "scattergeo": [
           {
            "marker": {
             "colorbar": {
              "outlinewidth": 0,
              "ticks": ""
             }
            },
            "type": "scattergeo"
           }
          ],
          "scattergl": [
           {
            "marker": {
             "colorbar": {
              "outlinewidth": 0,
              "ticks": ""
             }
            },
            "type": "scattergl"
           }
          ],
          "scattermapbox": [
           {
            "marker": {
             "colorbar": {
              "outlinewidth": 0,
              "ticks": ""
             }
            },
            "type": "scattermapbox"
           }
          ],
          "scatterpolar": [
           {
            "marker": {
             "colorbar": {
              "outlinewidth": 0,
              "ticks": ""
             }
            },
            "type": "scatterpolar"
           }
          ],
          "scatterpolargl": [
           {
            "marker": {
             "colorbar": {
              "outlinewidth": 0,
              "ticks": ""
             }
            },
            "type": "scatterpolargl"
           }
          ],
          "scatterternary": [
           {
            "marker": {
             "colorbar": {
              "outlinewidth": 0,
              "ticks": ""
             }
            },
            "type": "scatterternary"
           }
          ],
          "surface": [
           {
            "colorbar": {
             "outlinewidth": 0,
             "ticks": ""
            },
            "colorscale": [
             [
              0,
              "#0d0887"
             ],
             [
              0.1111111111111111,
              "#46039f"
             ],
             [
              0.2222222222222222,
              "#7201a8"
             ],
             [
              0.3333333333333333,
              "#9c179e"
             ],
             [
              0.4444444444444444,
              "#bd3786"
             ],
             [
              0.5555555555555556,
              "#d8576b"
             ],
             [
              0.6666666666666666,
              "#ed7953"
             ],
             [
              0.7777777777777778,
              "#fb9f3a"
             ],
             [
              0.8888888888888888,
              "#fdca26"
             ],
             [
              1,
              "#f0f921"
             ]
            ],
            "type": "surface"
           }
          ],
          "table": [
           {
            "cells": {
             "fill": {
              "color": "#EBF0F8"
             },
             "line": {
              "color": "white"
             }
            },
            "header": {
             "fill": {
              "color": "#C8D4E3"
             },
             "line": {
              "color": "white"
             }
            },
            "type": "table"
           }
          ]
         },
         "layout": {
          "annotationdefaults": {
           "arrowcolor": "#2a3f5f",
           "arrowhead": 0,
           "arrowwidth": 1
          },
          "autotypenumbers": "strict",
          "coloraxis": {
           "colorbar": {
            "outlinewidth": 0,
            "ticks": ""
           }
          },
          "colorscale": {
           "diverging": [
            [
             0,
             "#8e0152"
            ],
            [
             0.1,
             "#c51b7d"
            ],
            [
             0.2,
             "#de77ae"
            ],
            [
             0.3,
             "#f1b6da"
            ],
            [
             0.4,
             "#fde0ef"
            ],
            [
             0.5,
             "#f7f7f7"
            ],
            [
             0.6,
             "#e6f5d0"
            ],
            [
             0.7,
             "#b8e186"
            ],
            [
             0.8,
             "#7fbc41"
            ],
            [
             0.9,
             "#4d9221"
            ],
            [
             1,
             "#276419"
            ]
           ],
           "sequential": [
            [
             0,
             "#0d0887"
            ],
            [
             0.1111111111111111,
             "#46039f"
            ],
            [
             0.2222222222222222,
             "#7201a8"
            ],
            [
             0.3333333333333333,
             "#9c179e"
            ],
            [
             0.4444444444444444,
             "#bd3786"
            ],
            [
             0.5555555555555556,
             "#d8576b"
            ],
            [
             0.6666666666666666,
             "#ed7953"
            ],
            [
             0.7777777777777778,
             "#fb9f3a"
            ],
            [
             0.8888888888888888,
             "#fdca26"
            ],
            [
             1,
             "#f0f921"
            ]
           ],
           "sequentialminus": [
            [
             0,
             "#0d0887"
            ],
            [
             0.1111111111111111,
             "#46039f"
            ],
            [
             0.2222222222222222,
             "#7201a8"
            ],
            [
             0.3333333333333333,
             "#9c179e"
            ],
            [
             0.4444444444444444,
             "#bd3786"
            ],
            [
             0.5555555555555556,
             "#d8576b"
            ],
            [
             0.6666666666666666,
             "#ed7953"
            ],
            [
             0.7777777777777778,
             "#fb9f3a"
            ],
            [
             0.8888888888888888,
             "#fdca26"
            ],
            [
             1,
             "#f0f921"
            ]
           ]
          },
          "colorway": [
           "#636efa",
           "#EF553B",
           "#00cc96",
           "#ab63fa",
           "#FFA15A",
           "#19d3f3",
           "#FF6692",
           "#B6E880",
           "#FF97FF",
           "#FECB52"
          ],
          "font": {
           "color": "#2a3f5f"
          },
          "geo": {
           "bgcolor": "white",
           "lakecolor": "white",
           "landcolor": "#E5ECF6",
           "showlakes": true,
           "showland": true,
           "subunitcolor": "white"
          },
          "hoverlabel": {
           "align": "left"
          },
          "hovermode": "closest",
          "mapbox": {
           "style": "light"
          },
          "paper_bgcolor": "white",
          "plot_bgcolor": "#E5ECF6",
          "polar": {
           "angularaxis": {
            "gridcolor": "white",
            "linecolor": "white",
            "ticks": ""
           },
           "bgcolor": "#E5ECF6",
           "radialaxis": {
            "gridcolor": "white",
            "linecolor": "white",
            "ticks": ""
           }
          },
          "scene": {
           "xaxis": {
            "backgroundcolor": "#E5ECF6",
            "gridcolor": "white",
            "gridwidth": 2,
            "linecolor": "white",
            "showbackground": true,
            "ticks": "",
            "zerolinecolor": "white"
           },
           "yaxis": {
            "backgroundcolor": "#E5ECF6",
            "gridcolor": "white",
            "gridwidth": 2,
            "linecolor": "white",
            "showbackground": true,
            "ticks": "",
            "zerolinecolor": "white"
           },
           "zaxis": {
            "backgroundcolor": "#E5ECF6",
            "gridcolor": "white",
            "gridwidth": 2,
            "linecolor": "white",
            "showbackground": true,
            "ticks": "",
            "zerolinecolor": "white"
           }
          },
          "shapedefaults": {
           "line": {
            "color": "#2a3f5f"
           }
          },
          "ternary": {
           "aaxis": {
            "gridcolor": "white",
            "linecolor": "white",
            "ticks": ""
           },
           "baxis": {
            "gridcolor": "white",
            "linecolor": "white",
            "ticks": ""
           },
           "bgcolor": "#E5ECF6",
           "caxis": {
            "gridcolor": "white",
            "linecolor": "white",
            "ticks": ""
           }
          },
          "title": {
           "x": 0.05
          },
          "xaxis": {
           "automargin": true,
           "gridcolor": "white",
           "linecolor": "white",
           "ticks": "",
           "title": {
            "standoff": 15
           },
           "zerolinecolor": "white",
           "zerolinewidth": 2
          },
          "yaxis": {
           "automargin": true,
           "gridcolor": "white",
           "linecolor": "white",
           "ticks": "",
           "title": {
            "standoff": 15
           },
           "zerolinecolor": "white",
           "zerolinewidth": 2
          }
         }
        },
        "title": {
         "text": "Confusion Matrix with relative values for each row / actual classes"
        },
        "width": 900,
        "xaxis": {
         "title": {
          "text": "Predicted"
         }
        },
        "yaxis": {
         "categoryorder": "category descending",
         "title": {
          "text": "Actual"
         }
        }
       }
      }
     },
     "metadata": {},
     "output_type": "display_data"
    }
   ],
   "source": [
    "def relativeCorrect(array):\n",
    "    return array/sum(array)\n",
    "\n",
    "def confusion_matrix_relative(y_test, y_pred):\n",
    "\n",
    "    cm = confusion_matrix(enc.inverse_transform(y_test), enc.inverse_transform(y_pred))\n",
    "    cm_relative = np.apply_along_axis(relativeCorrect, 1, cm)\n",
    "    heatmap = go.Heatmap(z=cm_relative, x=enc.categories_[0], y=enc.categories_[0],\n",
    "                         colorscale='Blues')\n",
    "\n",
    "\n",
    "    # create the layout\n",
    "    layout = go.Layout(title='Confusion Matrix with relative values for each row / actual classes')\n",
    "\n",
    "    # create the figure\n",
    "    fig = go.Figure(data=[heatmap], layout=layout)\n",
    "\n",
    "    fig.update_layout(yaxis = dict(categoryorder = 'category descending'))\n",
    "    fig.update_yaxes(title_text=\"Actual\")\n",
    "    fig.update_xaxes(title_text=\"Predicted\")\n",
    "\n",
    "    fig.layout.height = 900\n",
    "    fig.layout.width = 900\n",
    "    # show the figure\n",
    "    fig.show()\n",
    "\n",
    "confusion_matrix_relative(y_test, y_pred)"
   ]
  },
  {
   "cell_type": "code",
   "execution_count": 506,
   "metadata": {},
   "outputs": [
    {
     "ename": "SyntaxError",
     "evalue": "cannot assign to literal (3849225211.py, line 4)",
     "output_type": "error",
     "traceback": [
      "\u001b[0;36m  Cell \u001b[0;32mIn[506], line 4\u001b[0;36m\u001b[0m\n\u001b[0;31m    text=cm[::-1], texttemplate=\"%{text}\", textfont={\"size\": 10}\u001b[0m\n\u001b[0m                                ^\u001b[0m\n\u001b[0;31mSyntaxError\u001b[0m\u001b[0;31m:\u001b[0m cannot assign to literal\n"
     ]
    }
   ],
   "source": [
    "cm = confusion_matrix(enc.inverse_transform(y_test), enc.inverse_transform(y_pred))\n",
    "cm[::-1]\n",
    "\n",
    "text=cm[::-1], texttemplate=\"%{text}\", textfont={\"size\": 10}"
   ]
  },
  {
   "cell_type": "code",
   "execution_count": null,
   "metadata": {},
   "outputs": [],
   "source": []
  },
  {
   "cell_type": "code",
   "execution_count": null,
   "metadata": {},
   "outputs": [
    {
     "name": "stdout",
     "output_type": "stream",
     "text": [
      "135/135 [==============================] - 3s 19ms/step - loss: 0.3774 - acc: 0.9257\n"
     ]
    },
    {
     "data": {
      "text/plain": [
       "[0.3774121403694153, 0.9256505370140076]"
      ]
     },
     "execution_count": 59,
     "metadata": {},
     "output_type": "execute_result"
    }
   ],
   "source": [
    "model.evaluate(X_test, y_test)"
   ]
  },
  {
   "cell_type": "code",
   "execution_count": null,
   "metadata": {},
   "outputs": [
    {
     "name": "stdout",
     "output_type": "stream",
     "text": [
      "135/135 [==============================] - 3s 16ms/step\n"
     ]
    }
   ],
   "source": [
    "y_pred = model.predict(X_test)"
   ]
  },
  {
   "cell_type": "code",
   "execution_count": null,
   "metadata": {},
   "outputs": [
    {
     "data": {
      "application/vnd.plotly.v1+json": {
       "config": {
        "plotlyServerURL": "https://plot.ly"
       },
       "data": [
        {
         "colorscale": [
          [
           0,
           "rgb(247,251,255)"
          ],
          [
           0.125,
           "rgb(222,235,247)"
          ],
          [
           0.25,
           "rgb(198,219,239)"
          ],
          [
           0.375,
           "rgb(158,202,225)"
          ],
          [
           0.5,
           "rgb(107,174,214)"
          ],
          [
           0.625,
           "rgb(66,146,198)"
          ],
          [
           0.75,
           "rgb(33,113,181)"
          ],
          [
           0.875,
           "rgb(8,81,156)"
          ],
          [
           1,
           "rgb(8,48,107)"
          ]
         ],
         "type": "heatmap",
         "x": [
          "Abbiegen_links",
          "Abbiegen_rechts",
          "Abfahrt_Verzögerungsstreifen",
          "Anfahren_aus_Stand",
          "Auffahrt_Beschleunigungsstreifen",
          "Beschleunigen_Autobahn",
          "Beschleunigen_Bundesstraße",
          "Beschleunigen_Landstraße",
          "Beschleunigen_Stadtstraße",
          "Bremsen_zielgerichtet",
          "Durchfahren_Kreisverkehr",
          "Durchfahren_ampelloser_Kreuzungen",
          "Fahren_kontinuierlich",
          "Kurve_links",
          "Kurve_rechts",
          "Spurwechsel_links",
          "Spurwechsel_rechts",
          "Stand",
          "Verlangsamen_Autobahn",
          "Verlangsamen_Bundesstraße",
          "Verlangsamen_Landstraße",
          "Verlangsamen_Stadtstraße",
          "Überholen"
         ],
         "y": [
          "Abbiegen_links",
          "Abbiegen_rechts",
          "Abfahrt_Verzögerungsstreifen",
          "Anfahren_aus_Stand",
          "Auffahrt_Beschleunigungsstreifen",
          "Beschleunigen_Autobahn",
          "Beschleunigen_Bundesstraße",
          "Beschleunigen_Landstraße",
          "Beschleunigen_Stadtstraße",
          "Bremsen_zielgerichtet",
          "Durchfahren_Kreisverkehr",
          "Durchfahren_ampelloser_Kreuzungen",
          "Fahren_kontinuierlich",
          "Kurve_links",
          "Kurve_rechts",
          "Spurwechsel_links",
          "Spurwechsel_rechts",
          "Stand",
          "Verlangsamen_Autobahn",
          "Verlangsamen_Bundesstraße",
          "Verlangsamen_Landstraße",
          "Verlangsamen_Stadtstraße",
          "Überholen"
         ],
         "z": [
          [
           214,
           0,
           0,
           6,
           0,
           0,
           0,
           0,
           1,
           2,
           0,
           0,
           0,
           1,
           0,
           1,
           1,
           2,
           0,
           0,
           0,
           0,
           0
          ],
          [
           0,
           166,
           0,
           1,
           0,
           0,
           2,
           0,
           2,
           0,
           0,
           0,
           2,
           0,
           0,
           1,
           0,
           1,
           0,
           0,
           0,
           0,
           0
          ],
          [
           0,
           0,
           62,
           0,
           0,
           0,
           0,
           0,
           0,
           0,
           0,
           0,
           0,
           0,
           0,
           0,
           3,
           0,
           0,
           0,
           1,
           0,
           0
          ],
          [
           0,
           2,
           0,
           228,
           0,
           0,
           0,
           0,
           0,
           1,
           0,
           1,
           0,
           0,
           0,
           1,
           2,
           7,
           0,
           0,
           0,
           0,
           0
          ],
          [
           0,
           0,
           0,
           0,
           7,
           0,
           0,
           0,
           0,
           0,
           0,
           0,
           2,
           0,
           0,
           0,
           0,
           0,
           0,
           0,
           0,
           0,
           0
          ],
          [
           0,
           0,
           0,
           0,
           0,
           57,
           0,
           0,
           0,
           0,
           0,
           0,
           1,
           0,
           0,
           0,
           0,
           0,
           0,
           0,
           0,
           0,
           0
          ],
          [
           0,
           0,
           0,
           1,
           0,
           0,
           110,
           0,
           0,
           2,
           0,
           0,
           9,
           0,
           0,
           1,
           0,
           0,
           0,
           0,
           0,
           0,
           0
          ],
          [
           0,
           0,
           0,
           0,
           0,
           0,
           0,
           97,
           1,
           0,
           0,
           0,
           4,
           1,
           0,
           0,
           0,
           0,
           0,
           0,
           2,
           0,
           0
          ],
          [
           5,
           0,
           0,
           5,
           0,
           0,
           5,
           0,
           256,
           5,
           0,
           0,
           12,
           1,
           0,
           0,
           1,
           0,
           0,
           0,
           0,
           3,
           0
          ],
          [
           1,
           0,
           0,
           4,
           0,
           0,
           1,
           0,
           4,
           420,
           0,
           0,
           5,
           2,
           2,
           2,
           0,
           7,
           0,
           2,
           0,
           1,
           0
          ],
          [
           0,
           0,
           0,
           1,
           0,
           0,
           0,
           0,
           0,
           0,
           57,
           0,
           0,
           0,
           2,
           0,
           0,
           0,
           0,
           0,
           0,
           0,
           0
          ],
          [
           0,
           0,
           0,
           0,
           0,
           0,
           0,
           1,
           0,
           0,
           0,
           64,
           0,
           0,
           0,
           0,
           0,
           0,
           0,
           0,
           0,
           0,
           0
          ],
          [
           2,
           2,
           0,
           1,
           0,
           1,
           2,
           2,
           8,
           6,
           0,
           0,
           945,
           9,
           2,
           9,
           4,
           0,
           1,
           6,
           1,
           12,
           1
          ],
          [
           0,
           1,
           0,
           1,
           0,
           0,
           0,
           0,
           0,
           1,
           1,
           0,
           8,
           203,
           4,
           0,
           0,
           0,
           0,
           0,
           1,
           0,
           0
          ],
          [
           2,
           2,
           1,
           0,
           0,
           0,
           0,
           1,
           0,
           0,
           0,
           0,
           7,
           2,
           256,
           0,
           0,
           0,
           1,
           0,
           0,
           0,
           0
          ],
          [
           0,
           0,
           0,
           0,
           2,
           1,
           1,
           0,
           0,
           3,
           0,
           0,
           5,
           1,
           0,
           100,
           0,
           0,
           0,
           0,
           0,
           0,
           1
          ],
          [
           0,
           0,
           0,
           0,
           0,
           1,
           2,
           0,
           1,
           0,
           0,
           0,
           7,
           0,
           0,
           0,
           70,
           0,
           0,
           1,
           0,
           0,
           0
          ],
          [
           0,
           0,
           0,
           3,
           0,
           0,
           0,
           0,
           0,
           13,
           0,
           0,
           0,
           0,
           0,
           0,
           0,
           343,
           0,
           0,
           0,
           0,
           0
          ],
          [
           0,
           0,
           0,
           0,
           0,
           0,
           0,
           0,
           0,
           0,
           0,
           0,
           6,
           0,
           1,
           0,
           3,
           0,
           59,
           0,
           0,
           0,
           2
          ],
          [
           1,
           0,
           0,
           0,
           0,
           0,
           0,
           0,
           0,
           2,
           0,
           0,
           5,
           0,
           1,
           0,
           0,
           0,
           0,
           100,
           0,
           1,
           0
          ],
          [
           0,
           0,
           0,
           0,
           0,
           0,
           0,
           0,
           0,
           0,
           0,
           0,
           3,
           1,
           1,
           0,
           0,
           0,
           0,
           0,
           55,
           1,
           0
          ],
          [
           0,
           0,
           0,
           0,
           0,
           0,
           0,
           0,
           2,
           0,
           0,
           0,
           7,
           1,
           0,
           0,
           0,
           0,
           0,
           0,
           0,
           85,
           0
          ],
          [
           0,
           0,
           0,
           0,
           0,
           0,
           0,
           0,
           0,
           0,
           0,
           0,
           1,
           0,
           0,
           0,
           0,
           0,
           0,
           0,
           0,
           0,
           30
          ]
         ]
        }
       ],
       "layout": {
        "height": 900,
        "template": {
         "data": {
          "bar": [
           {
            "error_x": {
             "color": "#2a3f5f"
            },
            "error_y": {
             "color": "#2a3f5f"
            },
            "marker": {
             "line": {
              "color": "#E5ECF6",
              "width": 0.5
             },
             "pattern": {
              "fillmode": "overlay",
              "size": 10,
              "solidity": 0.2
             }
            },
            "type": "bar"
           }
          ],
          "barpolar": [
           {
            "marker": {
             "line": {
              "color": "#E5ECF6",
              "width": 0.5
             },
             "pattern": {
              "fillmode": "overlay",
              "size": 10,
              "solidity": 0.2
             }
            },
            "type": "barpolar"
           }
          ],
          "carpet": [
           {
            "aaxis": {
             "endlinecolor": "#2a3f5f",
             "gridcolor": "white",
             "linecolor": "white",
             "minorgridcolor": "white",
             "startlinecolor": "#2a3f5f"
            },
            "baxis": {
             "endlinecolor": "#2a3f5f",
             "gridcolor": "white",
             "linecolor": "white",
             "minorgridcolor": "white",
             "startlinecolor": "#2a3f5f"
            },
            "type": "carpet"
           }
          ],
          "choropleth": [
           {
            "colorbar": {
             "outlinewidth": 0,
             "ticks": ""
            },
            "type": "choropleth"
           }
          ],
          "contour": [
           {
            "colorbar": {
             "outlinewidth": 0,
             "ticks": ""
            },
            "colorscale": [
             [
              0,
              "#0d0887"
             ],
             [
              0.1111111111111111,
              "#46039f"
             ],
             [
              0.2222222222222222,
              "#7201a8"
             ],
             [
              0.3333333333333333,
              "#9c179e"
             ],
             [
              0.4444444444444444,
              "#bd3786"
             ],
             [
              0.5555555555555556,
              "#d8576b"
             ],
             [
              0.6666666666666666,
              "#ed7953"
             ],
             [
              0.7777777777777778,
              "#fb9f3a"
             ],
             [
              0.8888888888888888,
              "#fdca26"
             ],
             [
              1,
              "#f0f921"
             ]
            ],
            "type": "contour"
           }
          ],
          "contourcarpet": [
           {
            "colorbar": {
             "outlinewidth": 0,
             "ticks": ""
            },
            "type": "contourcarpet"
           }
          ],
          "heatmap": [
           {
            "colorbar": {
             "outlinewidth": 0,
             "ticks": ""
            },
            "colorscale": [
             [
              0,
              "#0d0887"
             ],
             [
              0.1111111111111111,
              "#46039f"
             ],
             [
              0.2222222222222222,
              "#7201a8"
             ],
             [
              0.3333333333333333,
              "#9c179e"
             ],
             [
              0.4444444444444444,
              "#bd3786"
             ],
             [
              0.5555555555555556,
              "#d8576b"
             ],
             [
              0.6666666666666666,
              "#ed7953"
             ],
             [
              0.7777777777777778,
              "#fb9f3a"
             ],
             [
              0.8888888888888888,
              "#fdca26"
             ],
             [
              1,
              "#f0f921"
             ]
            ],
            "type": "heatmap"
           }
          ],
          "heatmapgl": [
           {
            "colorbar": {
             "outlinewidth": 0,
             "ticks": ""
            },
            "colorscale": [
             [
              0,
              "#0d0887"
             ],
             [
              0.1111111111111111,
              "#46039f"
             ],
             [
              0.2222222222222222,
              "#7201a8"
             ],
             [
              0.3333333333333333,
              "#9c179e"
             ],
             [
              0.4444444444444444,
              "#bd3786"
             ],
             [
              0.5555555555555556,
              "#d8576b"
             ],
             [
              0.6666666666666666,
              "#ed7953"
             ],
             [
              0.7777777777777778,
              "#fb9f3a"
             ],
             [
              0.8888888888888888,
              "#fdca26"
             ],
             [
              1,
              "#f0f921"
             ]
            ],
            "type": "heatmapgl"
           }
          ],
          "histogram": [
           {
            "marker": {
             "pattern": {
              "fillmode": "overlay",
              "size": 10,
              "solidity": 0.2
             }
            },
            "type": "histogram"
           }
          ],
          "histogram2d": [
           {
            "colorbar": {
             "outlinewidth": 0,
             "ticks": ""
            },
            "colorscale": [
             [
              0,
              "#0d0887"
             ],
             [
              0.1111111111111111,
              "#46039f"
             ],
             [
              0.2222222222222222,
              "#7201a8"
             ],
             [
              0.3333333333333333,
              "#9c179e"
             ],
             [
              0.4444444444444444,
              "#bd3786"
             ],
             [
              0.5555555555555556,
              "#d8576b"
             ],
             [
              0.6666666666666666,
              "#ed7953"
             ],
             [
              0.7777777777777778,
              "#fb9f3a"
             ],
             [
              0.8888888888888888,
              "#fdca26"
             ],
             [
              1,
              "#f0f921"
             ]
            ],
            "type": "histogram2d"
           }
          ],
          "histogram2dcontour": [
           {
            "colorbar": {
             "outlinewidth": 0,
             "ticks": ""
            },
            "colorscale": [
             [
              0,
              "#0d0887"
             ],
             [
              0.1111111111111111,
              "#46039f"
             ],
             [
              0.2222222222222222,
              "#7201a8"
             ],
             [
              0.3333333333333333,
              "#9c179e"
             ],
             [
              0.4444444444444444,
              "#bd3786"
             ],
             [
              0.5555555555555556,
              "#d8576b"
             ],
             [
              0.6666666666666666,
              "#ed7953"
             ],
             [
              0.7777777777777778,
              "#fb9f3a"
             ],
             [
              0.8888888888888888,
              "#fdca26"
             ],
             [
              1,
              "#f0f921"
             ]
            ],
            "type": "histogram2dcontour"
           }
          ],
          "mesh3d": [
           {
            "colorbar": {
             "outlinewidth": 0,
             "ticks": ""
            },
            "type": "mesh3d"
           }
          ],
          "parcoords": [
           {
            "line": {
             "colorbar": {
              "outlinewidth": 0,
              "ticks": ""
             }
            },
            "type": "parcoords"
           }
          ],
          "pie": [
           {
            "automargin": true,
            "type": "pie"
           }
          ],
          "scatter": [
           {
            "fillpattern": {
             "fillmode": "overlay",
             "size": 10,
             "solidity": 0.2
            },
            "type": "scatter"
           }
          ],
          "scatter3d": [
           {
            "line": {
             "colorbar": {
              "outlinewidth": 0,
              "ticks": ""
             }
            },
            "marker": {
             "colorbar": {
              "outlinewidth": 0,
              "ticks": ""
             }
            },
            "type": "scatter3d"
           }
          ],
          "scattercarpet": [
           {
            "marker": {
             "colorbar": {
              "outlinewidth": 0,
              "ticks": ""
             }
            },
            "type": "scattercarpet"
           }
          ],
          "scattergeo": [
           {
            "marker": {
             "colorbar": {
              "outlinewidth": 0,
              "ticks": ""
             }
            },
            "type": "scattergeo"
           }
          ],
          "scattergl": [
           {
            "marker": {
             "colorbar": {
              "outlinewidth": 0,
              "ticks": ""
             }
            },
            "type": "scattergl"
           }
          ],
          "scattermapbox": [
           {
            "marker": {
             "colorbar": {
              "outlinewidth": 0,
              "ticks": ""
             }
            },
            "type": "scattermapbox"
           }
          ],
          "scatterpolar": [
           {
            "marker": {
             "colorbar": {
              "outlinewidth": 0,
              "ticks": ""
             }
            },
            "type": "scatterpolar"
           }
          ],
          "scatterpolargl": [
           {
            "marker": {
             "colorbar": {
              "outlinewidth": 0,
              "ticks": ""
             }
            },
            "type": "scatterpolargl"
           }
          ],
          "scatterternary": [
           {
            "marker": {
             "colorbar": {
              "outlinewidth": 0,
              "ticks": ""
             }
            },
            "type": "scatterternary"
           }
          ],
          "surface": [
           {
            "colorbar": {
             "outlinewidth": 0,
             "ticks": ""
            },
            "colorscale": [
             [
              0,
              "#0d0887"
             ],
             [
              0.1111111111111111,
              "#46039f"
             ],
             [
              0.2222222222222222,
              "#7201a8"
             ],
             [
              0.3333333333333333,
              "#9c179e"
             ],
             [
              0.4444444444444444,
              "#bd3786"
             ],
             [
              0.5555555555555556,
              "#d8576b"
             ],
             [
              0.6666666666666666,
              "#ed7953"
             ],
             [
              0.7777777777777778,
              "#fb9f3a"
             ],
             [
              0.8888888888888888,
              "#fdca26"
             ],
             [
              1,
              "#f0f921"
             ]
            ],
            "type": "surface"
           }
          ],
          "table": [
           {
            "cells": {
             "fill": {
              "color": "#EBF0F8"
             },
             "line": {
              "color": "white"
             }
            },
            "header": {
             "fill": {
              "color": "#C8D4E3"
             },
             "line": {
              "color": "white"
             }
            },
            "type": "table"
           }
          ]
         },
         "layout": {
          "annotationdefaults": {
           "arrowcolor": "#2a3f5f",
           "arrowhead": 0,
           "arrowwidth": 1
          },
          "autotypenumbers": "strict",
          "coloraxis": {
           "colorbar": {
            "outlinewidth": 0,
            "ticks": ""
           }
          },
          "colorscale": {
           "diverging": [
            [
             0,
             "#8e0152"
            ],
            [
             0.1,
             "#c51b7d"
            ],
            [
             0.2,
             "#de77ae"
            ],
            [
             0.3,
             "#f1b6da"
            ],
            [
             0.4,
             "#fde0ef"
            ],
            [
             0.5,
             "#f7f7f7"
            ],
            [
             0.6,
             "#e6f5d0"
            ],
            [
             0.7,
             "#b8e186"
            ],
            [
             0.8,
             "#7fbc41"
            ],
            [
             0.9,
             "#4d9221"
            ],
            [
             1,
             "#276419"
            ]
           ],
           "sequential": [
            [
             0,
             "#0d0887"
            ],
            [
             0.1111111111111111,
             "#46039f"
            ],
            [
             0.2222222222222222,
             "#7201a8"
            ],
            [
             0.3333333333333333,
             "#9c179e"
            ],
            [
             0.4444444444444444,
             "#bd3786"
            ],
            [
             0.5555555555555556,
             "#d8576b"
            ],
            [
             0.6666666666666666,
             "#ed7953"
            ],
            [
             0.7777777777777778,
             "#fb9f3a"
            ],
            [
             0.8888888888888888,
             "#fdca26"
            ],
            [
             1,
             "#f0f921"
            ]
           ],
           "sequentialminus": [
            [
             0,
             "#0d0887"
            ],
            [
             0.1111111111111111,
             "#46039f"
            ],
            [
             0.2222222222222222,
             "#7201a8"
            ],
            [
             0.3333333333333333,
             "#9c179e"
            ],
            [
             0.4444444444444444,
             "#bd3786"
            ],
            [
             0.5555555555555556,
             "#d8576b"
            ],
            [
             0.6666666666666666,
             "#ed7953"
            ],
            [
             0.7777777777777778,
             "#fb9f3a"
            ],
            [
             0.8888888888888888,
             "#fdca26"
            ],
            [
             1,
             "#f0f921"
            ]
           ]
          },
          "colorway": [
           "#636efa",
           "#EF553B",
           "#00cc96",
           "#ab63fa",
           "#FFA15A",
           "#19d3f3",
           "#FF6692",
           "#B6E880",
           "#FF97FF",
           "#FECB52"
          ],
          "font": {
           "color": "#2a3f5f"
          },
          "geo": {
           "bgcolor": "white",
           "lakecolor": "white",
           "landcolor": "#E5ECF6",
           "showlakes": true,
           "showland": true,
           "subunitcolor": "white"
          },
          "hoverlabel": {
           "align": "left"
          },
          "hovermode": "closest",
          "mapbox": {
           "style": "light"
          },
          "paper_bgcolor": "white",
          "plot_bgcolor": "#E5ECF6",
          "polar": {
           "angularaxis": {
            "gridcolor": "white",
            "linecolor": "white",
            "ticks": ""
           },
           "bgcolor": "#E5ECF6",
           "radialaxis": {
            "gridcolor": "white",
            "linecolor": "white",
            "ticks": ""
           }
          },
          "scene": {
           "xaxis": {
            "backgroundcolor": "#E5ECF6",
            "gridcolor": "white",
            "gridwidth": 2,
            "linecolor": "white",
            "showbackground": true,
            "ticks": "",
            "zerolinecolor": "white"
           },
           "yaxis": {
            "backgroundcolor": "#E5ECF6",
            "gridcolor": "white",
            "gridwidth": 2,
            "linecolor": "white",
            "showbackground": true,
            "ticks": "",
            "zerolinecolor": "white"
           },
           "zaxis": {
            "backgroundcolor": "#E5ECF6",
            "gridcolor": "white",
            "gridwidth": 2,
            "linecolor": "white",
            "showbackground": true,
            "ticks": "",
            "zerolinecolor": "white"
           }
          },
          "shapedefaults": {
           "line": {
            "color": "#2a3f5f"
           }
          },
          "ternary": {
           "aaxis": {
            "gridcolor": "white",
            "linecolor": "white",
            "ticks": ""
           },
           "baxis": {
            "gridcolor": "white",
            "linecolor": "white",
            "ticks": ""
           },
           "bgcolor": "#E5ECF6",
           "caxis": {
            "gridcolor": "white",
            "linecolor": "white",
            "ticks": ""
           }
          },
          "title": {
           "x": 0.05
          },
          "xaxis": {
           "automargin": true,
           "gridcolor": "white",
           "linecolor": "white",
           "ticks": "",
           "title": {
            "standoff": 15
           },
           "zerolinecolor": "white",
           "zerolinewidth": 2
          },
          "yaxis": {
           "automargin": true,
           "gridcolor": "white",
           "linecolor": "white",
           "ticks": "",
           "title": {
            "standoff": 15
           },
           "zerolinecolor": "white",
           "zerolinewidth": 2
          }
         }
        },
        "title": {
         "text": "Confusion Matrix"
        },
        "width": 900,
        "xaxis": {
         "title": {
          "text": "Predicted"
         }
        },
        "yaxis": {
         "categoryorder": "category descending",
         "title": {
          "text": "Actual"
         }
        }
       }
      }
     },
     "metadata": {},
     "output_type": "display_data"
    }
   ],
   "source": [
    "\n",
    "cm = confusion_matrix(enc.inverse_transform(y_test), enc.inverse_transform(y_pred))\n",
    "heatmap = go.Heatmap(z=cm, x=enc.categories_[0], y=enc.categories_[0], colorscale='Blues') # FEHLER IRGENDWO\n",
    "\n",
    "# create the layout\n",
    "layout = go.Layout(title='Confusion Matrix')\n",
    "\n",
    "# create the figure\n",
    "fig = go.Figure(data=[heatmap], layout=layout)\n",
    "\n",
    "fig.update_layout(yaxis = dict(categoryorder = 'category descending'))\n",
    "fig.update_yaxes(title_text=\"Actual\")\n",
    "fig.update_xaxes(title_text=\"Predicted\")\n",
    "\n",
    "fig.layout.height = 900\n",
    "fig.layout.width = 900\n",
    "# show the figure\n",
    "fig.show()"
   ]
  },
  {
   "cell_type": "code",
   "execution_count": null,
   "metadata": {},
   "outputs": [],
   "source": [
    "def relativeCorrect(array):\n",
    "    return array/sum(array)\n",
    "\n",
    "def confusion_matrix_relative(y_test, y_pred):\n",
    "\n",
    "    cm = confusion_matrix(enc.inverse_transform(y_test), enc.inverse_transform(y_pred))\n",
    "    \n",
    "\n",
    "    cm_relative = np.apply_along_axis(relativeCorrect, 1, cm)\n",
    "    heatmap = go.Heatmap(z=cm_relative, x=enc.categories_[0], y=enc.categories_[0], colorscale='Blues') # FEHLER IRGENDWO\n",
    "\n",
    "\n",
    "    # create the layout\n",
    "    layout = go.Layout(title='Confusion Matrix with relative values for each row / actual classes')\n",
    "\n",
    "    # create the figure\n",
    "    fig = go.Figure(data=[heatmap], layout=layout)\n",
    "\n",
    "    fig.update_layout(yaxis = dict(categoryorder = 'category descending'))\n",
    "    fig.update_yaxes(title_text=\"Actual\")\n",
    "    fig.update_xaxes(title_text=\"Predicted\")\n",
    "\n",
    "    fig.layout.height = 900\n",
    "    fig.layout.width = 900\n",
    "    # show the figure\n",
    "    fig.show()"
   ]
  },
  {
   "cell_type": "code",
   "execution_count": null,
   "metadata": {},
   "outputs": [],
   "source": [
    "cm[0]/sum(cm[0])"
   ]
  },
  {
   "cell_type": "code",
   "execution_count": null,
   "metadata": {},
   "outputs": [],
   "source": []
  },
  {
   "cell_type": "code",
   "execution_count": null,
   "metadata": {},
   "outputs": [],
   "source": []
  },
  {
   "cell_type": "code",
   "execution_count": null,
   "metadata": {},
   "outputs": [
    {
     "data": {
      "image/png": "[encoded data removed]",
      "text/plain": [
       "<Figure size 1800x1600 with 2 Axes>"
      ]
     },
     "metadata": {},
     "output_type": "display_data"
    }
   ],
   "source": [
    "from sklearn.metrics import confusion_matrix\n",
    "\n",
    "def plot_cm(y_true, y_pred, class_names):\n",
    "  cm = confusion_matrix(y_true, y_pred)\n",
    "  fig, ax = plt.subplots(figsize=(18, 16)) \n",
    "  ax = sns.heatmap(\n",
    "      cm, \n",
    "      annot=True, \n",
    "      fmt=\"d\", \n",
    "      cmap=sns.diverging_palette(220, 20, n=7),\n",
    "      ax=ax\n",
    "  )\n",
    "\n",
    "  plt.ylabel('Actual')\n",
    "  plt.xlabel('Predicted')\n",
    "  ax.set_xticklabels(class_names)\n",
    "  ax.set_yticklabels(class_names)\n",
    "  b, t = plt.ylim() # discover the values for bottom and top\n",
    "  b += 0.5 # Add 0.5 to the bottom\n",
    "  t -= 0.5 # Subtract 0.5 from the top\n",
    "  plt.ylim(b, t) # update the ylim(bottom, top) values\n",
    "  plt.show() # ta-da!\n",
    "\n",
    "plot_cm(\n",
    "  enc.inverse_transform(y_test),\n",
    "  enc.inverse_transform(y_pred),\n",
    "  enc.categories_[0]\n",
    ")"
   ]
  },
  {
   "cell_type": "code",
   "execution_count": null,
   "metadata": {},
   "outputs": [
    {
     "name": "stderr",
     "output_type": "stream",
     "text": [
      "/opt/anaconda3/envs/p3-8-tensorflow04-telematic/lib/python3.8/site-packages/sklearn/base.py:439: UserWarning:\n",
      "\n",
      "X does not have valid feature names, but RobustScaler was fitted with feature names\n",
      "\n",
      "/var/folders/_1/6fqc4jrn1n78r_dr5zwl5ctc0000gn/T/ipykernel_968/4214816868.py:10: SettingWithCopyWarning:\n",
      "\n",
      "\n",
      "A value is trying to be set on a copy of a slice from a DataFrame.\n",
      "Try using .loc[row_indexer,col_indexer] = value instead\n",
      "\n",
      "See the caveats in the documentation: https://pandas.pydata.org/pandas-docs/stable/user_guide/indexing.html#returning-a-view-versus-a-copy\n",
      "\n"
     ]
    }
   ],
   "source": [
    "from sklearn.preprocessing import RobustScaler\n",
    "\n",
    "\n",
    "scale_columns = ['accX', 'accY', 'accZ']\n",
    "\n",
    "scaler = RobustScaler()\n",
    "\n",
    "scaler = scaler.fit(df_p1[scale_columns])\n",
    "\n",
    "df_p1.loc[:, scale_columns] = scaler.transform(\n",
    "  df_p1[scale_columns].to_numpy()\n",
    ")"
   ]
  },
  {
   "cell_type": "code",
   "execution_count": null,
   "metadata": {},
   "outputs": [
    {
     "data": {
      "text/html": [
       "<div>\n",
       "<style scoped>\n",
       "    .dataframe tbody tr th:only-of-type {\n",
       "        vertical-align: middle;\n",
       "    }\n",
       "\n",
       "    .dataframe tbody tr th {\n",
       "        vertical-align: top;\n",
       "    }\n",
       "\n",
       "    .dataframe thead th {\n",
       "        text-align: right;\n",
       "    }\n",
       "</style>\n",
       "<table border=\"1\" class=\"dataframe\">\n",
       "  <thead>\n",
       "    <tr style=\"text-align: right;\">\n",
       "      <th></th>\n",
       "      <th>accX</th>\n",
       "      <th>accY</th>\n",
       "      <th>accZ</th>\n",
       "      <th>gyroX</th>\n",
       "      <th>gyroY</th>\n",
       "      <th>gyroZ</th>\n",
       "      <th>latitude</th>\n",
       "      <th>longitude</th>\n",
       "      <th>altitude</th>\n",
       "      <th>accuracy</th>\n",
       "      <th>speed</th>\n",
       "      <th>section</th>\n",
       "    </tr>\n",
       "  </thead>\n",
       "  <tbody>\n",
       "    <tr>\n",
       "      <th>count</th>\n",
       "      <td>6716.0</td>\n",
       "      <td>6716.0</td>\n",
       "      <td>6716.0</td>\n",
       "      <td>6716.0</td>\n",
       "      <td>6716.0</td>\n",
       "      <td>6716.0</td>\n",
       "      <td>6716.0</td>\n",
       "      <td>6716.0</td>\n",
       "      <td>6716.0</td>\n",
       "      <td>6716.0</td>\n",
       "      <td>6716.0</td>\n",
       "      <td>6716.0</td>\n",
       "    </tr>\n",
       "    <tr>\n",
       "      <th>mean</th>\n",
       "      <td>-0.0</td>\n",
       "      <td>0.0</td>\n",
       "      <td>0.0</td>\n",
       "      <td>0.0</td>\n",
       "      <td>-0.0</td>\n",
       "      <td>0.0</td>\n",
       "      <td>52.0</td>\n",
       "      <td>10.0</td>\n",
       "      <td>101.0</td>\n",
       "      <td>7.0</td>\n",
       "      <td>13.0</td>\n",
       "      <td>3.0</td>\n",
       "    </tr>\n",
       "    <tr>\n",
       "      <th>std</th>\n",
       "      <td>2.0</td>\n",
       "      <td>1.0</td>\n",
       "      <td>2.0</td>\n",
       "      <td>0.0</td>\n",
       "      <td>0.0</td>\n",
       "      <td>0.0</td>\n",
       "      <td>0.0</td>\n",
       "      <td>0.0</td>\n",
       "      <td>8.0</td>\n",
       "      <td>5.0</td>\n",
       "      <td>9.0</td>\n",
       "      <td>2.0</td>\n",
       "    </tr>\n",
       "    <tr>\n",
       "      <th>min</th>\n",
       "      <td>-23.0</td>\n",
       "      <td>-9.0</td>\n",
       "      <td>-12.0</td>\n",
       "      <td>-0.0</td>\n",
       "      <td>-1.0</td>\n",
       "      <td>-0.0</td>\n",
       "      <td>52.0</td>\n",
       "      <td>10.0</td>\n",
       "      <td>87.0</td>\n",
       "      <td>4.0</td>\n",
       "      <td>0.0</td>\n",
       "      <td>1.0</td>\n",
       "    </tr>\n",
       "    <tr>\n",
       "      <th>25%</th>\n",
       "      <td>-0.0</td>\n",
       "      <td>-0.0</td>\n",
       "      <td>-0.0</td>\n",
       "      <td>-0.0</td>\n",
       "      <td>-0.0</td>\n",
       "      <td>-0.0</td>\n",
       "      <td>52.0</td>\n",
       "      <td>10.0</td>\n",
       "      <td>96.0</td>\n",
       "      <td>4.0</td>\n",
       "      <td>5.0</td>\n",
       "      <td>1.0</td>\n",
       "    </tr>\n",
       "    <tr>\n",
       "      <th>50%</th>\n",
       "      <td>0.0</td>\n",
       "      <td>0.0</td>\n",
       "      <td>-0.0</td>\n",
       "      <td>0.0</td>\n",
       "      <td>-0.0</td>\n",
       "      <td>0.0</td>\n",
       "      <td>52.0</td>\n",
       "      <td>10.0</td>\n",
       "      <td>98.0</td>\n",
       "      <td>5.0</td>\n",
       "      <td>12.0</td>\n",
       "      <td>2.0</td>\n",
       "    </tr>\n",
       "    <tr>\n",
       "      <th>75%</th>\n",
       "      <td>1.0</td>\n",
       "      <td>1.0</td>\n",
       "      <td>1.0</td>\n",
       "      <td>0.0</td>\n",
       "      <td>0.0</td>\n",
       "      <td>0.0</td>\n",
       "      <td>52.0</td>\n",
       "      <td>10.0</td>\n",
       "      <td>105.0</td>\n",
       "      <td>8.0</td>\n",
       "      <td>19.0</td>\n",
       "      <td>4.0</td>\n",
       "    </tr>\n",
       "    <tr>\n",
       "      <th>max</th>\n",
       "      <td>15.0</td>\n",
       "      <td>11.0</td>\n",
       "      <td>18.0</td>\n",
       "      <td>0.0</td>\n",
       "      <td>1.0</td>\n",
       "      <td>0.0</td>\n",
       "      <td>52.0</td>\n",
       "      <td>10.0</td>\n",
       "      <td>123.0</td>\n",
       "      <td>96.0</td>\n",
       "      <td>40.0</td>\n",
       "      <td>6.0</td>\n",
       "    </tr>\n",
       "  </tbody>\n",
       "</table>\n",
       "</div>"
      ],
      "text/plain": [
       "         accX    accY    accZ   gyroX   gyroY   gyroZ  latitude  longitude  \\\n",
       "count  6716.0  6716.0  6716.0  6716.0  6716.0  6716.0    6716.0     6716.0   \n",
       "mean     -0.0     0.0     0.0     0.0    -0.0     0.0      52.0       10.0   \n",
       "std       2.0     1.0     2.0     0.0     0.0     0.0       0.0        0.0   \n",
       "min     -23.0    -9.0   -12.0    -0.0    -1.0    -0.0      52.0       10.0   \n",
       "25%      -0.0    -0.0    -0.0    -0.0    -0.0    -0.0      52.0       10.0   \n",
       "50%       0.0     0.0    -0.0     0.0    -0.0     0.0      52.0       10.0   \n",
       "75%       1.0     1.0     1.0     0.0     0.0     0.0      52.0       10.0   \n",
       "max      15.0    11.0    18.0     0.0     1.0     0.0      52.0       10.0   \n",
       "\n",
       "       altitude  accuracy   speed  section  \n",
       "count    6716.0    6716.0  6716.0   6716.0  \n",
       "mean      101.0       7.0    13.0      3.0  \n",
       "std         8.0       5.0     9.0      2.0  \n",
       "min        87.0       4.0     0.0      1.0  \n",
       "25%        96.0       4.0     5.0      1.0  \n",
       "50%        98.0       5.0    12.0      2.0  \n",
       "75%       105.0       8.0    19.0      4.0  \n",
       "max       123.0      96.0    40.0      6.0  "
      ]
     },
     "execution_count": 55,
     "metadata": {},
     "output_type": "execute_result"
    }
   ],
   "source": [
    "df_p1.describe().round()"
   ]
  },
  {
   "cell_type": "code",
   "execution_count": null,
   "metadata": {},
   "outputs": [],
   "source": []
  },
  {
   "cell_type": "code",
   "execution_count": null,
   "metadata": {},
   "outputs": [],
   "source": []
  },
  {
   "cell_type": "code",
   "execution_count": null,
   "metadata": {},
   "outputs": [],
   "source": []
  },
  {
   "cell_type": "code",
   "execution_count": null,
   "metadata": {},
   "outputs": [],
   "source": []
  },
  {
   "cell_type": "code",
   "execution_count": null,
   "metadata": {},
   "outputs": [
    {
     "data": {
      "application/vnd.plotly.v1+json": {
       "config": {
        "plotlyServerURL": "https://plot.ly"
       },
       "data": [
        {
         "alignmentgroup": "True",
         "hovertemplate": "x=%{x}<br>y=%{y}<extra></extra>",
         "legendgroup": "",
         "marker": {
          "color": "#636efa",
          "pattern": {
           "shape": ""
          }
         },
         "name": "",
         "offsetgroup": "",
         "orientation": "v",
         "showlegend": false,
         "textposition": "auto",
         "type": "bar",
         "x": [
          "Fahren_kontinuierlich",
          "Stand",
          "Bremsen_zielgerichtet",
          "Anfahren_aus_Stand",
          "Kurve_rechts",
          "Kurve_links",
          "Abbiegen_links",
          "Abbiegen_rechts",
          "Spurwechsel_links",
          "Spurwechsel_rechts",
          "Abfahrt_Verzögerungsstreifen",
          "Durchfahren_Kreisverkehr",
          "Durchfahren_ampelloser_Kreuzungen",
          "Überholen",
          "Auffahrt_Beschleunigungsstreifen"
         ],
         "xaxis": "x",
         "y": [
          5097,
          1065,
          705,
          381,
          353,
          323,
          272,
          247,
          177,
          139,
          139,
          90,
          89,
          70,
          10
         ],
         "yaxis": "y"
        }
       ],
       "layout": {
        "barmode": "relative",
        "legend": {
         "tracegroupgap": 0
        },
        "template": {
         "data": {
          "bar": [
           {
            "error_x": {
             "color": "#2a3f5f"
            },
            "error_y": {
             "color": "#2a3f5f"
            },
            "marker": {
             "line": {
              "color": "#E5ECF6",
              "width": 0.5
             },
             "pattern": {
              "fillmode": "overlay",
              "size": 10,
              "solidity": 0.2
             }
            },
            "type": "bar"
           }
          ],
          "barpolar": [
           {
            "marker": {
             "line": {
              "color": "#E5ECF6",
              "width": 0.5
             },
             "pattern": {
              "fillmode": "overlay",
              "size": 10,
              "solidity": 0.2
             }
            },
            "type": "barpolar"
           }
          ],
          "carpet": [
           {
            "aaxis": {
             "endlinecolor": "#2a3f5f",
             "gridcolor": "white",
             "linecolor": "white",
             "minorgridcolor": "white",
             "startlinecolor": "#2a3f5f"
            },
            "baxis": {
             "endlinecolor": "#2a3f5f",
             "gridcolor": "white",
             "linecolor": "white",
             "minorgridcolor": "white",
             "startlinecolor": "#2a3f5f"
            },
            "type": "carpet"
           }
          ],
          "choropleth": [
           {
            "colorbar": {
             "outlinewidth": 0,
             "ticks": ""
            },
            "type": "choropleth"
           }
          ],
          "contour": [
           {
            "colorbar": {
             "outlinewidth": 0,
             "ticks": ""
            },
            "colorscale": [
             [
              0,
              "#0d0887"
             ],
             [
              0.1111111111111111,
              "#46039f"
             ],
             [
              0.2222222222222222,
              "#7201a8"
             ],
             [
              0.3333333333333333,
              "#9c179e"
             ],
             [
              0.4444444444444444,
              "#bd3786"
             ],
             [
              0.5555555555555556,
              "#d8576b"
             ],
             [
              0.6666666666666666,
              "#ed7953"
             ],
             [
              0.7777777777777778,
              "#fb9f3a"
             ],
             [
              0.8888888888888888,
              "#fdca26"
             ],
             [
              1,
              "#f0f921"
             ]
            ],
            "type": "contour"
           }
          ],
          "contourcarpet": [
           {
            "colorbar": {
             "outlinewidth": 0,
             "ticks": ""
            },
            "type": "contourcarpet"
           }
          ],
          "heatmap": [
           {
            "colorbar": {
             "outlinewidth": 0,
             "ticks": ""
            },
            "colorscale": [
             [
              0,
              "#0d0887"
             ],
             [
              0.1111111111111111,
              "#46039f"
             ],
             [
              0.2222222222222222,
              "#7201a8"
             ],
             [
              0.3333333333333333,
              "#9c179e"
             ],
             [
              0.4444444444444444,
              "#bd3786"
             ],
             [
              0.5555555555555556,
              "#d8576b"
             ],
             [
              0.6666666666666666,
              "#ed7953"
             ],
             [
              0.7777777777777778,
              "#fb9f3a"
             ],
             [
              0.8888888888888888,
              "#fdca26"
             ],
             [
              1,
              "#f0f921"
             ]
            ],
            "type": "heatmap"
           }
          ],
          "heatmapgl": [
           {
            "colorbar": {
             "outlinewidth": 0,
             "ticks": ""
            },
            "colorscale": [
             [
              0,
              "#0d0887"
             ],
             [
              0.1111111111111111,
              "#46039f"
             ],
             [
              0.2222222222222222,
              "#7201a8"
             ],
             [
              0.3333333333333333,
              "#9c179e"
             ],
             [
              0.4444444444444444,
              "#bd3786"
             ],
             [
              0.5555555555555556,
              "#d8576b"
             ],
             [
              0.6666666666666666,
              "#ed7953"
             ],
             [
              0.7777777777777778,
              "#fb9f3a"
             ],
             [
              0.8888888888888888,
              "#fdca26"
             ],
             [
              1,
              "#f0f921"
             ]
            ],
            "type": "heatmapgl"
           }
          ],
          "histogram": [
           {
            "marker": {
             "pattern": {
              "fillmode": "overlay",
              "size": 10,
              "solidity": 0.2
             }
            },
            "type": "histogram"
           }
          ],
          "histogram2d": [
           {
            "colorbar": {
             "outlinewidth": 0,
             "ticks": ""
            },
            "colorscale": [
             [
              0,
              "#0d0887"
             ],
             [
              0.1111111111111111,
              "#46039f"
             ],
             [
              0.2222222222222222,
              "#7201a8"
             ],
             [
              0.3333333333333333,
              "#9c179e"
             ],
             [
              0.4444444444444444,
              "#bd3786"
             ],
             [
              0.5555555555555556,
              "#d8576b"
             ],
             [
              0.6666666666666666,
              "#ed7953"
             ],
             [
              0.7777777777777778,
              "#fb9f3a"
             ],
             [
              0.8888888888888888,
              "#fdca26"
             ],
             [
              1,
              "#f0f921"
             ]
            ],
            "type": "histogram2d"
           }
          ],
          "histogram2dcontour": [
           {
            "colorbar": {
             "outlinewidth": 0,
             "ticks": ""
            },
            "colorscale": [
             [
              0,
              "#0d0887"
             ],
             [
              0.1111111111111111,
              "#46039f"
             ],
             [
              0.2222222222222222,
              "#7201a8"
             ],
             [
              0.3333333333333333,
              "#9c179e"
             ],
             [
              0.4444444444444444,
              "#bd3786"
             ],
             [
              0.5555555555555556,
              "#d8576b"
             ],
             [
              0.6666666666666666,
              "#ed7953"
             ],
             [
              0.7777777777777778,
              "#fb9f3a"
             ],
             [
              0.8888888888888888,
              "#fdca26"
             ],
             [
              1,
              "#f0f921"
             ]
            ],
            "type": "histogram2dcontour"
           }
          ],
          "mesh3d": [
           {
            "colorbar": {
             "outlinewidth": 0,
             "ticks": ""
            },
            "type": "mesh3d"
           }
          ],
          "parcoords": [
           {
            "line": {
             "colorbar": {
              "outlinewidth": 0,
              "ticks": ""
             }
            },
            "type": "parcoords"
           }
          ],
          "pie": [
           {
            "automargin": true,
            "type": "pie"
           }
          ],
          "scatter": [
           {
            "fillpattern": {
             "fillmode": "overlay",
             "size": 10,
             "solidity": 0.2
            },
            "type": "scatter"
           }
          ],
          "scatter3d": [
           {
            "line": {
             "colorbar": {
              "outlinewidth": 0,
              "ticks": ""
             }
            },
            "marker": {
             "colorbar": {
              "outlinewidth": 0,
              "ticks": ""
             }
            },
            "type": "scatter3d"
           }
          ],
          "scattercarpet": [
           {
            "marker": {
             "colorbar": {
              "outlinewidth": 0,
              "ticks": ""
             }
            },
            "type": "scattercarpet"
           }
          ],
          "scattergeo": [
           {
            "marker": {
             "colorbar": {
              "outlinewidth": 0,
              "ticks": ""
             }
            },
            "type": "scattergeo"
           }
          ],
          "scattergl": [
           {
            "marker": {
             "colorbar": {
              "outlinewidth": 0,
              "ticks": ""
             }
            },
            "type": "scattergl"
           }
          ],
          "scattermapbox": [
           {
            "marker": {
             "colorbar": {
              "outlinewidth": 0,
              "ticks": ""
             }
            },
            "type": "scattermapbox"
           }
          ],
          "scatterpolar": [
           {
            "marker": {
             "colorbar": {
              "outlinewidth": 0,
              "ticks": ""
             }
            },
            "type": "scatterpolar"
           }
          ],
          "scatterpolargl": [
           {
            "marker": {
             "colorbar": {
              "outlinewidth": 0,
              "ticks": ""
             }
            },
            "type": "scatterpolargl"
           }
          ],
          "scatterternary": [
           {
            "marker": {
             "colorbar": {
              "outlinewidth": 0,
              "ticks": ""
             }
            },
            "type": "scatterternary"
           }
          ],
          "surface": [
           {
            "colorbar": {
             "outlinewidth": 0,
             "ticks": ""
            },
            "colorscale": [
             [
              0,
              "#0d0887"
             ],
             [
              0.1111111111111111,
              "#46039f"
             ],
             [
              0.2222222222222222,
              "#7201a8"
             ],
             [
              0.3333333333333333,
              "#9c179e"
             ],
             [
              0.4444444444444444,
              "#bd3786"
             ],
             [
              0.5555555555555556,
              "#d8576b"
             ],
             [
              0.6666666666666666,
              "#ed7953"
             ],
             [
              0.7777777777777778,
              "#fb9f3a"
             ],
             [
              0.8888888888888888,
              "#fdca26"
             ],
             [
              1,
              "#f0f921"
             ]
            ],
            "type": "surface"
           }
          ],
          "table": [
           {
            "cells": {
             "fill": {
              "color": "#EBF0F8"
             },
             "line": {
              "color": "white"
             }
            },
            "header": {
             "fill": {
              "color": "#C8D4E3"
             },
             "line": {
              "color": "white"
             }
            },
            "type": "table"
           }
          ]
         },
         "layout": {
          "annotationdefaults": {
           "arrowcolor": "#2a3f5f",
           "arrowhead": 0,
           "arrowwidth": 1
          },
          "autotypenumbers": "strict",
          "coloraxis": {
           "colorbar": {
            "outlinewidth": 0,
            "ticks": ""
           }
          },
          "colorscale": {
           "diverging": [
            [
             0,
             "#8e0152"
            ],
            [
             0.1,
             "#c51b7d"
            ],
            [
             0.2,
             "#de77ae"
            ],
            [
             0.3,
             "#f1b6da"
            ],
            [
             0.4,
             "#fde0ef"
            ],
            [
             0.5,
             "#f7f7f7"
            ],
            [
             0.6,
             "#e6f5d0"
            ],
            [
             0.7,
             "#b8e186"
            ],
            [
             0.8,
             "#7fbc41"
            ],
            [
             0.9,
             "#4d9221"
            ],
            [
             1,
             "#276419"
            ]
           ],
           "sequential": [
            [
             0,
             "#0d0887"
            ],
            [
             0.1111111111111111,
             "#46039f"
            ],
            [
             0.2222222222222222,
             "#7201a8"
            ],
            [
             0.3333333333333333,
             "#9c179e"
            ],
            [
             0.4444444444444444,
             "#bd3786"
            ],
            [
             0.5555555555555556,
             "#d8576b"
            ],
            [
             0.6666666666666666,
             "#ed7953"
            ],
            [
             0.7777777777777778,
             "#fb9f3a"
            ],
            [
             0.8888888888888888,
             "#fdca26"
            ],
            [
             1,
             "#f0f921"
            ]
           ],
           "sequentialminus": [
            [
             0,
             "#0d0887"
            ],
            [
             0.1111111111111111,
             "#46039f"
            ],
            [
             0.2222222222222222,
             "#7201a8"
            ],
            [
             0.3333333333333333,
             "#9c179e"
            ],
            [
             0.4444444444444444,
             "#bd3786"
            ],
            [
             0.5555555555555556,
             "#d8576b"
            ],
            [
             0.6666666666666666,
             "#ed7953"
            ],
            [
             0.7777777777777778,
             "#fb9f3a"
            ],
            [
             0.8888888888888888,
             "#fdca26"
            ],
            [
             1,
             "#f0f921"
            ]
           ]
          },
          "colorway": [
           "#636efa",
           "#EF553B",
           "#00cc96",
           "#ab63fa",
           "#FFA15A",
           "#19d3f3",
           "#FF6692",
           "#B6E880",
           "#FF97FF",
           "#FECB52"
          ],
          "font": {
           "color": "#2a3f5f"
          },
          "geo": {
           "bgcolor": "white",
           "lakecolor": "white",
           "landcolor": "#E5ECF6",
           "showlakes": true,
           "showland": true,
           "subunitcolor": "white"
          },
          "hoverlabel": {
           "align": "left"
          },
          "hovermode": "closest",
          "mapbox": {
           "style": "light"
          },
          "paper_bgcolor": "white",
          "plot_bgcolor": "#E5ECF6",
          "polar": {
           "angularaxis": {
            "gridcolor": "white",
            "linecolor": "white",
            "ticks": ""
           },
           "bgcolor": "#E5ECF6",
           "radialaxis": {
            "gridcolor": "white",
            "linecolor": "white",
            "ticks": ""
           }
          },
          "scene": {
           "xaxis": {
            "backgroundcolor": "#E5ECF6",
            "gridcolor": "white",
            "gridwidth": 2,
            "linecolor": "white",
            "showbackground": true,
            "ticks": "",
            "zerolinecolor": "white"
           },
           "yaxis": {
            "backgroundcolor": "#E5ECF6",
            "gridcolor": "white",
            "gridwidth": 2,
            "linecolor": "white",
            "showbackground": true,
            "ticks": "",
            "zerolinecolor": "white"
           },
           "zaxis": {
            "backgroundcolor": "#E5ECF6",
            "gridcolor": "white",
            "gridwidth": 2,
            "linecolor": "white",
            "showbackground": true,
            "ticks": "",
            "zerolinecolor": "white"
           }
          },
          "shapedefaults": {
           "line": {
            "color": "#2a3f5f"
           }
          },
          "ternary": {
           "aaxis": {
            "gridcolor": "white",
            "linecolor": "white",
            "ticks": ""
           },
           "baxis": {
            "gridcolor": "white",
            "linecolor": "white",
            "ticks": ""
           },
           "bgcolor": "#E5ECF6",
           "caxis": {
            "gridcolor": "white",
            "linecolor": "white",
            "ticks": ""
           }
          },
          "title": {
           "x": 0.05
          },
          "xaxis": {
           "automargin": true,
           "gridcolor": "white",
           "linecolor": "white",
           "ticks": "",
           "title": {
            "standoff": 15
           },
           "zerolinecolor": "white",
           "zerolinewidth": 2
          },
          "yaxis": {
           "automargin": true,
           "gridcolor": "white",
           "linecolor": "white",
           "ticks": "",
           "title": {
            "standoff": 15
           },
           "zerolinecolor": "white",
           "zerolinewidth": 2
          }
         }
        },
        "title": {
         "text": "Amount of entries per maneuver type"
        },
        "xaxis": {
         "anchor": "y",
         "domain": [
          0,
          1
         ],
         "title": {
          "text": "maneuver"
         }
        },
        "yaxis": {
         "anchor": "x",
         "domain": [
          0,
          1
         ],
         "title": {
          "text": "Amount of entries"
         }
        }
       }
      }
     },
     "metadata": {},
     "output_type": "display_data"
    }
   ],
   "source": [
    "fig = px.bar(x=df_p1.maneuverType.value_counts().index, y=df_p1.maneuverType.value_counts().values,\n",
    "            title='Amount of entries per maneuver type')\n",
    "\n",
    "fig.update_xaxes(title_text='maneuver')\n",
    "fig.update_yaxes(title_text='Amount of entries')\n",
    "fig.show()"
   ]
  },
  {
   "cell_type": "code",
   "execution_count": null,
   "metadata": {},
   "outputs": [],
   "source": [
    "df.loc[(df['maneuverType']=='Fahren_kontinuierlich') & (df['roadType']=='Autobahn') & (df['maneuverElement']=='Verlangsamen'),\n",
    "        'maneuverType'] = 'Verlangsamen_Autobahn'\n",
    "\n",
    "df.loc[(df['maneuverType']=='Fahren_kontinuierlich') & (df['roadType']=='Autobahn') & (df['maneuverElement']=='Beschleunigen'),\n",
    "        'maneuverType'] = 'Beschleunigen_Autobahn'\n",
    "\n",
    "df.loc[(df['maneuverType']=='Fahren_kontinuierlich') & (df['roadType']=='Landstraße') & (df['maneuverElement']=='Verlangsamen'),\n",
    "        'maneuverType'] = 'Verlangsamen_Landstraße'\n",
    "\n",
    "df.loc[(df['maneuverType']=='Fahren_kontinuierlich') & (df['roadType']=='Landstraße') & (df['maneuverElement']=='Beschleunigen'),\n",
    "        'maneuverType'] = 'Beschleunigen_Landstraße'\n",
    "\n",
    "df.loc[(df['maneuverType']=='Fahren_kontinuierlich') & (df['roadType']=='Stadtstraße') & (df['maneuverElement']=='Verlangsamen'),\n",
    "        'maneuverType'] = 'Verlangsamen_Stadtstraße'\n",
    "\n",
    "df.loc[(df['maneuverType']=='Fahren_kontinuierlich') & (df['roadType']=='Stadtstraße') & (df['maneuverElement']=='Beschleunigen'),\n",
    "        'maneuverType'] = 'Beschleunigen_Stadtstraße'\n",
    "\n",
    "df.loc[(df['maneuverType']=='Fahren_kontinuierlich') & (df['roadType']=='Bundesstraße') & (df['maneuverElement']=='Verlangsamen'),\n",
    "        'maneuverType'] = 'Verlangsamen_Bundesstraße'\n",
    "\n",
    "df.loc[(df['maneuverType']=='Fahren_kontinuierlich') & (df['roadType']=='Bundesstraße') & (df['maneuverElement']=='Beschleunigen'),\n",
    "        'maneuverType'] = 'Beschleunigen_Bundesstraße'"
   ]
  }
 ],
 "metadata": {
  "kernelspec": {
   "display_name": "p3-8-tensorflow04-telematic",
   "language": "python",
   "name": "python3"
  },
  "language_info": {
   "codemirror_mode": {
    "name": "ipython",
    "version": 3
   },
   "file_extension": ".py",
   "mimetype": "text/x-python",
   "name": "python",
   "nbconvert_exporter": "python",
   "pygments_lexer": "ipython3",
   "version": "3.8.16"
  },
  "orig_nbformat": 4
 },
 "nbformat": 4,
 "nbformat_minor": 2
}
